{
  "cells": [
    {
      "cell_type": "markdown",
      "metadata": {
        "id": "view-in-github",
        "colab_type": "text"
      },
      "source": [
        "<a href=\"https://colab.research.google.com/github/antbartash/australian_rain/blob/main/BayesianOptimization_skopt.ipynb\" target=\"_parent\"><img src=\"https://colab.research.google.com/assets/colab-badge.svg\" alt=\"Open In Colab\"/></a>"
      ]
    },
    {
      "cell_type": "markdown",
      "metadata": {
        "id": "Ctx4XPVRQtVg"
      },
      "source": [
        "# Setup"
      ]
    },
    {
      "cell_type": "code",
      "execution_count": 7,
      "metadata": {
        "colab": {
          "base_uri": "https://localhost:8080/"
        },
        "id": "_l_Cj5N2H57X",
        "outputId": "94aeb2e1-deaa-4992-b16a-f0f5946ef99b"
      },
      "outputs": [
        {
          "output_type": "stream",
          "name": "stdout",
          "text": [
            "Requirement already satisfied: scikit-optimize in /usr/local/lib/python3.10/dist-packages (0.9.0)\n",
            "Requirement already satisfied: joblib>=0.11 in /usr/local/lib/python3.10/dist-packages (from scikit-optimize) (1.3.2)\n",
            "Requirement already satisfied: pyaml>=16.9 in /usr/local/lib/python3.10/dist-packages (from scikit-optimize) (23.9.7)\n",
            "Requirement already satisfied: numpy>=1.13.3 in /usr/local/lib/python3.10/dist-packages (from scikit-optimize) (1.23.5)\n",
            "Requirement already satisfied: scipy>=0.19.1 in /usr/local/lib/python3.10/dist-packages (from scikit-optimize) (1.11.4)\n",
            "Requirement already satisfied: scikit-learn>=0.20.0 in /usr/local/lib/python3.10/dist-packages (from scikit-optimize) (1.2.2)\n",
            "Requirement already satisfied: PyYAML in /usr/local/lib/python3.10/dist-packages (from pyaml>=16.9->scikit-optimize) (6.0.1)\n",
            "Requirement already satisfied: threadpoolctl>=2.0.0 in /usr/local/lib/python3.10/dist-packages (from scikit-learn>=0.20.0->scikit-optimize) (3.2.0)\n",
            "Requirement already satisfied: catboost in /usr/local/lib/python3.10/dist-packages (1.2.2)\n",
            "Requirement already satisfied: graphviz in /usr/local/lib/python3.10/dist-packages (from catboost) (0.20.1)\n",
            "Requirement already satisfied: matplotlib in /usr/local/lib/python3.10/dist-packages (from catboost) (3.7.1)\n",
            "Requirement already satisfied: numpy>=1.16.0 in /usr/local/lib/python3.10/dist-packages (from catboost) (1.23.5)\n",
            "Requirement already satisfied: pandas>=0.24 in /usr/local/lib/python3.10/dist-packages (from catboost) (1.5.3)\n",
            "Requirement already satisfied: scipy in /usr/local/lib/python3.10/dist-packages (from catboost) (1.11.4)\n",
            "Requirement already satisfied: plotly in /usr/local/lib/python3.10/dist-packages (from catboost) (5.15.0)\n",
            "Requirement already satisfied: six in /usr/local/lib/python3.10/dist-packages (from catboost) (1.16.0)\n",
            "Requirement already satisfied: python-dateutil>=2.8.1 in /usr/local/lib/python3.10/dist-packages (from pandas>=0.24->catboost) (2.8.2)\n",
            "Requirement already satisfied: pytz>=2020.1 in /usr/local/lib/python3.10/dist-packages (from pandas>=0.24->catboost) (2023.3.post1)\n",
            "Requirement already satisfied: contourpy>=1.0.1 in /usr/local/lib/python3.10/dist-packages (from matplotlib->catboost) (1.2.0)\n",
            "Requirement already satisfied: cycler>=0.10 in /usr/local/lib/python3.10/dist-packages (from matplotlib->catboost) (0.12.1)\n",
            "Requirement already satisfied: fonttools>=4.22.0 in /usr/local/lib/python3.10/dist-packages (from matplotlib->catboost) (4.46.0)\n",
            "Requirement already satisfied: kiwisolver>=1.0.1 in /usr/local/lib/python3.10/dist-packages (from matplotlib->catboost) (1.4.5)\n",
            "Requirement already satisfied: packaging>=20.0 in /usr/local/lib/python3.10/dist-packages (from matplotlib->catboost) (23.2)\n",
            "Requirement already satisfied: pillow>=6.2.0 in /usr/local/lib/python3.10/dist-packages (from matplotlib->catboost) (9.4.0)\n",
            "Requirement already satisfied: pyparsing>=2.3.1 in /usr/local/lib/python3.10/dist-packages (from matplotlib->catboost) (3.1.1)\n",
            "Requirement already satisfied: tenacity>=6.2.0 in /usr/local/lib/python3.10/dist-packages (from plotly->catboost) (8.2.3)\n"
          ]
        }
      ],
      "source": [
        "!pip install scikit-optimize\n",
        "!pip install catboost"
      ]
    },
    {
      "cell_type": "code",
      "execution_count": 8,
      "metadata": {
        "id": "Z0lbP1P5NeaY"
      },
      "outputs": [],
      "source": [
        "import numpy as np\n",
        "import pandas as pd\n",
        "import matplotlib.pyplot as plt\n",
        "from catboost import CatBoostClassifier\n",
        "from sklearn.model_selection import train_test_split, cross_validate\n",
        "from skopt import BayesSearchCV\n",
        "from skopt.space import *\n",
        "from skopt.learning import ExtraTreesRegressor\n",
        "from skopt.plots import plot_convergence"
      ]
    },
    {
      "cell_type": "code",
      "execution_count": 9,
      "metadata": {
        "colab": {
          "base_uri": "https://localhost:8080/",
          "height": 274
        },
        "id": "fkHVh6lYNpbx",
        "outputId": "48e2247c-c500-4aec-8406-17faf6fe984e"
      },
      "outputs": [
        {
          "output_type": "stream",
          "name": "stdout",
          "text": [
            "(142193, 23)\n"
          ]
        },
        {
          "output_type": "execute_result",
          "data": {
            "text/plain": [
              "   Location  WindGustDir  WindDir9am  WindDir3pm  MinTemp  MaxTemp  Rainfall  \\\n",
              "0       2.0         13.0        13.0        14.0     13.4     22.9       0.6   \n",
              "1       2.0         14.0         6.0        15.0      7.4     25.1       0.0   \n",
              "2       2.0         15.0        13.0        15.0     12.9     25.7       0.0   \n",
              "3       2.0          4.0         9.0         0.0      9.2     28.0       0.0   \n",
              "4       2.0         13.0         1.0         7.0     17.5     32.3       1.0   \n",
              "\n",
              "   Evaporation  Sunshine  WindGustSpeed  ...  Humidity3pm  Pressure9am  \\\n",
              "0          NaN       NaN           44.0  ...         22.0       1007.7   \n",
              "1          NaN       NaN           44.0  ...         25.0       1010.6   \n",
              "2          NaN       NaN           46.0  ...         30.0       1007.6   \n",
              "3          NaN       NaN           24.0  ...         16.0       1017.6   \n",
              "4          NaN       NaN           41.0  ...         33.0       1010.8   \n",
              "\n",
              "   Pressure3pm  Cloud9am  Cloud3pm  Temp9am  Temp3pm  RainToday  RainTomorrow  \\\n",
              "0       1007.1       8.0       NaN     16.9     21.8        0.0           0.0   \n",
              "1       1007.8       NaN       NaN     17.2     24.3        0.0           0.0   \n",
              "2       1008.7       NaN       2.0     21.0     23.2        0.0           0.0   \n",
              "3       1012.8       NaN       NaN     18.1     26.5        0.0           0.0   \n",
              "4       1006.0       7.0       8.0     17.8     29.7        0.0           0.0   \n",
              "\n",
              "   Month  \n",
              "0   12.0  \n",
              "1   12.0  \n",
              "2   12.0  \n",
              "3   12.0  \n",
              "4   12.0  \n",
              "\n",
              "[5 rows x 23 columns]"
            ],
            "text/html": [
              "\n",
              "  <div id=\"df-c5aa9111-8731-4aea-9b2c-8f931be8a489\" class=\"colab-df-container\">\n",
              "    <div>\n",
              "<style scoped>\n",
              "    .dataframe tbody tr th:only-of-type {\n",
              "        vertical-align: middle;\n",
              "    }\n",
              "\n",
              "    .dataframe tbody tr th {\n",
              "        vertical-align: top;\n",
              "    }\n",
              "\n",
              "    .dataframe thead th {\n",
              "        text-align: right;\n",
              "    }\n",
              "</style>\n",
              "<table border=\"1\" class=\"dataframe\">\n",
              "  <thead>\n",
              "    <tr style=\"text-align: right;\">\n",
              "      <th></th>\n",
              "      <th>Location</th>\n",
              "      <th>WindGustDir</th>\n",
              "      <th>WindDir9am</th>\n",
              "      <th>WindDir3pm</th>\n",
              "      <th>MinTemp</th>\n",
              "      <th>MaxTemp</th>\n",
              "      <th>Rainfall</th>\n",
              "      <th>Evaporation</th>\n",
              "      <th>Sunshine</th>\n",
              "      <th>WindGustSpeed</th>\n",
              "      <th>...</th>\n",
              "      <th>Humidity3pm</th>\n",
              "      <th>Pressure9am</th>\n",
              "      <th>Pressure3pm</th>\n",
              "      <th>Cloud9am</th>\n",
              "      <th>Cloud3pm</th>\n",
              "      <th>Temp9am</th>\n",
              "      <th>Temp3pm</th>\n",
              "      <th>RainToday</th>\n",
              "      <th>RainTomorrow</th>\n",
              "      <th>Month</th>\n",
              "    </tr>\n",
              "  </thead>\n",
              "  <tbody>\n",
              "    <tr>\n",
              "      <th>0</th>\n",
              "      <td>2.0</td>\n",
              "      <td>13.0</td>\n",
              "      <td>13.0</td>\n",
              "      <td>14.0</td>\n",
              "      <td>13.4</td>\n",
              "      <td>22.9</td>\n",
              "      <td>0.6</td>\n",
              "      <td>NaN</td>\n",
              "      <td>NaN</td>\n",
              "      <td>44.0</td>\n",
              "      <td>...</td>\n",
              "      <td>22.0</td>\n",
              "      <td>1007.7</td>\n",
              "      <td>1007.1</td>\n",
              "      <td>8.0</td>\n",
              "      <td>NaN</td>\n",
              "      <td>16.9</td>\n",
              "      <td>21.8</td>\n",
              "      <td>0.0</td>\n",
              "      <td>0.0</td>\n",
              "      <td>12.0</td>\n",
              "    </tr>\n",
              "    <tr>\n",
              "      <th>1</th>\n",
              "      <td>2.0</td>\n",
              "      <td>14.0</td>\n",
              "      <td>6.0</td>\n",
              "      <td>15.0</td>\n",
              "      <td>7.4</td>\n",
              "      <td>25.1</td>\n",
              "      <td>0.0</td>\n",
              "      <td>NaN</td>\n",
              "      <td>NaN</td>\n",
              "      <td>44.0</td>\n",
              "      <td>...</td>\n",
              "      <td>25.0</td>\n",
              "      <td>1010.6</td>\n",
              "      <td>1007.8</td>\n",
              "      <td>NaN</td>\n",
              "      <td>NaN</td>\n",
              "      <td>17.2</td>\n",
              "      <td>24.3</td>\n",
              "      <td>0.0</td>\n",
              "      <td>0.0</td>\n",
              "      <td>12.0</td>\n",
              "    </tr>\n",
              "    <tr>\n",
              "      <th>2</th>\n",
              "      <td>2.0</td>\n",
              "      <td>15.0</td>\n",
              "      <td>13.0</td>\n",
              "      <td>15.0</td>\n",
              "      <td>12.9</td>\n",
              "      <td>25.7</td>\n",
              "      <td>0.0</td>\n",
              "      <td>NaN</td>\n",
              "      <td>NaN</td>\n",
              "      <td>46.0</td>\n",
              "      <td>...</td>\n",
              "      <td>30.0</td>\n",
              "      <td>1007.6</td>\n",
              "      <td>1008.7</td>\n",
              "      <td>NaN</td>\n",
              "      <td>2.0</td>\n",
              "      <td>21.0</td>\n",
              "      <td>23.2</td>\n",
              "      <td>0.0</td>\n",
              "      <td>0.0</td>\n",
              "      <td>12.0</td>\n",
              "    </tr>\n",
              "    <tr>\n",
              "      <th>3</th>\n",
              "      <td>2.0</td>\n",
              "      <td>4.0</td>\n",
              "      <td>9.0</td>\n",
              "      <td>0.0</td>\n",
              "      <td>9.2</td>\n",
              "      <td>28.0</td>\n",
              "      <td>0.0</td>\n",
              "      <td>NaN</td>\n",
              "      <td>NaN</td>\n",
              "      <td>24.0</td>\n",
              "      <td>...</td>\n",
              "      <td>16.0</td>\n",
              "      <td>1017.6</td>\n",
              "      <td>1012.8</td>\n",
              "      <td>NaN</td>\n",
              "      <td>NaN</td>\n",
              "      <td>18.1</td>\n",
              "      <td>26.5</td>\n",
              "      <td>0.0</td>\n",
              "      <td>0.0</td>\n",
              "      <td>12.0</td>\n",
              "    </tr>\n",
              "    <tr>\n",
              "      <th>4</th>\n",
              "      <td>2.0</td>\n",
              "      <td>13.0</td>\n",
              "      <td>1.0</td>\n",
              "      <td>7.0</td>\n",
              "      <td>17.5</td>\n",
              "      <td>32.3</td>\n",
              "      <td>1.0</td>\n",
              "      <td>NaN</td>\n",
              "      <td>NaN</td>\n",
              "      <td>41.0</td>\n",
              "      <td>...</td>\n",
              "      <td>33.0</td>\n",
              "      <td>1010.8</td>\n",
              "      <td>1006.0</td>\n",
              "      <td>7.0</td>\n",
              "      <td>8.0</td>\n",
              "      <td>17.8</td>\n",
              "      <td>29.7</td>\n",
              "      <td>0.0</td>\n",
              "      <td>0.0</td>\n",
              "      <td>12.0</td>\n",
              "    </tr>\n",
              "  </tbody>\n",
              "</table>\n",
              "<p>5 rows × 23 columns</p>\n",
              "</div>\n",
              "    <div class=\"colab-df-buttons\">\n",
              "\n",
              "  <div class=\"colab-df-container\">\n",
              "    <button class=\"colab-df-convert\" onclick=\"convertToInteractive('df-c5aa9111-8731-4aea-9b2c-8f931be8a489')\"\n",
              "            title=\"Convert this dataframe to an interactive table.\"\n",
              "            style=\"display:none;\">\n",
              "\n",
              "  <svg xmlns=\"http://www.w3.org/2000/svg\" height=\"24px\" viewBox=\"0 -960 960 960\">\n",
              "    <path d=\"M120-120v-720h720v720H120Zm60-500h600v-160H180v160Zm220 220h160v-160H400v160Zm0 220h160v-160H400v160ZM180-400h160v-160H180v160Zm440 0h160v-160H620v160ZM180-180h160v-160H180v160Zm440 0h160v-160H620v160Z\"/>\n",
              "  </svg>\n",
              "    </button>\n",
              "\n",
              "  <style>\n",
              "    .colab-df-container {\n",
              "      display:flex;\n",
              "      gap: 12px;\n",
              "    }\n",
              "\n",
              "    .colab-df-convert {\n",
              "      background-color: #E8F0FE;\n",
              "      border: none;\n",
              "      border-radius: 50%;\n",
              "      cursor: pointer;\n",
              "      display: none;\n",
              "      fill: #1967D2;\n",
              "      height: 32px;\n",
              "      padding: 0 0 0 0;\n",
              "      width: 32px;\n",
              "    }\n",
              "\n",
              "    .colab-df-convert:hover {\n",
              "      background-color: #E2EBFA;\n",
              "      box-shadow: 0px 1px 2px rgba(60, 64, 67, 0.3), 0px 1px 3px 1px rgba(60, 64, 67, 0.15);\n",
              "      fill: #174EA6;\n",
              "    }\n",
              "\n",
              "    .colab-df-buttons div {\n",
              "      margin-bottom: 4px;\n",
              "    }\n",
              "\n",
              "    [theme=dark] .colab-df-convert {\n",
              "      background-color: #3B4455;\n",
              "      fill: #D2E3FC;\n",
              "    }\n",
              "\n",
              "    [theme=dark] .colab-df-convert:hover {\n",
              "      background-color: #434B5C;\n",
              "      box-shadow: 0px 1px 3px 1px rgba(0, 0, 0, 0.15);\n",
              "      filter: drop-shadow(0px 1px 2px rgba(0, 0, 0, 0.3));\n",
              "      fill: #FFFFFF;\n",
              "    }\n",
              "  </style>\n",
              "\n",
              "    <script>\n",
              "      const buttonEl =\n",
              "        document.querySelector('#df-c5aa9111-8731-4aea-9b2c-8f931be8a489 button.colab-df-convert');\n",
              "      buttonEl.style.display =\n",
              "        google.colab.kernel.accessAllowed ? 'block' : 'none';\n",
              "\n",
              "      async function convertToInteractive(key) {\n",
              "        const element = document.querySelector('#df-c5aa9111-8731-4aea-9b2c-8f931be8a489');\n",
              "        const dataTable =\n",
              "          await google.colab.kernel.invokeFunction('convertToInteractive',\n",
              "                                                    [key], {});\n",
              "        if (!dataTable) return;\n",
              "\n",
              "        const docLinkHtml = 'Like what you see? Visit the ' +\n",
              "          '<a target=\"_blank\" href=https://colab.research.google.com/notebooks/data_table.ipynb>data table notebook</a>'\n",
              "          + ' to learn more about interactive tables.';\n",
              "        element.innerHTML = '';\n",
              "        dataTable['output_type'] = 'display_data';\n",
              "        await google.colab.output.renderOutput(dataTable, element);\n",
              "        const docLink = document.createElement('div');\n",
              "        docLink.innerHTML = docLinkHtml;\n",
              "        element.appendChild(docLink);\n",
              "      }\n",
              "    </script>\n",
              "  </div>\n",
              "\n",
              "\n",
              "<div id=\"df-037fcfc5-bddc-4a05-8b7a-10638f8bca6a\">\n",
              "  <button class=\"colab-df-quickchart\" onclick=\"quickchart('df-037fcfc5-bddc-4a05-8b7a-10638f8bca6a')\"\n",
              "            title=\"Suggest charts\"\n",
              "            style=\"display:none;\">\n",
              "\n",
              "<svg xmlns=\"http://www.w3.org/2000/svg\" height=\"24px\"viewBox=\"0 0 24 24\"\n",
              "     width=\"24px\">\n",
              "    <g>\n",
              "        <path d=\"M19 3H5c-1.1 0-2 .9-2 2v14c0 1.1.9 2 2 2h14c1.1 0 2-.9 2-2V5c0-1.1-.9-2-2-2zM9 17H7v-7h2v7zm4 0h-2V7h2v10zm4 0h-2v-4h2v4z\"/>\n",
              "    </g>\n",
              "</svg>\n",
              "  </button>\n",
              "\n",
              "<style>\n",
              "  .colab-df-quickchart {\n",
              "      --bg-color: #E8F0FE;\n",
              "      --fill-color: #1967D2;\n",
              "      --hover-bg-color: #E2EBFA;\n",
              "      --hover-fill-color: #174EA6;\n",
              "      --disabled-fill-color: #AAA;\n",
              "      --disabled-bg-color: #DDD;\n",
              "  }\n",
              "\n",
              "  [theme=dark] .colab-df-quickchart {\n",
              "      --bg-color: #3B4455;\n",
              "      --fill-color: #D2E3FC;\n",
              "      --hover-bg-color: #434B5C;\n",
              "      --hover-fill-color: #FFFFFF;\n",
              "      --disabled-bg-color: #3B4455;\n",
              "      --disabled-fill-color: #666;\n",
              "  }\n",
              "\n",
              "  .colab-df-quickchart {\n",
              "    background-color: var(--bg-color);\n",
              "    border: none;\n",
              "    border-radius: 50%;\n",
              "    cursor: pointer;\n",
              "    display: none;\n",
              "    fill: var(--fill-color);\n",
              "    height: 32px;\n",
              "    padding: 0;\n",
              "    width: 32px;\n",
              "  }\n",
              "\n",
              "  .colab-df-quickchart:hover {\n",
              "    background-color: var(--hover-bg-color);\n",
              "    box-shadow: 0 1px 2px rgba(60, 64, 67, 0.3), 0 1px 3px 1px rgba(60, 64, 67, 0.15);\n",
              "    fill: var(--button-hover-fill-color);\n",
              "  }\n",
              "\n",
              "  .colab-df-quickchart-complete:disabled,\n",
              "  .colab-df-quickchart-complete:disabled:hover {\n",
              "    background-color: var(--disabled-bg-color);\n",
              "    fill: var(--disabled-fill-color);\n",
              "    box-shadow: none;\n",
              "  }\n",
              "\n",
              "  .colab-df-spinner {\n",
              "    border: 2px solid var(--fill-color);\n",
              "    border-color: transparent;\n",
              "    border-bottom-color: var(--fill-color);\n",
              "    animation:\n",
              "      spin 1s steps(1) infinite;\n",
              "  }\n",
              "\n",
              "  @keyframes spin {\n",
              "    0% {\n",
              "      border-color: transparent;\n",
              "      border-bottom-color: var(--fill-color);\n",
              "      border-left-color: var(--fill-color);\n",
              "    }\n",
              "    20% {\n",
              "      border-color: transparent;\n",
              "      border-left-color: var(--fill-color);\n",
              "      border-top-color: var(--fill-color);\n",
              "    }\n",
              "    30% {\n",
              "      border-color: transparent;\n",
              "      border-left-color: var(--fill-color);\n",
              "      border-top-color: var(--fill-color);\n",
              "      border-right-color: var(--fill-color);\n",
              "    }\n",
              "    40% {\n",
              "      border-color: transparent;\n",
              "      border-right-color: var(--fill-color);\n",
              "      border-top-color: var(--fill-color);\n",
              "    }\n",
              "    60% {\n",
              "      border-color: transparent;\n",
              "      border-right-color: var(--fill-color);\n",
              "    }\n",
              "    80% {\n",
              "      border-color: transparent;\n",
              "      border-right-color: var(--fill-color);\n",
              "      border-bottom-color: var(--fill-color);\n",
              "    }\n",
              "    90% {\n",
              "      border-color: transparent;\n",
              "      border-bottom-color: var(--fill-color);\n",
              "    }\n",
              "  }\n",
              "</style>\n",
              "\n",
              "  <script>\n",
              "    async function quickchart(key) {\n",
              "      const quickchartButtonEl =\n",
              "        document.querySelector('#' + key + ' button');\n",
              "      quickchartButtonEl.disabled = true;  // To prevent multiple clicks.\n",
              "      quickchartButtonEl.classList.add('colab-df-spinner');\n",
              "      try {\n",
              "        const charts = await google.colab.kernel.invokeFunction(\n",
              "            'suggestCharts', [key], {});\n",
              "      } catch (error) {\n",
              "        console.error('Error during call to suggestCharts:', error);\n",
              "      }\n",
              "      quickchartButtonEl.classList.remove('colab-df-spinner');\n",
              "      quickchartButtonEl.classList.add('colab-df-quickchart-complete');\n",
              "    }\n",
              "    (() => {\n",
              "      let quickchartButtonEl =\n",
              "        document.querySelector('#df-037fcfc5-bddc-4a05-8b7a-10638f8bca6a button');\n",
              "      quickchartButtonEl.style.display =\n",
              "        google.colab.kernel.accessAllowed ? 'block' : 'none';\n",
              "    })();\n",
              "  </script>\n",
              "</div>\n",
              "    </div>\n",
              "  </div>\n"
            ]
          },
          "metadata": {},
          "execution_count": 9
        }
      ],
      "source": [
        "data = pd.read_csv(\n",
        "    'https://raw.githubusercontent.com/antbartash/australian_rain/main/data/data_transformed.csv',\n",
        "    index_col=0\n",
        "  )\n",
        "\n",
        "print(data.shape)\n",
        "data.head()"
      ]
    },
    {
      "cell_type": "code",
      "execution_count": 10,
      "metadata": {
        "id": "1HVsNjIWN8Lo"
      },
      "outputs": [],
      "source": [
        "X, y = data.drop(columns=['RainTomorrow', 'RainToday']), data['RainTomorrow']\n",
        "X_train, X_test, y_train, y_test = train_test_split(X, y, test_size=0.2,\n",
        "                                                    random_state=42)"
      ]
    },
    {
      "cell_type": "code",
      "execution_count": 11,
      "metadata": {
        "colab": {
          "base_uri": "https://localhost:8080/"
        },
        "id": "_DIMIG4RsLns",
        "outputId": "b8518a28-0261-43d9-cd77-d6edb963f304"
      },
      "outputs": [
        {
          "output_type": "execute_result",
          "data": {
            "text/plain": [
              "Location          object\n",
              "WindGustDir       object\n",
              "WindDir9am        object\n",
              "WindDir3pm        object\n",
              "MinTemp          float64\n",
              "MaxTemp          float64\n",
              "Rainfall         float64\n",
              "Evaporation      float64\n",
              "Sunshine         float64\n",
              "WindGustSpeed    float64\n",
              "WindSpeed9am     float64\n",
              "WindSpeed3pm     float64\n",
              "Humidity9am      float64\n",
              "Humidity3pm      float64\n",
              "Pressure9am      float64\n",
              "Pressure3pm      float64\n",
              "Cloud9am         float64\n",
              "Cloud3pm         float64\n",
              "Temp9am          float64\n",
              "Temp3pm          float64\n",
              "Month            float64\n",
              "dtype: object"
            ]
          },
          "metadata": {},
          "execution_count": 11
        }
      ],
      "source": [
        "def get_catboost_dataset(data):\n",
        "    for column in ['Location', 'WindGustDir', 'WindDir9am', 'WindDir3pm']:\n",
        "        data[column] = data[column].astype(np.float32).fillna(-1).apply(lambda x: str(x))\n",
        "    return data\n",
        "\n",
        "X_train, X_test = get_catboost_dataset(X_train), get_catboost_dataset(X_test)\n",
        "\n",
        "X_train.dtypes"
      ]
    },
    {
      "cell_type": "markdown",
      "metadata": {
        "id": "Icg2ov9jQwK-"
      },
      "source": [
        "# Baseline model"
      ]
    },
    {
      "cell_type": "code",
      "execution_count": null,
      "metadata": {
        "colab": {
          "base_uri": "https://localhost:8080/"
        },
        "id": "sDjOFMYFOv6J",
        "outputId": "6356e827-a998-455d-a0fa-9938f50b4fdc"
      },
      "outputs": [
        {
          "name": "stdout",
          "output_type": "stream",
          "text": [
            "Mean train Gini: 0.7969690629654458\n",
            "Mean test Gini: 0.774699918460324\n",
            "Mean fit time: 2.15 s\n"
          ]
        }
      ],
      "source": [
        "baseline_model = CatBoostClassifier(\n",
        "    n_estimators=100,\n",
        "    cat_features=['Location', 'WindGustDir', 'WindDir9am', 'WindDir3pm'],\n",
        "    random_state=42, verbose=False, task_type='GPU'\n",
        ")\n",
        "cv_result = cross_validate(baseline_model, X_train, y_train, scoring='roc_auc',\n",
        "                           return_train_score=True)\n",
        "\n",
        "print(f\"Mean train Gini: {cv_result['train_score'].mean() * 2 - 1}\")\n",
        "print(f\"Mean test Gini: {cv_result['test_score'].mean() * 2 - 1}\")\n",
        "print(f\"Mean fit time: {np.round(cv_result['fit_time'].mean(), 2)} s\")"
      ]
    },
    {
      "cell_type": "markdown",
      "metadata": {
        "id": "WTOYcCoFIA-h"
      },
      "source": [
        "# Bayesian Optimization Gaussian Process (BOGP)"
      ]
    },
    {
      "cell_type": "code",
      "execution_count": null,
      "metadata": {
        "id": "c71VTTeuH_Yp"
      },
      "outputs": [],
      "source": [
        "hyperparameter_space = {\n",
        "    'n_estimators': Integer(low=100, high=500),\n",
        "    'learning_rate': Real(low=1e-6, high=0.5, prior='log-uniform'),\n",
        "    'depth': Integer(1, 8),\n",
        "    'l2_leaf_reg': Real(0.0, 100.0),\n",
        "    # 'random_strength': uniform(loc=0.01, scale=50), # CPU only\n",
        "    'bagging_temperature': Real(0.0, 100.0),\n",
        "    'grow_policy': Categorical(['SymmetricTree', 'Depthwise']),\n",
        "    'scale_pos_weight': Integer(low=1, high=4)\n",
        "}\n",
        "\n",
        "model = CatBoostClassifier(\n",
        "    cat_features=['Location', 'WindGustDir', 'WindDir9am', 'WindDir3pm'],\n",
        "    random_state=42, verbose=False, task_type='GPU'\n",
        ")\n",
        "\n",
        "clf = BayesSearchCV(\n",
        "    model, hyperparameter_space, n_iter=50,\n",
        "    optimizer_kwargs={\n",
        "        'base_estimator': 'GP', # 'RF', 'ET', 'GBRT'\n",
        "        'n_initial_points': 5,\n",
        "        'initial_point_generator': 'random', # 'grid'\n",
        "        'acq_func': 'gp_hedge', # probabilistically choose one of ['EI', 'LCB', 'PI'] acquisition functions at every iteration\n",
        "        'acq_func_kwargs': {'xi': 0.1},\n",
        "        'n_jobs': -1, # default: 1\n",
        "        'random_state': 42\n",
        "    },\n",
        "    scoring='roc_auc', cv=3,\n",
        "    random_state=42, n_jobs=-1, verbose=3\n",
        ")\n",
        "\n",
        "clf.fit(X_train, y_train) # 40 min"
      ]
    },
    {
      "cell_type": "code",
      "execution_count": 16,
      "metadata": {
        "colab": {
          "base_uri": "https://localhost:8080/"
        },
        "id": "L-SpiaLpLdZ4",
        "outputId": "e371e10d-2ed6-4402-a227-14674d611834"
      },
      "outputs": [
        {
          "output_type": "stream",
          "name": "stdout",
          "text": [
            "Best Gini: 0.7877009336342455\n",
            "Best params: OrderedDict([('bagging_temperature', 0.0), ('depth', 7), ('grow_policy', 'SymmetricTree'), ('l2_leaf_reg', 100.0), ('learning_rate', 0.49999999999999994), ('n_estimators', 500), ('scale_pos_weight', 1)])\n"
          ]
        }
      ],
      "source": [
        "print(f\"Best Gini: {clf.best_score_ * 2 - 1}\")\n",
        "print(f\"Best params: {clf.best_params_}\")"
      ]
    },
    {
      "cell_type": "code",
      "execution_count": 17,
      "metadata": {
        "colab": {
          "base_uri": "https://localhost:8080/",
          "height": 473
        },
        "id": "JDabyfzyt5kn",
        "outputId": "24c91ee9-74fd-441e-ef3d-be9be0733ddc"
      },
      "outputs": [
        {
          "output_type": "display_data",
          "data": {
            "text/plain": [
              "<Figure size 640x480 with 1 Axes>"
            ],
            "image/png": "[encoded data removed]"
          },
          "metadata": {}
        }
      ],
      "source": [
        "plot_convergence(clf.optimizer_results_)\n",
        "plt.show()"
      ]
    },
    {
      "cell_type": "markdown",
      "metadata": {
        "id": "SuOPWZQp8Obp"
      },
      "source": [
        "# Bayesian Optimization with GBRT"
      ]
    },
    {
      "cell_type": "markdown",
      "source": [
        "## xi=0.01 (default)"
      ],
      "metadata": {
        "id": "LO6Dac4e8W3e"
      }
    },
    {
      "cell_type": "code",
      "execution_count": null,
      "metadata": {
        "id": "ZVUfwFJv7E2u"
      },
      "outputs": [],
      "source": [
        "hyperparameter_space = {\n",
        "    'n_estimators': Integer(low=100, high=500),\n",
        "    'learning_rate': Real(low=1e-6, high=0.5, prior='log-uniform'),\n",
        "    'depth': Integer(1, 8),\n",
        "    'l2_leaf_reg': Real(0.0, 100.0),\n",
        "    # 'random_strength': uniform(loc=0.01, scale=50), # CPU only\n",
        "    'bagging_temperature': Real(0.0, 100.0),\n",
        "    'grow_policy': Categorical(['SymmetricTree', 'Depthwise']),\n",
        "    'scale_pos_weight': Integer(low=1, high=4)\n",
        "}\n",
        "\n",
        "model = CatBoostClassifier(\n",
        "    cat_features=['Location', 'WindGustDir', 'WindDir9am', 'WindDir3pm'],\n",
        "    random_state=42, verbose=False, task_type='GPU'\n",
        ")\n",
        "\n",
        "clf = BayesSearchCV(\n",
        "    model, hyperparameter_space, n_iter=50,\n",
        "    optimizer_kwargs={\n",
        "        'base_estimator': 'GBRT', # 'RF', 'ET', 'GBRT'\n",
        "        'n_initial_points': 5,\n",
        "        'initial_point_generator': 'random', # 'grid'\n",
        "        'acq_func': 'gp_hedge', # probabilistically choose one of ['EI', 'LCB', 'PI'] acquisition functions at every iteration\n",
        "        'acq_func_kwargs': {'xi': 0.01},\n",
        "        'n_jobs': -1, # default: 1\n",
        "        'random_state': 42\n",
        "    },\n",
        "    scoring='roc_auc', cv=3,\n",
        "    random_state=42, n_jobs=-1, verbose=3\n",
        ")\n",
        "\n",
        "clf.fit(X_train, y_train) # 40 min"
      ]
    },
    {
      "cell_type": "code",
      "source": [
        "print(f\"Best Gini: {clf.best_score_ * 2 - 1}\")\n",
        "print(f\"Best params: {clf.best_params_}\")"
      ],
      "metadata": {
        "id": "_Rnz_7xwpeEA",
        "outputId": "387fbedc-9ca3-41b6-fe46-58d147d8655d",
        "colab": {
          "base_uri": "https://localhost:8080/"
        }
      },
      "execution_count": 30,
      "outputs": [
        {
          "output_type": "stream",
          "name": "stdout",
          "text": [
            "Best Gini: 0.7815301301718047\n",
            "Best params: OrderedDict([('bagging_temperature', 3.382901552513196), ('depth', 5), ('grow_policy', 'SymmetricTree'), ('l2_leaf_reg', 29.020861609261033), ('learning_rate', 0.38848151497632455), ('n_estimators', 285), ('scale_pos_weight', 3)])\n"
          ]
        }
      ]
    },
    {
      "cell_type": "code",
      "source": [
        "plot_convergence(clf.optimizer_results_)\n",
        "plt.show()"
      ],
      "metadata": {
        "id": "9aDv-gB0xtXy",
        "outputId": "dbfd9233-ba9c-4844-eb44-013296610005",
        "colab": {
          "base_uri": "https://localhost:8080/",
          "height": 473
        }
      },
      "execution_count": 31,
      "outputs": [
        {
          "output_type": "display_data",
          "data": {
            "text/plain": [
              "<Figure size 640x480 with 1 Axes>"
            ],
            "image/png": "[encoded data removed]"
          },
          "metadata": {}
        }
      ]
    },
    {
      "cell_type": "code",
      "source": [
        "plt.plot(clf.cv_results_['mean_test_score'])"
      ],
      "metadata": {
        "id": "AP2CiqDh8KAk",
        "outputId": "d78352fb-b33b-4e2e-86a0-37f24872f991",
        "colab": {
          "base_uri": "https://localhost:8080/",
          "height": 448
        }
      },
      "execution_count": 34,
      "outputs": [
        {
          "output_type": "execute_result",
          "data": {
            "text/plain": [
              "[<matplotlib.lines.Line2D at 0x78b06152e980>]"
            ]
          },
          "metadata": {},
          "execution_count": 34
        },
        {
          "output_type": "display_data",
          "data": {
            "text/plain": [
              "<Figure size 640x480 with 1 Axes>"
            ],
            "image/png": "[encoded data removed]"
          },
          "metadata": {}
        }
      ]
    },
    {
      "cell_type": "markdown",
      "source": [
        "## xi=0.3"
      ],
      "metadata": {
        "id": "7y8DmrTG8TNK"
      }
    },
    {
      "cell_type": "code",
      "source": [
        "hyperparameter_space = {\n",
        "    'n_estimators': Integer(low=100, high=500),\n",
        "    'learning_rate': Real(low=1e-6, high=0.5, prior='log-uniform'),\n",
        "    'depth': Integer(1, 8),\n",
        "    'l2_leaf_reg': Real(0.0, 100.0),\n",
        "    # 'random_strength': uniform(loc=0.01, scale=50), # CPU only\n",
        "    'bagging_temperature': Real(0.0, 100.0),\n",
        "    'grow_policy': Categorical(['SymmetricTree', 'Depthwise']),\n",
        "    'scale_pos_weight': Integer(low=1, high=4)\n",
        "}\n",
        "\n",
        "model = CatBoostClassifier(\n",
        "    cat_features=['Location', 'WindGustDir', 'WindDir9am', 'WindDir3pm'],\n",
        "    random_state=42, verbose=False, task_type='GPU'\n",
        ")\n",
        "\n",
        "clf = BayesSearchCV(\n",
        "    model, hyperparameter_space, n_iter=50,\n",
        "    optimizer_kwargs={\n",
        "        'base_estimator': 'GBRT', # 'RF', 'ET', 'GBRT'\n",
        "        'n_initial_points': 5,\n",
        "        'initial_point_generator': 'random', # 'grid'\n",
        "        'acq_func': 'gp_hedge', # probabilistically choose one of ['EI', 'LCB', 'PI'] acquisition functions at every iteration\n",
        "        'acq_func_kwargs': {'xi': 0.3},\n",
        "        'n_jobs': -1, # default: 1\n",
        "        'random_state': 42\n",
        "    },\n",
        "    scoring='roc_auc', cv=3,\n",
        "    random_state=42, n_jobs=-1, verbose=3\n",
        ")\n",
        "\n",
        "clf.fit(X_train, y_train)"
      ],
      "metadata": {
        "id": "KXSMMWxX7WhF",
        "outputId": "06975a35-40d0-4afc-e8f5-a87c236d65d0",
        "colab": {
          "base_uri": "https://localhost:8080/"
        }
      },
      "execution_count": null,
      "outputs": [
        {
          "output_type": "stream",
          "name": "stdout",
          "text": [
            "Fitting 3 folds for each of 1 candidates, totalling 3 fits\n"
          ]
        }
      ]
    },
    {
      "cell_type": "code",
      "source": [],
      "metadata": {
        "id": "NxnPSKlA8huf"
      },
      "execution_count": null,
      "outputs": []
    }
  ],
  "metadata": {
    "accelerator": "GPU",
    "colab": {
      "gpuType": "T4",
      "provenance": [],
      "toc_visible": true,
      "include_colab_link": true
    },
    "kernelspec": {
      "display_name": "Python 3",
      "name": "python3"
    },
    "language_info": {
      "codemirror_mode": {
        "name": "ipython",
        "version": 3
      },
      "file_extension": ".py",
      "mimetype": "text/x-python",
      "name": "python",
      "nbconvert_exporter": "python",
      "pygments_lexer": "ipython3",
      "version": "3.9.13"
    }
  },
  "nbformat": 4,
  "nbformat_minor": 0
}