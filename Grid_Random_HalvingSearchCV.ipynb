{
  "cells": [
    {
      "cell_type": "markdown",
      "metadata": {
        "id": "view-in-github",
        "colab_type": "text"
      },
      "source": [
        "<a href=\"https://colab.research.google.com/github/antbartash/australian_rain/blob/main/Grid_Random_HalvingSearchCV.ipynb\" target=\"_parent\"><img src=\"https://colab.research.google.com/assets/colab-badge.svg\" alt=\"Open In Colab\"/></a>"
      ]
    },
    {
      "cell_type": "markdown",
      "metadata": {
        "id": "Ctx4XPVRQtVg"
      },
      "source": [
        "# Setup"
      ]
    },
    {
      "cell_type": "code",
      "execution_count": 1,
      "metadata": {
        "colab": {
          "base_uri": "https://localhost:8080/"
        },
        "id": "oqh2wA5yIxQU",
        "outputId": "25567f51-1868-4c2e-a228-0ca9e9fc8fda"
      },
      "outputs": [
        {
          "output_type": "stream",
          "name": "stdout",
          "text": [
            "Collecting catboost\n",
            "  Downloading catboost-1.2.2-cp310-cp310-manylinux2014_x86_64.whl (98.7 MB)\n",
            "\u001b[2K     \u001b[90m━━━━━━━━━━━━━━━━━━━━━━━━━━━━━━━━━━━━━━━━\u001b[0m \u001b[32m98.7/98.7 MB\u001b[0m \u001b[31m7.1 MB/s\u001b[0m eta \u001b[36m0:00:00\u001b[0m\n",
            "\u001b[?25hRequirement already satisfied: graphviz in /usr/local/lib/python3.10/dist-packages (from catboost) (0.20.1)\n",
            "Requirement already satisfied: matplotlib in /usr/local/lib/python3.10/dist-packages (from catboost) (3.7.1)\n",
            "Requirement already satisfied: numpy>=1.16.0 in /usr/local/lib/python3.10/dist-packages (from catboost) (1.23.5)\n",
            "Requirement already satisfied: pandas>=0.24 in /usr/local/lib/python3.10/dist-packages (from catboost) (1.5.3)\n",
            "Requirement already satisfied: scipy in /usr/local/lib/python3.10/dist-packages (from catboost) (1.11.4)\n",
            "Requirement already satisfied: plotly in /usr/local/lib/python3.10/dist-packages (from catboost) (5.15.0)\n",
            "Requirement already satisfied: six in /usr/local/lib/python3.10/dist-packages (from catboost) (1.16.0)\n",
            "Requirement already satisfied: python-dateutil>=2.8.1 in /usr/local/lib/python3.10/dist-packages (from pandas>=0.24->catboost) (2.8.2)\n",
            "Requirement already satisfied: pytz>=2020.1 in /usr/local/lib/python3.10/dist-packages (from pandas>=0.24->catboost) (2023.3.post1)\n",
            "Requirement already satisfied: contourpy>=1.0.1 in /usr/local/lib/python3.10/dist-packages (from matplotlib->catboost) (1.2.0)\n",
            "Requirement already satisfied: cycler>=0.10 in /usr/local/lib/python3.10/dist-packages (from matplotlib->catboost) (0.12.1)\n",
            "Requirement already satisfied: fonttools>=4.22.0 in /usr/local/lib/python3.10/dist-packages (from matplotlib->catboost) (4.46.0)\n",
            "Requirement already satisfied: kiwisolver>=1.0.1 in /usr/local/lib/python3.10/dist-packages (from matplotlib->catboost) (1.4.5)\n",
            "Requirement already satisfied: packaging>=20.0 in /usr/local/lib/python3.10/dist-packages (from matplotlib->catboost) (23.2)\n",
            "Requirement already satisfied: pillow>=6.2.0 in /usr/local/lib/python3.10/dist-packages (from matplotlib->catboost) (9.4.0)\n",
            "Requirement already satisfied: pyparsing>=2.3.1 in /usr/local/lib/python3.10/dist-packages (from matplotlib->catboost) (3.1.1)\n",
            "Requirement already satisfied: tenacity>=6.2.0 in /usr/local/lib/python3.10/dist-packages (from plotly->catboost) (8.2.3)\n",
            "Installing collected packages: catboost\n",
            "Successfully installed catboost-1.2.2\n"
          ]
        }
      ],
      "source": [
        "pip install catboost"
      ]
    },
    {
      "cell_type": "code",
      "execution_count": 2,
      "metadata": {
        "id": "Z0lbP1P5NeaY"
      },
      "outputs": [],
      "source": [
        "import numpy as np\n",
        "import pandas as pd\n",
        "import matplotlib.pyplot as plt\n",
        "from sklearn.model_selection import (\n",
        "    train_test_split, cross_validate, GridSearchCV, RandomizedSearchCV\n",
        ")\n",
        "from scipy.stats import uniform, randint\n",
        "from lightgbm import LGBMClassifier\n",
        "from catboost import CatBoostClassifier"
      ]
    },
    {
      "cell_type": "code",
      "execution_count": 3,
      "metadata": {
        "colab": {
          "base_uri": "https://localhost:8080/",
          "height": 273
        },
        "id": "fkHVh6lYNpbx",
        "outputId": "590168b2-ac3a-417b-e0b4-be21452bd1f0"
      },
      "outputs": [
        {
          "output_type": "stream",
          "name": "stdout",
          "text": [
            "(142193, 23)\n"
          ]
        },
        {
          "output_type": "execute_result",
          "data": {
            "text/plain": [
              "   Location  WindGustDir  WindDir9am  WindDir3pm  MinTemp  MaxTemp  Rainfall  \\\n",
              "0       2.0         13.0        13.0        14.0     13.4     22.9       0.6   \n",
              "1       2.0         14.0         6.0        15.0      7.4     25.1       0.0   \n",
              "2       2.0         15.0        13.0        15.0     12.9     25.7       0.0   \n",
              "3       2.0          4.0         9.0         0.0      9.2     28.0       0.0   \n",
              "4       2.0         13.0         1.0         7.0     17.5     32.3       1.0   \n",
              "\n",
              "   Evaporation  Sunshine  WindGustSpeed  ...  Humidity3pm  Pressure9am  \\\n",
              "0          NaN       NaN           44.0  ...         22.0       1007.7   \n",
              "1          NaN       NaN           44.0  ...         25.0       1010.6   \n",
              "2          NaN       NaN           46.0  ...         30.0       1007.6   \n",
              "3          NaN       NaN           24.0  ...         16.0       1017.6   \n",
              "4          NaN       NaN           41.0  ...         33.0       1010.8   \n",
              "\n",
              "   Pressure3pm  Cloud9am  Cloud3pm  Temp9am  Temp3pm  RainToday  RainTomorrow  \\\n",
              "0       1007.1       8.0       NaN     16.9     21.8        0.0           0.0   \n",
              "1       1007.8       NaN       NaN     17.2     24.3        0.0           0.0   \n",
              "2       1008.7       NaN       2.0     21.0     23.2        0.0           0.0   \n",
              "3       1012.8       NaN       NaN     18.1     26.5        0.0           0.0   \n",
              "4       1006.0       7.0       8.0     17.8     29.7        0.0           0.0   \n",
              "\n",
              "   Month  \n",
              "0   12.0  \n",
              "1   12.0  \n",
              "2   12.0  \n",
              "3   12.0  \n",
              "4   12.0  \n",
              "\n",
              "[5 rows x 23 columns]"
            ],
            "text/html": [
              "\n",
              "  <div id=\"df-d0a397cd-da75-4a08-8a6b-ec87918b4790\" class=\"colab-df-container\">\n",
              "    <div>\n",
              "<style scoped>\n",
              "    .dataframe tbody tr th:only-of-type {\n",
              "        vertical-align: middle;\n",
              "    }\n",
              "\n",
              "    .dataframe tbody tr th {\n",
              "        vertical-align: top;\n",
              "    }\n",
              "\n",
              "    .dataframe thead th {\n",
              "        text-align: right;\n",
              "    }\n",
              "</style>\n",
              "<table border=\"1\" class=\"dataframe\">\n",
              "  <thead>\n",
              "    <tr style=\"text-align: right;\">\n",
              "      <th></th>\n",
              "      <th>Location</th>\n",
              "      <th>WindGustDir</th>\n",
              "      <th>WindDir9am</th>\n",
              "      <th>WindDir3pm</th>\n",
              "      <th>MinTemp</th>\n",
              "      <th>MaxTemp</th>\n",
              "      <th>Rainfall</th>\n",
              "      <th>Evaporation</th>\n",
              "      <th>Sunshine</th>\n",
              "      <th>WindGustSpeed</th>\n",
              "      <th>...</th>\n",
              "      <th>Humidity3pm</th>\n",
              "      <th>Pressure9am</th>\n",
              "      <th>Pressure3pm</th>\n",
              "      <th>Cloud9am</th>\n",
              "      <th>Cloud3pm</th>\n",
              "      <th>Temp9am</th>\n",
              "      <th>Temp3pm</th>\n",
              "      <th>RainToday</th>\n",
              "      <th>RainTomorrow</th>\n",
              "      <th>Month</th>\n",
              "    </tr>\n",
              "  </thead>\n",
              "  <tbody>\n",
              "    <tr>\n",
              "      <th>0</th>\n",
              "      <td>2.0</td>\n",
              "      <td>13.0</td>\n",
              "      <td>13.0</td>\n",
              "      <td>14.0</td>\n",
              "      <td>13.4</td>\n",
              "      <td>22.9</td>\n",
              "      <td>0.6</td>\n",
              "      <td>NaN</td>\n",
              "      <td>NaN</td>\n",
              "      <td>44.0</td>\n",
              "      <td>...</td>\n",
              "      <td>22.0</td>\n",
              "      <td>1007.7</td>\n",
              "      <td>1007.1</td>\n",
              "      <td>8.0</td>\n",
              "      <td>NaN</td>\n",
              "      <td>16.9</td>\n",
              "      <td>21.8</td>\n",
              "      <td>0.0</td>\n",
              "      <td>0.0</td>\n",
              "      <td>12.0</td>\n",
              "    </tr>\n",
              "    <tr>\n",
              "      <th>1</th>\n",
              "      <td>2.0</td>\n",
              "      <td>14.0</td>\n",
              "      <td>6.0</td>\n",
              "      <td>15.0</td>\n",
              "      <td>7.4</td>\n",
              "      <td>25.1</td>\n",
              "      <td>0.0</td>\n",
              "      <td>NaN</td>\n",
              "      <td>NaN</td>\n",
              "      <td>44.0</td>\n",
              "      <td>...</td>\n",
              "      <td>25.0</td>\n",
              "      <td>1010.6</td>\n",
              "      <td>1007.8</td>\n",
              "      <td>NaN</td>\n",
              "      <td>NaN</td>\n",
              "      <td>17.2</td>\n",
              "      <td>24.3</td>\n",
              "      <td>0.0</td>\n",
              "      <td>0.0</td>\n",
              "      <td>12.0</td>\n",
              "    </tr>\n",
              "    <tr>\n",
              "      <th>2</th>\n",
              "      <td>2.0</td>\n",
              "      <td>15.0</td>\n",
              "      <td>13.0</td>\n",
              "      <td>15.0</td>\n",
              "      <td>12.9</td>\n",
              "      <td>25.7</td>\n",
              "      <td>0.0</td>\n",
              "      <td>NaN</td>\n",
              "      <td>NaN</td>\n",
              "      <td>46.0</td>\n",
              "      <td>...</td>\n",
              "      <td>30.0</td>\n",
              "      <td>1007.6</td>\n",
              "      <td>1008.7</td>\n",
              "      <td>NaN</td>\n",
              "      <td>2.0</td>\n",
              "      <td>21.0</td>\n",
              "      <td>23.2</td>\n",
              "      <td>0.0</td>\n",
              "      <td>0.0</td>\n",
              "      <td>12.0</td>\n",
              "    </tr>\n",
              "    <tr>\n",
              "      <th>3</th>\n",
              "      <td>2.0</td>\n",
              "      <td>4.0</td>\n",
              "      <td>9.0</td>\n",
              "      <td>0.0</td>\n",
              "      <td>9.2</td>\n",
              "      <td>28.0</td>\n",
              "      <td>0.0</td>\n",
              "      <td>NaN</td>\n",
              "      <td>NaN</td>\n",
              "      <td>24.0</td>\n",
              "      <td>...</td>\n",
              "      <td>16.0</td>\n",
              "      <td>1017.6</td>\n",
              "      <td>1012.8</td>\n",
              "      <td>NaN</td>\n",
              "      <td>NaN</td>\n",
              "      <td>18.1</td>\n",
              "      <td>26.5</td>\n",
              "      <td>0.0</td>\n",
              "      <td>0.0</td>\n",
              "      <td>12.0</td>\n",
              "    </tr>\n",
              "    <tr>\n",
              "      <th>4</th>\n",
              "      <td>2.0</td>\n",
              "      <td>13.0</td>\n",
              "      <td>1.0</td>\n",
              "      <td>7.0</td>\n",
              "      <td>17.5</td>\n",
              "      <td>32.3</td>\n",
              "      <td>1.0</td>\n",
              "      <td>NaN</td>\n",
              "      <td>NaN</td>\n",
              "      <td>41.0</td>\n",
              "      <td>...</td>\n",
              "      <td>33.0</td>\n",
              "      <td>1010.8</td>\n",
              "      <td>1006.0</td>\n",
              "      <td>7.0</td>\n",
              "      <td>8.0</td>\n",
              "      <td>17.8</td>\n",
              "      <td>29.7</td>\n",
              "      <td>0.0</td>\n",
              "      <td>0.0</td>\n",
              "      <td>12.0</td>\n",
              "    </tr>\n",
              "  </tbody>\n",
              "</table>\n",
              "<p>5 rows × 23 columns</p>\n",
              "</div>\n",
              "    <div class=\"colab-df-buttons\">\n",
              "\n",
              "  <div class=\"colab-df-container\">\n",
              "    <button class=\"colab-df-convert\" onclick=\"convertToInteractive('df-d0a397cd-da75-4a08-8a6b-ec87918b4790')\"\n",
              "            title=\"Convert this dataframe to an interactive table.\"\n",
              "            style=\"display:none;\">\n",
              "\n",
              "  <svg xmlns=\"http://www.w3.org/2000/svg\" height=\"24px\" viewBox=\"0 -960 960 960\">\n",
              "    <path d=\"M120-120v-720h720v720H120Zm60-500h600v-160H180v160Zm220 220h160v-160H400v160Zm0 220h160v-160H400v160ZM180-400h160v-160H180v160Zm440 0h160v-160H620v160ZM180-180h160v-160H180v160Zm440 0h160v-160H620v160Z\"/>\n",
              "  </svg>\n",
              "    </button>\n",
              "\n",
              "  <style>\n",
              "    .colab-df-container {\n",
              "      display:flex;\n",
              "      gap: 12px;\n",
              "    }\n",
              "\n",
              "    .colab-df-convert {\n",
              "      background-color: #E8F0FE;\n",
              "      border: none;\n",
              "      border-radius: 50%;\n",
              "      cursor: pointer;\n",
              "      display: none;\n",
              "      fill: #1967D2;\n",
              "      height: 32px;\n",
              "      padding: 0 0 0 0;\n",
              "      width: 32px;\n",
              "    }\n",
              "\n",
              "    .colab-df-convert:hover {\n",
              "      background-color: #E2EBFA;\n",
              "      box-shadow: 0px 1px 2px rgba(60, 64, 67, 0.3), 0px 1px 3px 1px rgba(60, 64, 67, 0.15);\n",
              "      fill: #174EA6;\n",
              "    }\n",
              "\n",
              "    .colab-df-buttons div {\n",
              "      margin-bottom: 4px;\n",
              "    }\n",
              "\n",
              "    [theme=dark] .colab-df-convert {\n",
              "      background-color: #3B4455;\n",
              "      fill: #D2E3FC;\n",
              "    }\n",
              "\n",
              "    [theme=dark] .colab-df-convert:hover {\n",
              "      background-color: #434B5C;\n",
              "      box-shadow: 0px 1px 3px 1px rgba(0, 0, 0, 0.15);\n",
              "      filter: drop-shadow(0px 1px 2px rgba(0, 0, 0, 0.3));\n",
              "      fill: #FFFFFF;\n",
              "    }\n",
              "  </style>\n",
              "\n",
              "    <script>\n",
              "      const buttonEl =\n",
              "        document.querySelector('#df-d0a397cd-da75-4a08-8a6b-ec87918b4790 button.colab-df-convert');\n",
              "      buttonEl.style.display =\n",
              "        google.colab.kernel.accessAllowed ? 'block' : 'none';\n",
              "\n",
              "      async function convertToInteractive(key) {\n",
              "        const element = document.querySelector('#df-d0a397cd-da75-4a08-8a6b-ec87918b4790');\n",
              "        const dataTable =\n",
              "          await google.colab.kernel.invokeFunction('convertToInteractive',\n",
              "                                                    [key], {});\n",
              "        if (!dataTable) return;\n",
              "\n",
              "        const docLinkHtml = 'Like what you see? Visit the ' +\n",
              "          '<a target=\"_blank\" href=https://colab.research.google.com/notebooks/data_table.ipynb>data table notebook</a>'\n",
              "          + ' to learn more about interactive tables.';\n",
              "        element.innerHTML = '';\n",
              "        dataTable['output_type'] = 'display_data';\n",
              "        await google.colab.output.renderOutput(dataTable, element);\n",
              "        const docLink = document.createElement('div');\n",
              "        docLink.innerHTML = docLinkHtml;\n",
              "        element.appendChild(docLink);\n",
              "      }\n",
              "    </script>\n",
              "  </div>\n",
              "\n",
              "\n",
              "<div id=\"df-608dd3ff-4d5a-40f4-a962-24a383e2cd27\">\n",
              "  <button class=\"colab-df-quickchart\" onclick=\"quickchart('df-608dd3ff-4d5a-40f4-a962-24a383e2cd27')\"\n",
              "            title=\"Suggest charts\"\n",
              "            style=\"display:none;\">\n",
              "\n",
              "<svg xmlns=\"http://www.w3.org/2000/svg\" height=\"24px\"viewBox=\"0 0 24 24\"\n",
              "     width=\"24px\">\n",
              "    <g>\n",
              "        <path d=\"M19 3H5c-1.1 0-2 .9-2 2v14c0 1.1.9 2 2 2h14c1.1 0 2-.9 2-2V5c0-1.1-.9-2-2-2zM9 17H7v-7h2v7zm4 0h-2V7h2v10zm4 0h-2v-4h2v4z\"/>\n",
              "    </g>\n",
              "</svg>\n",
              "  </button>\n",
              "\n",
              "<style>\n",
              "  .colab-df-quickchart {\n",
              "      --bg-color: #E8F0FE;\n",
              "      --fill-color: #1967D2;\n",
              "      --hover-bg-color: #E2EBFA;\n",
              "      --hover-fill-color: #174EA6;\n",
              "      --disabled-fill-color: #AAA;\n",
              "      --disabled-bg-color: #DDD;\n",
              "  }\n",
              "\n",
              "  [theme=dark] .colab-df-quickchart {\n",
              "      --bg-color: #3B4455;\n",
              "      --fill-color: #D2E3FC;\n",
              "      --hover-bg-color: #434B5C;\n",
              "      --hover-fill-color: #FFFFFF;\n",
              "      --disabled-bg-color: #3B4455;\n",
              "      --disabled-fill-color: #666;\n",
              "  }\n",
              "\n",
              "  .colab-df-quickchart {\n",
              "    background-color: var(--bg-color);\n",
              "    border: none;\n",
              "    border-radius: 50%;\n",
              "    cursor: pointer;\n",
              "    display: none;\n",
              "    fill: var(--fill-color);\n",
              "    height: 32px;\n",
              "    padding: 0;\n",
              "    width: 32px;\n",
              "  }\n",
              "\n",
              "  .colab-df-quickchart:hover {\n",
              "    background-color: var(--hover-bg-color);\n",
              "    box-shadow: 0 1px 2px rgba(60, 64, 67, 0.3), 0 1px 3px 1px rgba(60, 64, 67, 0.15);\n",
              "    fill: var(--button-hover-fill-color);\n",
              "  }\n",
              "\n",
              "  .colab-df-quickchart-complete:disabled,\n",
              "  .colab-df-quickchart-complete:disabled:hover {\n",
              "    background-color: var(--disabled-bg-color);\n",
              "    fill: var(--disabled-fill-color);\n",
              "    box-shadow: none;\n",
              "  }\n",
              "\n",
              "  .colab-df-spinner {\n",
              "    border: 2px solid var(--fill-color);\n",
              "    border-color: transparent;\n",
              "    border-bottom-color: var(--fill-color);\n",
              "    animation:\n",
              "      spin 1s steps(1) infinite;\n",
              "  }\n",
              "\n",
              "  @keyframes spin {\n",
              "    0% {\n",
              "      border-color: transparent;\n",
              "      border-bottom-color: var(--fill-color);\n",
              "      border-left-color: var(--fill-color);\n",
              "    }\n",
              "    20% {\n",
              "      border-color: transparent;\n",
              "      border-left-color: var(--fill-color);\n",
              "      border-top-color: var(--fill-color);\n",
              "    }\n",
              "    30% {\n",
              "      border-color: transparent;\n",
              "      border-left-color: var(--fill-color);\n",
              "      border-top-color: var(--fill-color);\n",
              "      border-right-color: var(--fill-color);\n",
              "    }\n",
              "    40% {\n",
              "      border-color: transparent;\n",
              "      border-right-color: var(--fill-color);\n",
              "      border-top-color: var(--fill-color);\n",
              "    }\n",
              "    60% {\n",
              "      border-color: transparent;\n",
              "      border-right-color: var(--fill-color);\n",
              "    }\n",
              "    80% {\n",
              "      border-color: transparent;\n",
              "      border-right-color: var(--fill-color);\n",
              "      border-bottom-color: var(--fill-color);\n",
              "    }\n",
              "    90% {\n",
              "      border-color: transparent;\n",
              "      border-bottom-color: var(--fill-color);\n",
              "    }\n",
              "  }\n",
              "</style>\n",
              "\n",
              "  <script>\n",
              "    async function quickchart(key) {\n",
              "      const quickchartButtonEl =\n",
              "        document.querySelector('#' + key + ' button');\n",
              "      quickchartButtonEl.disabled = true;  // To prevent multiple clicks.\n",
              "      quickchartButtonEl.classList.add('colab-df-spinner');\n",
              "      try {\n",
              "        const charts = await google.colab.kernel.invokeFunction(\n",
              "            'suggestCharts', [key], {});\n",
              "      } catch (error) {\n",
              "        console.error('Error during call to suggestCharts:', error);\n",
              "      }\n",
              "      quickchartButtonEl.classList.remove('colab-df-spinner');\n",
              "      quickchartButtonEl.classList.add('colab-df-quickchart-complete');\n",
              "    }\n",
              "    (() => {\n",
              "      let quickchartButtonEl =\n",
              "        document.querySelector('#df-608dd3ff-4d5a-40f4-a962-24a383e2cd27 button');\n",
              "      quickchartButtonEl.style.display =\n",
              "        google.colab.kernel.accessAllowed ? 'block' : 'none';\n",
              "    })();\n",
              "  </script>\n",
              "</div>\n",
              "    </div>\n",
              "  </div>\n"
            ]
          },
          "metadata": {},
          "execution_count": 3
        }
      ],
      "source": [
        "data = pd.read_csv(\n",
        "    'https://raw.githubusercontent.com/antbartash/australian_rain/main/data/data_transformed.csv',\n",
        "    index_col=0\n",
        "  )\n",
        "\n",
        "print(data.shape)\n",
        "data.head()"
      ]
    },
    {
      "cell_type": "code",
      "execution_count": 4,
      "metadata": {
        "id": "1HVsNjIWN8Lo"
      },
      "outputs": [],
      "source": [
        "X, y = data.drop(columns=['RainTomorrow', 'RainToday']), data['RainTomorrow']\n",
        "X_train, X_test, y_train, y_test = train_test_split(X, y, test_size=0.2,\n",
        "                                                    random_state=42)"
      ]
    },
    {
      "cell_type": "code",
      "execution_count": 5,
      "metadata": {
        "colab": {
          "base_uri": "https://localhost:8080/"
        },
        "id": "_DIMIG4RsLns",
        "outputId": "5403d591-091f-4d3e-f2e6-b732265ea1d3"
      },
      "outputs": [
        {
          "output_type": "execute_result",
          "data": {
            "text/plain": [
              "Location         category\n",
              "WindGustDir      category\n",
              "WindDir9am       category\n",
              "WindDir3pm       category\n",
              "MinTemp           float64\n",
              "MaxTemp           float64\n",
              "Rainfall          float64\n",
              "Evaporation       float64\n",
              "Sunshine          float64\n",
              "WindGustSpeed     float64\n",
              "WindSpeed9am      float64\n",
              "WindSpeed3pm      float64\n",
              "Humidity9am       float64\n",
              "Humidity3pm       float64\n",
              "Pressure9am       float64\n",
              "Pressure3pm       float64\n",
              "Cloud9am          float64\n",
              "Cloud3pm          float64\n",
              "Temp9am           float64\n",
              "Temp3pm           float64\n",
              "Month             float64\n",
              "dtype: object"
            ]
          },
          "metadata": {},
          "execution_count": 5
        }
      ],
      "source": [
        "def change_dtypes(data):\n",
        "  for column in ['Location', 'WindGustDir', 'WindDir9am', 'WindDir3pm']:\n",
        "    data[column] = data[column].astype('category')\n",
        "  return data\n",
        "\n",
        "X_train = change_dtypes(X_train)\n",
        "X_test = change_dtypes(X_test)\n",
        "\n",
        "X_train.dtypes"
      ]
    },
    {
      "cell_type": "markdown",
      "metadata": {
        "id": "Icg2ov9jQwK-"
      },
      "source": [
        "# Baseline model"
      ]
    },
    {
      "cell_type": "code",
      "execution_count": null,
      "metadata": {
        "colab": {
          "base_uri": "https://localhost:8080/"
        },
        "id": "sDjOFMYFOv6J",
        "outputId": "524e7683-2e85-4dfa-f62f-aa7a1ce1d6d9"
      },
      "outputs": [
        {
          "name": "stdout",
          "output_type": "stream",
          "text": [
            "Mean train Gini: 0.8193700395010979\n",
            "Mean test Gini: 0.7007491769077299\n",
            "Mean fit time: 2.24 s\n"
          ]
        }
      ],
      "source": [
        "baseline_lgbm = LGBMClassifier(random_state=42, verbose=0)\n",
        "cv_result = cross_validate(baseline_lgbm, X, y, scoring='roc_auc',\n",
        "                           return_train_score=True)\n",
        "\n",
        "print(f\"Mean train Gini: {cv_result['train_score'].mean() * 2 - 1}\")\n",
        "print(f\"Mean test Gini: {cv_result['test_score'].mean() * 2 - 1}\")\n",
        "print(f\"Mean fit time: {np.round(cv_result['fit_time'].mean(), 2)} s\")"
      ]
    },
    {
      "cell_type": "markdown",
      "metadata": {
        "id": "rL3Mvjs0Q1uG"
      },
      "source": [
        "# GridSearchCV"
      ]
    },
    {
      "cell_type": "code",
      "execution_count": null,
      "metadata": {
        "id": "uibTDb_WQ-Q3"
      },
      "outputs": [],
      "source": [
        "hyperparameter_space = {\n",
        "    'n_estimators': [100, 250, 500, 1000],\n",
        "    'learning_rate': [0.001, 0.005, 0.01, 0.05, 0.1],\n",
        "    'num_leaves': [30],\n",
        "    'max_depth': [1, 2, 6, -1],\n",
        "    'class_weight': [None],\n",
        "    'colsample_bytree': [0.75, 1],\n",
        "    'reg_alpha': [0, 1, 5],\n",
        "    'reg_lambda': [0, 1, 5]\n",
        "}\n",
        "\n",
        "model = LGBMClassifier(random_state=42, verbose=0)\n",
        "clf = GridSearchCV(model, hyperparameter_space, cv=3,\n",
        "                   scoring='roc_auc', verbose=1)\n",
        "clf.fit(X_train, y_train) # 7 hrs"
      ]
    },
    {
      "cell_type": "code",
      "execution_count": null,
      "metadata": {
        "colab": {
          "base_uri": "https://localhost:8080/"
        },
        "id": "th9OoJXHbLK7",
        "outputId": "756b6b54-a13f-4482-b82d-784ed1f5ec62"
      },
      "outputs": [
        {
          "name": "stdout",
          "output_type": "stream",
          "text": [
            "Best Gini: 0.8012352188729492\n",
            "Best params: {'class_weight': None, 'colsample_bytree': 0.75, 'learning_rate': 0.1, 'max_depth': -1, 'n_estimators': 1000, 'num_leaves': 30, 'reg_alpha': 5, 'reg_lambda': 5}\n"
          ]
        }
      ],
      "source": [
        "print(f\"Best Gini: {clf.best_score_ * 2 - 1}\")\n",
        "print(f\"Best params: {clf.best_params_}\")"
      ]
    },
    {
      "cell_type": "markdown",
      "metadata": {
        "id": "l6-Zl3qdRPV0"
      },
      "source": [
        "# RandomizedSearchCV"
      ]
    },
    {
      "cell_type": "code",
      "execution_count": null,
      "metadata": {
        "id": "d00UQOsaRk52"
      },
      "outputs": [],
      "source": [
        "hyperparameter_space = {\n",
        "    'n_estimators': randint(50, 4000),\n",
        "    'learning_rate': [0.0001, 0.0005, 0.001, 0.005, 0.01, 0.05, 0.1, 0.3, 0.5],\n",
        "    'num_leaves': randint(3, 250),\n",
        "    'max_depth': [-1, 1, 2, 3, 4, 6, 8, 10, 20, 30],\n",
        "    'class_weight': [None, 'balanced'],\n",
        "    'colsample_bytree': uniform(loc=0.3, scale=0.7),\n",
        "    'reg_alpha': uniform(0, 50),\n",
        "    'reg_lambda': uniform(0, 50)\n",
        "}\n",
        "\n",
        "model = LGBMClassifier(random_state=42, verbose=0)\n",
        "clf = RandomizedSearchCV(model, hyperparameter_space, n_iter=50, cv=3,\n",
        "                         scoring='roc_auc', random_state=42, verbose=0)\n",
        "clf.fit(X_train, y_train) # 30 min"
      ]
    },
    {
      "cell_type": "code",
      "execution_count": null,
      "metadata": {
        "colab": {
          "base_uri": "https://localhost:8080/"
        },
        "id": "aTx_YRLRYeD1",
        "outputId": "7e355b77-ac94-4789-9563-e942a51ba751"
      },
      "outputs": [
        {
          "name": "stdout",
          "output_type": "stream",
          "text": [
            "Best Gini: 0.800846427444265\n",
            "Best params: {'class_weight': 'balanced', 'colsample_bytree': 0.4751759523611048, 'learning_rate': 0.05, 'max_depth': 6, 'n_estimators': 3100, 'num_leaves': 190, 'reg_alpha': 16.332562089802042, 'reg_lambda': 41.393450189379436}\n"
          ]
        }
      ],
      "source": [
        "print(f\"Best Gini: {clf.best_score_ * 2 - 1}\")\n",
        "print(f\"Best params: {clf.best_params_}\")"
      ]
    },
    {
      "cell_type": "markdown",
      "metadata": {
        "id": "vLmw-H7RnPn7"
      },
      "source": [
        "# HalvingSearch"
      ]
    },
    {
      "cell_type": "markdown",
      "metadata": {
        "id": "qvV04048WUI1"
      },
      "source": [
        "## HalvingGridSearchCV: resource='n_samples'"
      ]
    },
    {
      "cell_type": "code",
      "execution_count": 10,
      "metadata": {
        "id": "Gjku6Jkdcjds"
      },
      "outputs": [],
      "source": [
        "from sklearn.experimental import enable_halving_search_cv\n",
        "from sklearn.model_selection import HalvingGridSearchCV, HalvingRandomSearchCV"
      ]
    },
    {
      "cell_type": "code",
      "execution_count": null,
      "metadata": {
        "colab": {
          "base_uri": "https://localhost:8080/",
          "height": 598
        },
        "id": "wtNdPO_inxXe",
        "outputId": "31257007-55fa-49c3-dda5-73af5f520bc4"
      },
      "outputs": [
        {
          "name": "stdout",
          "output_type": "stream",
          "text": [
            "n_iterations: 5\n",
            "n_required_iterations: 6\n",
            "n_possible_iterations: 5\n",
            "min_resources_: 1250\n",
            "max_resources_: 113754\n",
            "aggressive_elimination: False\n",
            "factor: 3\n",
            "----------\n",
            "iter: 0\n",
            "n_candidates: 336\n",
            "n_resources: 1250\n",
            "Fitting 3 folds for each of 336 candidates, totalling 1008 fits\n",
            "----------\n",
            "iter: 1\n",
            "n_candidates: 112\n",
            "n_resources: 3750\n",
            "Fitting 3 folds for each of 112 candidates, totalling 336 fits\n",
            "----------\n",
            "iter: 2\n",
            "n_candidates: 38\n",
            "n_resources: 11250\n",
            "Fitting 3 folds for each of 38 candidates, totalling 114 fits\n",
            "----------\n",
            "iter: 3\n",
            "n_candidates: 13\n",
            "n_resources: 33750\n",
            "Fitting 3 folds for each of 13 candidates, totalling 39 fits\n",
            "----------\n",
            "iter: 4\n",
            "n_candidates: 5\n",
            "n_resources: 101250\n",
            "Fitting 3 folds for each of 5 candidates, totalling 15 fits\n",
            "Best Gini: 0.7969568417107886\n",
            "Best params: {'class_weight': None, 'learning_rate': 0.005, 'max_depth': 15, 'n_estimators': 3100}\n"
          ]
        }
      ],
      "source": [
        "hyperparameter_space = {\n",
        "    'n_estimators': np.arange(100, 4100, 1000),\n",
        "    'learning_rate': [0.0005, 0.001, 0.005, 0.01, 0.05, 0.1, 0.3],\n",
        "    #'num_leaves': [10, 30, 50, 150, 250],\n",
        "    'max_depth': [-1, 1, 3, 6, 8, 15],\n",
        "    'class_weight': [None, 'balanced'],\n",
        "    #'colsample_bytree': [0.5, 0.75, 0.9, 1],\n",
        "    #'reg_alpha': [0, 10, 25, 40, 50],\n",
        "    #'reg_lambda': [0, 10, 25, 40, 50]\n",
        "}\n",
        "\n",
        "model = LGBMClassifier(random_state=42, verbose=-1)\n",
        "clf = HalvingGridSearchCV(model, hyperparameter_space, cv=3,\n",
        "                          scoring='roc_auc', verbose=1, random_state=42,\n",
        "                          factor=3, resource='n_samples', min_resources=1250)\n",
        "clf.fit(X_train, y_train) # 72 min\n",
        "print(f\"Best Gini: {clf.best_score_ * 2 - 1}\")\n",
        "print(f\"Best params: {clf.best_params_}\")"
      ]
    },
    {
      "cell_type": "code",
      "execution_count": null,
      "metadata": {
        "id": "WunopW41okdN",
        "outputId": "1083030d-b397-4959-87c4-ba1a446d4bbb"
      },
      "outputs": [
        {
          "data": {
            "image/png": "[encoded data removed]",
            "text/plain": [
              "<Figure size 1000x600 with 1 Axes>"
            ]
          },
          "metadata": {},
          "output_type": "display_data"
        }
      ],
      "source": [
        "results = pd.DataFrame(clf.cv_results_)\n",
        "results[\"params_str\"] = results.params.apply(str)\n",
        "results.drop_duplicates(subset=(\"params_str\", \"iter\"), inplace=True)\n",
        "mean_scores = results.pivot(\n",
        "    index=\"iter\", columns=\"params_str\", values=\"mean_test_score\"\n",
        ")\n",
        "ax = mean_scores.plot(legend=False, alpha=0.6, figsize=(10, 6))\n",
        "\n",
        "labels = [\n",
        "    f\"iter={i}\\nn_samples={clf.n_resources_[i]}\\nn_candidates={clf.n_candidates_[i]}\"\n",
        "    for i in range(clf.n_iterations_)\n",
        "]\n",
        "\n",
        "ax.set_xticks(range(clf.n_iterations_))\n",
        "ax.set_xticklabels(labels, rotation=45, multialignment=\"left\")\n",
        "ax.set_title(\"Scores of candidates over iterations\")\n",
        "ax.set_ylabel(\"mean test score\", fontsize=15)\n",
        "ax.set_xlabel(\"iterations\", fontsize=15)\n",
        "ax.set_ylim(0.8, 0.9)\n",
        "plt.tight_layout()\n",
        "plt.show()"
      ]
    },
    {
      "cell_type": "code",
      "execution_count": null,
      "metadata": {
        "id": "nfxbil0Pxh9M",
        "outputId": "fcb78fe7-3063-4b27-9f04-d61f308d40dd"
      },
      "outputs": [
        {
          "name": "stdout",
          "output_type": "stream",
          "text": [
            "Fitting 3 folds for each of 336 candidates, totalling 1008 fits\n",
            "Best Gini: 0.8028389136012513\n",
            "Best params: {'class_weight': None, 'learning_rate': 0.01, 'max_depth': -1, 'n_estimators': 3100}\n"
          ]
        }
      ],
      "source": [
        "hyperparameter_space = {\n",
        "    'n_estimators': np.arange(100, 4100, 1000),\n",
        "    'learning_rate': [0.0005, 0.001, 0.005, 0.01, 0.05, 0.1, 0.3],\n",
        "    #'num_leaves': [10, 30, 50, 150, 250],\n",
        "    'max_depth': [-1, 1, 3, 6, 8, 15],\n",
        "    'class_weight': [None, 'balanced'],\n",
        "    #'colsample_bytree': [0.5, 0.75, 0.9, 1],\n",
        "    #'reg_alpha': [0, 10, 25, 40, 50],\n",
        "    #'reg_lambda': [0, 10, 25, 40, 50]\n",
        "}\n",
        "\n",
        "model = LGBMClassifier(random_state=42, verbose=-1)\n",
        "clf = GridSearchCV(model, hyperparameter_space, cv=3,\n",
        "                   scoring='roc_auc', verbose=1)\n",
        "clf.fit(X_train, y_train) # 250 min\n",
        "print(f\"Best Gini: {clf.best_score_ * 2 - 1}\")\n",
        "print(f\"Best params: {clf.best_params_}\")"
      ]
    },
    {
      "cell_type": "code",
      "execution_count": null,
      "metadata": {
        "id": "lCjP45VZWUI3"
      },
      "outputs": [],
      "source": [
        "# HalvingGridSeachCV\n",
        "# Best Gini: 0.7969568417107886\n",
        "# Best params: {'class_weight': None, 'learning_rate': 0.005, 'max_depth': 15, 'n_estimators': 3100}"
      ]
    },
    {
      "cell_type": "markdown",
      "metadata": {
        "id": "RVvG10lUWUI4"
      },
      "source": [
        "## HalvingGridSearchCV: resouce='n_estimators'"
      ]
    },
    {
      "cell_type": "code",
      "execution_count": 6,
      "metadata": {
        "id": "WhKBZhhqWUI4"
      },
      "outputs": [],
      "source": [
        "def get_catboost_dataset(data):\n",
        "    data_catboost = data.copy()\n",
        "    for column in ['Location', 'WindGustDir', 'WindDir9am', 'WindDir3pm']:\n",
        "        data_catboost[column] = data_catboost[column].astype(np.float32).fillna(-1).apply(lambda x: str(x))\n",
        "    return data_catboost\n",
        "\n",
        "X_train_catboost, X_test_catboost = get_catboost_dataset(X_train), get_catboost_dataset(X_test)"
      ]
    },
    {
      "cell_type": "code",
      "source": [
        "baseline_catboost = CatBoostClassifier(\n",
        "    n_estimators=250,\n",
        "    cat_features=['Location', 'WindGustDir', 'WindDir9am', 'WindDir3pm'],\n",
        "    random_state=42, verbose=50, task_type='GPU'\n",
        ")\n",
        "baseline_catboost.fit(X_train_catboost, y_train)"
      ],
      "metadata": {
        "colab": {
          "base_uri": "https://localhost:8080/"
        },
        "id": "1iSQep-NWvfH",
        "outputId": "9c0ceae8-feaf-4f93-fcb2-d0c74510d830"
      },
      "execution_count": 7,
      "outputs": [
        {
          "output_type": "stream",
          "name": "stdout",
          "text": [
            "Learning rate set to 0.089979\n",
            "0:\tlearn: 0.6327238\ttotal: 36.2ms\tremaining: 9.02s\n",
            "50:\tlearn: 0.3453624\ttotal: 1.15s\tremaining: 4.47s\n",
            "100:\tlearn: 0.3299305\ttotal: 2.15s\tremaining: 3.18s\n",
            "150:\tlearn: 0.3214348\ttotal: 3.17s\tremaining: 2.08s\n",
            "200:\tlearn: 0.3151242\ttotal: 5.55s\tremaining: 1.35s\n",
            "249:\tlearn: 0.3105465\ttotal: 7.36s\tremaining: 0us\n"
          ]
        },
        {
          "output_type": "execute_result",
          "data": {
            "text/plain": [
              "<catboost.core.CatBoostClassifier at 0x7a88729d7280>"
            ]
          },
          "metadata": {},
          "execution_count": 7
        }
      ]
    },
    {
      "cell_type": "code",
      "execution_count": 11,
      "metadata": {
        "colab": {
          "base_uri": "https://localhost:8080/"
        },
        "id": "SzvJp2orWUI5",
        "outputId": "1750cf15-2dc7-43a0-b7b2-99c3e74bb96d"
      },
      "outputs": [
        {
          "output_type": "stream",
          "name": "stdout",
          "text": [
            "n_iterations: 4\n",
            "n_required_iterations: 4\n",
            "n_possible_iterations: 4\n",
            "min_resources_: 100\n",
            "max_resources_: 5000\n",
            "aggressive_elimination: False\n",
            "factor: 3\n",
            "----------\n",
            "iter: 0\n",
            "n_candidates: 36\n",
            "n_resources: 100\n",
            "Fitting 3 folds for each of 36 candidates, totalling 108 fits\n",
            "----------\n",
            "iter: 1\n",
            "n_candidates: 12\n",
            "n_resources: 300\n",
            "Fitting 3 folds for each of 12 candidates, totalling 36 fits\n",
            "----------\n",
            "iter: 2\n",
            "n_candidates: 4\n",
            "n_resources: 900\n",
            "Fitting 3 folds for each of 4 candidates, totalling 12 fits\n",
            "----------\n",
            "iter: 3\n",
            "n_candidates: 2\n",
            "n_resources: 2700\n",
            "Fitting 3 folds for each of 2 candidates, totalling 6 fits\n",
            "Best Gini: 0.8028741201414575\n",
            "Best params: {'max_depth': 10, 'scale_pos_weight': 1, 'n_estimators': 2700}\n"
          ]
        }
      ],
      "source": [
        "hyperparameter_space = {\n",
        "    # 'n_estimators': np.arange(100, 4100, 1000),\n",
        "    # 'learning_rate': [0.0005, 0.001, 0.005, 0.01, 0.05, 0.1, 0.3],\n",
        "    'max_depth': [1, 2, 3, 4, 5, 6, 8, 10, 16],\n",
        "    'scale_pos_weight': [1, 3, 3.5, 4]\n",
        "}\n",
        "\n",
        "model = CatBoostClassifier(\n",
        "    n_estimators=100,\n",
        "    cat_features=['Location', 'WindGustDir', 'WindDir9am', 'WindDir3pm'],\n",
        "    random_state=42, verbose=False, task_type='GPU'\n",
        ")\n",
        "clf = HalvingGridSearchCV(\n",
        "    model, hyperparameter_space, cv=3,\n",
        "    scoring='roc_auc', verbose=1, random_state=42,\n",
        "    factor=3, resource='n_estimators',\n",
        "    min_resources=100, max_resources=5000)\n",
        "clf.fit(X_train_catboost, y_train)\n",
        "print(f\"Best Gini: {clf.best_score_ * 2 - 1}\")\n",
        "print(f\"Best params: {clf.best_params_}\")"
      ]
    },
    {
      "cell_type": "code",
      "execution_count": null,
      "metadata": {
        "id": "iNUY9GsGWUI5"
      },
      "outputs": [],
      "source": [
        "# The get_params() method of the target estimator (CatBoostClassifier) is called to validate that the given resource is valid.\n",
        "# The CatBoost has the get_params method, however, it returns only params that the user explicitly specified, while sklearn's estimator returns all parameters."
      ]
    },
    {
      "cell_type": "markdown",
      "source": [
        "## HalvingRandomSearchCV"
      ],
      "metadata": {
        "id": "RIf4agDbv5Y-"
      }
    },
    {
      "cell_type": "code",
      "source": [
        "hyperparameter_space = {\n",
        "    'n_estimators': randint(50, 4000),\n",
        "    'learning_rate': [0.0001, 0.0005, 0.001, 0.005, 0.01, 0.05, 0.1, 0.3, 0.5],\n",
        "    'num_leaves': randint(3, 250),\n",
        "    'max_depth': [-1, 1, 2, 3, 4, 6, 8, 10, 20, 30],\n",
        "    'class_weight': [None, 'balanced'],\n",
        "    'colsample_bytree': uniform(loc=0.3, scale=0.7),\n",
        "    'reg_alpha': uniform(0, 50),\n",
        "    'reg_lambda': uniform(0, 50)\n",
        "}\n",
        "\n",
        "model = LGBMClassifier(random_state=42, verbose=-1)\n",
        "clf = HalvingRandomSearchCV(\n",
        "    model, hyperparameter_space, cv=3,\n",
        "    scoring='roc_auc', verbose=1, random_state=42,\n",
        "    factor=3, resource='n_samples', min_resources=1250)\n",
        "clf.fit(X_train, y_train) # 30 min\n",
        "print(f\"Best Gini: {clf.best_score_ * 2 - 1}\")\n",
        "print(f\"Best params: {clf.best_params_}\")"
      ],
      "metadata": {
        "colab": {
          "base_uri": "https://localhost:8080/"
        },
        "id": "QpXhdryCvNc6",
        "outputId": "092fed59-48db-4f3a-fd86-822d996d348e"
      },
      "execution_count": null,
      "outputs": [
        {
          "output_type": "stream",
          "name": "stdout",
          "text": [
            "n_iterations: 5\n",
            "n_required_iterations: 5\n",
            "n_possible_iterations: 5\n",
            "min_resources_: 1250\n",
            "max_resources_: 113754\n",
            "aggressive_elimination: False\n",
            "factor: 3\n",
            "----------\n",
            "iter: 0\n",
            "n_candidates: 91\n",
            "n_resources: 1250\n",
            "Fitting 3 folds for each of 91 candidates, totalling 273 fits\n"
          ]
        }
      ]
    },
    {
      "cell_type": "code",
      "source": [],
      "metadata": {
        "id": "3xQK4-a2wrbY"
      },
      "execution_count": null,
      "outputs": []
    }
  ],
  "metadata": {
    "colab": {
      "provenance": [],
      "toc_visible": true,
      "gpuType": "T4",
      "include_colab_link": true
    },
    "kernelspec": {
      "display_name": "Python 3",
      "name": "python3"
    },
    "language_info": {
      "codemirror_mode": {
        "name": "ipython",
        "version": 3
      },
      "file_extension": ".py",
      "mimetype": "text/x-python",
      "name": "python",
      "nbconvert_exporter": "python",
      "pygments_lexer": "ipython3",
      "version": "3.9.13"
    },
    "accelerator": "GPU"
  },
  "nbformat": 4,
  "nbformat_minor": 0
}