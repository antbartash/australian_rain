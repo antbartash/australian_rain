{
  "cells": [
    {
      "cell_type": "markdown",
      "metadata": {
        "id": "view-in-github",
        "colab_type": "text"
      },
      "source": [
        "<a href=\"https://colab.research.google.com/github/antbartash/australian_rain/blob/main/DEAP/PSO.ipynb\" target=\"_parent\"><img src=\"https://colab.research.google.com/assets/colab-badge.svg\" alt=\"Open In Colab\"/></a>"
      ]
    },
    {
      "cell_type": "code",
      "source": [
        "! pip install catboost\n",
        "! pip install deap"
      ],
      "metadata": {
        "colab": {
          "base_uri": "https://localhost:8080/"
        },
        "id": "AppIYYk1TpMQ",
        "outputId": "ec043e71-0d80-4b86-88eb-777098bd50af"
      },
      "execution_count": 1,
      "outputs": [
        {
          "output_type": "stream",
          "name": "stdout",
          "text": [
            "Collecting catboost\n",
            "  Downloading catboost-1.2.2-cp310-cp310-manylinux2014_x86_64.whl (98.7 MB)\n",
            "\u001b[2K     \u001b[90m━━━━━━━━━━━━━━━━━━━━━━━━━━━━━━━━━━━━━━━━\u001b[0m \u001b[32m98.7/98.7 MB\u001b[0m \u001b[31m8.1 MB/s\u001b[0m eta \u001b[36m0:00:00\u001b[0m\n",
            "\u001b[?25hRequirement already satisfied: graphviz in /usr/local/lib/python3.10/dist-packages (from catboost) (0.20.1)\n",
            "Requirement already satisfied: matplotlib in /usr/local/lib/python3.10/dist-packages (from catboost) (3.7.1)\n",
            "Requirement already satisfied: numpy>=1.16.0 in /usr/local/lib/python3.10/dist-packages (from catboost) (1.23.5)\n",
            "Requirement already satisfied: pandas>=0.24 in /usr/local/lib/python3.10/dist-packages (from catboost) (1.5.3)\n",
            "Requirement already satisfied: scipy in /usr/local/lib/python3.10/dist-packages (from catboost) (1.11.4)\n",
            "Requirement already satisfied: plotly in /usr/local/lib/python3.10/dist-packages (from catboost) (5.15.0)\n",
            "Requirement already satisfied: six in /usr/local/lib/python3.10/dist-packages (from catboost) (1.16.0)\n",
            "Requirement already satisfied: python-dateutil>=2.8.1 in /usr/local/lib/python3.10/dist-packages (from pandas>=0.24->catboost) (2.8.2)\n",
            "Requirement already satisfied: pytz>=2020.1 in /usr/local/lib/python3.10/dist-packages (from pandas>=0.24->catboost) (2023.3.post1)\n",
            "Requirement already satisfied: contourpy>=1.0.1 in /usr/local/lib/python3.10/dist-packages (from matplotlib->catboost) (1.2.0)\n",
            "Requirement already satisfied: cycler>=0.10 in /usr/local/lib/python3.10/dist-packages (from matplotlib->catboost) (0.12.1)\n",
            "Requirement already satisfied: fonttools>=4.22.0 in /usr/local/lib/python3.10/dist-packages (from matplotlib->catboost) (4.47.0)\n",
            "Requirement already satisfied: kiwisolver>=1.0.1 in /usr/local/lib/python3.10/dist-packages (from matplotlib->catboost) (1.4.5)\n",
            "Requirement already satisfied: packaging>=20.0 in /usr/local/lib/python3.10/dist-packages (from matplotlib->catboost) (23.2)\n",
            "Requirement already satisfied: pillow>=6.2.0 in /usr/local/lib/python3.10/dist-packages (from matplotlib->catboost) (9.4.0)\n",
            "Requirement already satisfied: pyparsing>=2.3.1 in /usr/local/lib/python3.10/dist-packages (from matplotlib->catboost) (3.1.1)\n",
            "Requirement already satisfied: tenacity>=6.2.0 in /usr/local/lib/python3.10/dist-packages (from plotly->catboost) (8.2.3)\n",
            "Installing collected packages: catboost\n",
            "Successfully installed catboost-1.2.2\n",
            "Collecting deap\n",
            "  Downloading deap-1.4.1-cp310-cp310-manylinux_2_5_x86_64.manylinux1_x86_64.manylinux_2_17_x86_64.manylinux2014_x86_64.whl (135 kB)\n",
            "\u001b[2K     \u001b[90m━━━━━━━━━━━━━━━━━━━━━━━━━━━━━━━━━━━━━━━━\u001b[0m \u001b[32m135.4/135.4 kB\u001b[0m \u001b[31m2.9 MB/s\u001b[0m eta \u001b[36m0:00:00\u001b[0m\n",
            "\u001b[?25hRequirement already satisfied: numpy in /usr/local/lib/python3.10/dist-packages (from deap) (1.23.5)\n",
            "Installing collected packages: deap\n",
            "Successfully installed deap-1.4.1\n"
          ]
        }
      ]
    },
    {
      "cell_type": "code",
      "execution_count": 2,
      "metadata": {
        "id": "_L8xCu9uTnx2"
      },
      "outputs": [],
      "source": [
        "import numpy as np\n",
        "import pandas as pd\n",
        "import matplotlib.pyplot as plt\n",
        "import seaborn as sns\n",
        "from sklearn.model_selection import train_test_split, cross_val_score\n",
        "from sklearn.base import clone\n",
        "from catboost import CatBoostClassifier\n",
        "from deap import base, creator, tools\n",
        "from scipy.stats import randint, uniform, loguniform\n",
        "import random\n",
        "import operator\n",
        "import math\n",
        "import multiprocessing\n",
        "import time\n",
        "\n",
        "random.seed(42)"
      ]
    },
    {
      "cell_type": "code",
      "execution_count": 3,
      "metadata": {
        "id": "5IPjNL4GTnx9"
      },
      "outputs": [],
      "source": [
        "data = pd.read_csv(\n",
        "    'https://raw.githubusercontent.com/antbartash/australian_rain/main/data/data_transformed.csv',\n",
        "    index_col=0\n",
        ")\n",
        "X, y = data.drop(columns=['RainTomorrow', 'RainToday']), data['RainTomorrow']\n",
        "X_train, X_test, y_train, y_test = train_test_split(X, y, test_size=0.2, random_state=42)\n",
        "\n",
        "for column in ['Location', 'WindGustDir', 'WindDir9am', 'WindDir3pm']:\n",
        "    X_train[column] = X_train[column].astype(np.float32).fillna(-1).apply(lambda x: str(x))\n",
        "    X_test[column] = X_test[column].astype(np.float32).fillna(-1).apply(lambda x: str(x))\n",
        "\n",
        "model = CatBoostClassifier(\n",
        "    cat_features=['Location', 'WindGustDir', 'WindDir9am', 'WindDir3pm'],\n",
        "    objective='Logloss',\n",
        "    random_state=42, verbose=False, task_type='GPU'#, gpu_ram_part=0.15, used_ram_limit='2gb'\n",
        ")"
      ]
    },
    {
      "cell_type": "code",
      "execution_count": 4,
      "metadata": {
        "id": "m6CKZISsTnx-"
      },
      "outputs": [],
      "source": [
        "# PSO parameters\n",
        "N = 15\n",
        "w = 0.5 # inertia weight coefficient\n",
        "c1 = 0.3 # cognitive coefficient\n",
        "c2 = 0.5 # social coefficient\n",
        "NUM_TRIALS = 30\n",
        "\n",
        "creator.create('FitnessMax', base.Fitness, weights=(1.0,))\n",
        "creator.create('Particle', list, fitness=creator.FitnessMax,\n",
        "               speed=list, smin=list, smax=list, best=None)\n",
        "toolbox = base.Toolbox()"
      ]
    },
    {
      "cell_type": "code",
      "execution_count": 5,
      "metadata": {
        "id": "BXamHn0jTnyA"
      },
      "outputs": [],
      "source": [
        "# Register hyperparameters with their distributions\n",
        "PARAM_NAMES = [\n",
        "    'n_estimators', 'learning_rate', 'depth', 'l2_leaf_reg',\n",
        "    'bagging_temperature', 'grow_policy', 'scale_pos_weight'\n",
        "]\n",
        "toolbox.register('n_estimators', randint.rvs, 10, 500)\n",
        "toolbox.register('learning_rate', loguniform.rvs, 1e-6, 0.5)\n",
        "toolbox.register('depth', randint.rvs, 1, 8)\n",
        "toolbox.register('l2_leaf_reg', uniform.rvs, 0.0, 100.0)\n",
        "toolbox.register('bagging_temperature', uniform.rvs, 0.0, 100.0)\n",
        "toolbox.register('grow_policy', random.choice, ['SymmetricTree', 'Depthwise'])\n",
        "toolbox.register('scale_pos_weight', uniform.rvs, 1.0, 4.0)"
      ]
    },
    {
      "cell_type": "code",
      "execution_count": 6,
      "metadata": {
        "id": "voYG1yIZTnyB"
      },
      "outputs": [],
      "source": [
        "def generate(speed_bound):\n",
        "    part = tools.initCycle(creator.Particle,\n",
        "                           [toolbox.n_estimators,\n",
        "                            toolbox.learning_rate,\n",
        "                            toolbox.depth,\n",
        "                            toolbox.l2_leaf_reg,\n",
        "                            toolbox.bagging_temperature,\n",
        "                            toolbox.grow_policy,\n",
        "                            toolbox.scale_pos_weight])\n",
        "    part.speed = [random.uniform(speed_bound[i]['smin'], speed_bound[i]['smax']) for i in range(len(part))]\n",
        "    part.smin = [speed_bound[i]['smin'] for i in range(len(part))]\n",
        "    part.smax = [speed_bound[i]['smax'] for i in range(len(part))]\n",
        "    return part\n",
        "\n",
        "# Define genes of partickes\n",
        "toolbox.register('particle', generate,\n",
        "                 speed_bound=[{'smin': -100, 'smax': 100},\n",
        "                              {'smin': -0.1, 'smax': 0.1},\n",
        "                              {'smin': -1, 'smax':1},\n",
        "                              {'smin': -10, 'smax': 10},\n",
        "                              {'smin': -10, 'smax': 10},\n",
        "                              {'smin': -1, 'smax': 1},\n",
        "                              {'smin': -0.5, 'smax': 0.5}])\n",
        "toolbox.register('population', tools.initRepeat, list, toolbox.particle)"
      ]
    },
    {
      "cell_type": "code",
      "execution_count": 7,
      "metadata": {
        "id": "4JU9Dz2cTnyC"
      },
      "outputs": [],
      "source": [
        "grow_policy_dict = {\n",
        "    'SymmetricTree': 0,\n",
        "    'Depthwise': 1,\n",
        "    0: 0,\n",
        "    1: 1\n",
        "}\n",
        "\n",
        "def updateParticle(part, best, c1, c2, w, is_int):\n",
        "    part[5] = grow_policy_dict[part[5]]\n",
        "    part.best[5] = grow_policy_dict[part.best[5]]\n",
        "    best[5] = grow_policy_dict[best[5]]\n",
        "\n",
        "    w = [w for _ in range(len(part))]\n",
        "    u1 = (random.uniform(0, 1)*c1 for _ in range(len(part)))\n",
        "    u2 = (random.uniform(0, 1)*c2 for _ in range(len(part)))\n",
        "    v_u1 = map(operator.mul, u1, map(operator.sub, part.best, part))\n",
        "    v_u2 = map(operator.mul, u2, map(operator.sub, best, part))\n",
        "    part.speed = list(map(operator.add, map(operator.mul, w, part.speed), map(operator.add, v_u1, v_u2)))\n",
        "    for i, speed in enumerate(part.speed):\n",
        "        if abs(speed) < part.smin[i]:\n",
        "            part.speed[i] = math.copysign(part.smin[i], speed)\n",
        "        elif abs(speed) > part.smax[i]:\n",
        "            part.speed[i] = math.copysign(part.smax[i], speed)\n",
        "    part[:] = list(map(operator.add, part, part.speed))\n",
        "\n",
        "    for i, pos in enumerate(part):\n",
        "        if is_int[i]:\n",
        "            part[i] = int(pos)\n",
        "\n",
        "# # Register the update strategy\n",
        "#     'n_estimators', 'learning_rate', 'depth', 'l2_leaf_reg',\n",
        "#     'bagging_temperature', 'grow_policy', 'scale_pos_weight'\n",
        "toolbox.register('update', updateParticle, c1=c1, c2=c2, w=w,\n",
        "                 is_int=[True, False, True, False, False, True, False])"
      ]
    },
    {
      "cell_type": "code",
      "execution_count": 8,
      "metadata": {
        "id": "AWzAzr0eTnyD"
      },
      "outputs": [],
      "source": [
        "def evaluate(individual):\n",
        "    # convert list of parameter values into dictionary of kwargs\n",
        "    strategy_params = {k: v for k, v in zip(PARAM_NAMES, individual)}\n",
        "    strategy_params['grow_policy'] = 'SymmetricTree' if strategy_params['grow_policy'] == 0 else 'Depthwise'\n",
        "    if (strategy_params['scale_pos_weight'] < 1) or \\\n",
        "      (strategy_params['bagging_temperature'] < 0) or \\\n",
        "      (strategy_params['n_estimators'] <= 0):\n",
        "      return [-np.inf]\n",
        "    if strategy_params['learning_rate'] <= 0:\n",
        "      strategy_params['learning_rate'] = 1e-6\n",
        "    tuned_model = clone(model).set_params(**strategy_params)\n",
        "    score = np.mean(cross_val_score(tuned_model, X_train, y_train, cv=3, scoring='roc_auc'))\n",
        "    return score\n",
        "\n",
        "toolbox.register('evaluate', evaluate)"
      ]
    },
    {
      "cell_type": "code",
      "execution_count": 9,
      "metadata": {
        "id": "pYf5S6hyTnyE"
      },
      "outputs": [],
      "source": [
        "pool = multiprocessing.Pool(1)\n",
        "toolbox.register('map', pool.map)"
      ]
    },
    {
      "cell_type": "markdown",
      "source": [
        "# N = 15"
      ],
      "metadata": {
        "id": "dEbqoXCLFHKu"
      }
    },
    {
      "cell_type": "code",
      "execution_count": 9,
      "metadata": {
        "colab": {
          "base_uri": "https://localhost:8080/"
        },
        "id": "yyG67iltTnyG",
        "outputId": "fcc5a9f6-2396-45e4-c305-78527b4eb51d"
      },
      "outputs": [
        {
          "output_type": "stream",
          "name": "stdout",
          "text": [
            "Start time: 2024-01-04 17:15:32\n",
            "\n",
            "HALL OF FAME - generation 0 - 2024-01-04 17:18:24:\n",
            "    0: [83, 0.02619732831621637, 3, 77.08106912841497, 8.247458405286087, 1, 2.876047111541371], Fitness: 0.83868336443473\n",
            "    1: [226, 0.0342936475731684, 2, 76.60363334293042, 2.529580292707432, 0, 1.348027848794583], Fitness: 0.8179234398739145\n",
            "    2: [8, -0.022481937157563532, 2, 54.76952482495374, 3.4141278064376195, 0, 4.395165184786206], Fitness: 0.7976350241997056\n",
            "\n",
            "HALL OF FAME - generation 1 - 2024-01-04 17:21:04:\n",
            "    0: [232, 0.05143346199071805, 2, 75.59592187308584, 0.18550532652005458, 0, 1.3955190847739527], Fitness: 0.861964491171222\n",
            "    1: [108, 0.04269277060340142, 2, 75.08581643487632, 7.544455555373418, 0, 2.376047111541371], Fitness: 0.8491411690986546\n",
            "    2: [200, 0.023788778748619177, 2, 74.12681899983187, 17.46344540814114, 0, 3.4421776809773945], Fitness: 0.8403597894269357\n",
            "\n",
            "HALL OF FAME - generation 2 - 2024-01-04 17:23:29:\n",
            "    0: [235, 0.060003369199492874, 2, 75.09206613816355, -0.986532156573634, 0, 1.4192647027636376], Fitness: 0.8711301783883978\n",
            "    1: [232, 0.05143346199071805, 2, 75.59592187308584, 0.18550532652005458, 0, 1.3955190847739527], Fitness: 0.861964491171222\n",
            "    2: [108, 0.04269277060340142, 2, 75.08581643487632, 7.544455555373418, 0, 2.376047111541371], Fitness: 0.8491411690986546\n",
            "\n",
            "HALL OF FAME - generation 3 - 2024-01-04 17:25:33:\n",
            "    0: [235, 0.060003369199492874, 2, 75.09206613816355, -0.986532156573634, 0, 1.4192647027636376], Fitness: 0.8711301783883978\n",
            "    1: [232, 0.05143346199071805, 2, 75.59592187308584, 0.18550532652005458, 0, 1.3955190847739527], Fitness: 0.861964491171222\n",
            "    2: [207, 0.09443265937699587, 2, 75.74105656090128, 29.245628274959124, 0, 2.5129085472853117], Fitness: 0.8571458208738111\n",
            "\n",
            "HALL OF FAME - generation 4 - 2024-01-04 17:27:34:\n",
            "    0: [235, 0.060003369199492874, 2, 75.09206613816355, -0.986532156573634, 0, 1.4192647027636376], Fitness: 0.8711301783883978\n",
            "    1: [238, 0.05505210288782762, 2, 76.25960253716494, -2.6036308436713678, 0, 2.1607878778764564], Fitness: 0.8703006406815259\n",
            "    2: [241, 0.05407865925992479, 2, 74.47293935550846, 0.9608456910502974, 0, 2.0109390196558263], Fitness: 0.8650230834889628\n",
            "\n",
            "HALL OF FAME - generation 5 - 2024-01-04 17:29:19:\n",
            "    0: [255, 0.055032056115277866, 2, 74.69749667393488, -0.030719496322293427, 0, 1.9693621854110515], Fitness: 0.8714911276588908\n",
            "    1: [235, 0.060003369199492874, 2, 75.09206613816355, -0.986532156573634, 0, 1.4192647027636376], Fitness: 0.8711301783883978\n",
            "    2: [238, 0.05505210288782762, 2, 76.25960253716494, -2.6036308436713678, 0, 2.1607878778764564], Fitness: 0.8703006406815259\n",
            "\n",
            "HALL OF FAME - generation 6 - 2024-01-04 17:30:55:\n",
            "    0: [268, 0.06368227679289105, 2, 80.56267232014494, 0.0006896050501476458, 0, 1.9181049642362695], Fitness: 0.873061371712753\n",
            "    1: [243, 0.0529194016437471, 2, 76.60023208610343, 0.6471341007313862, 0, 1.8578895758276217], Fitness: 0.8721044535020216\n",
            "    2: [255, 0.055032056115277866, 2, 74.69749667393488, -0.030719496322293427, 0, 1.9693621854110515], Fitness: 0.8714911276588908\n",
            "\n",
            "HALL OF FAME - generation 7 - 2024-01-04 17:32:26:\n",
            "    0: [272, 0.06840965273953359, 2, 80.37915740168133, -0.17234689238790604, 0, 1.8385949274779467], Fitness: 0.8758548795708069\n",
            "    1: [268, 0.06368227679289105, 2, 80.56267232014494, 0.0006896050501476458, 0, 1.9181049642362695], Fitness: 0.873061371712753\n",
            "    2: [243, 0.0529194016437471, 2, 76.60023208610343, 0.6471341007313862, 0, 1.8578895758276217], Fitness: 0.8721044535020216\n",
            "\n",
            "HALL OF FAME - generation 8 - 2024-01-04 17:33:41:\n",
            "    0: [272, 0.06840965273953359, 2, 80.37915740168133, -0.17234689238790604, 0, 1.8385949274779467], Fitness: 0.8758548795708069\n",
            "    1: [268, 0.06368227679289105, 2, 80.56267232014494, 0.0006896050501476458, 0, 1.9181049642362695], Fitness: 0.873061371712753\n",
            "    2: [252, 0.056924645858965034, 2, 78.24147787973882, 0.7036995269618003, 0, 1.9695983493403775], Fitness: 0.8728257134858333\n",
            "\n",
            "HALL OF FAME - generation 9 - 2024-01-04 17:35:12:\n",
            "    0: [272, 0.06840965273953359, 2, 80.37915740168133, -0.17234689238790604, 0, 1.8385949274779467], Fitness: 0.8758548795708069\n",
            "    1: [266, 0.06332303970007615, 2, 79.73984354010813, 0.15949967785757907, 0, 1.977821050788477], Fitness: 0.8753052576296808\n",
            "    2: [259, 0.06293971879541299, 2, 80.48713368894495, 0.20155725536142494, 0, 1.9971778959625888], Fitness: 0.8735488378701549\n",
            "\n",
            "HALL OF FAME - generation 10 - 2024-01-04 17:36:24:\n",
            "    0: [272, 0.06840965273953359, 2, 80.37915740168133, -0.17234689238790604, 0, 1.8385949274779467], Fitness: 0.8758548795708069\n",
            "    1: [266, 0.0642541967296333, 2, 79.82184027524796, 0.15482074513700148, 0, 1.9707018592888104], Fitness: 0.8754822185358231\n",
            "    2: [266, 0.06332303970007615, 2, 79.73984354010813, 0.15949967785757907, 0, 1.977821050788477], Fitness: 0.8753052576296808\n",
            "\n",
            "HALL OF FAME - generation 11 - 2024-01-04 17:37:45:\n",
            "    0: [272, 0.06840965273953359, 2, 80.37915740168133, -0.17234689238790604, 0, 1.8385949274779467], Fitness: 0.8758548795708069\n",
            "    1: [266, 0.06461651561254754, 2, 80.01873323916928, 0.13916663618423347, 0, 1.9516955154362239], Fitness: 0.8755634704417731\n",
            "    2: [266, 0.0642541967296333, 2, 79.82184027524796, 0.15482074513700148, 0, 1.9707018592888104], Fitness: 0.8754822185358231\n",
            "\n",
            "HALL OF FAME - generation 12 - 2024-01-04 17:39:06:\n",
            "    0: [272, 0.06840965273953359, 2, 80.37915740168133, -0.17234689238790604, 0, 1.8385949274779467], Fitness: 0.8758548795708069\n",
            "    1: [266, 0.06470530203343415, 2, 80.34761283175918, 0.12285594846495754, 0, 1.9349173627763194], Fitness: 0.875811099451683\n",
            "    2: [266, 0.062381932249610875, 2, 80.57835893103281, 0.04333664312491659, 0, 1.9193304985630073], Fitness: 0.8757169638723501\n",
            "\n",
            "HALL OF FAME - generation 13 - 2024-01-04 17:40:33:\n",
            "    0: [272, 0.06840965273953359, 2, 80.37915740168133, -0.17234689238790604, 0, 1.8385949274779467], Fitness: 0.8758548795708069\n",
            "    1: [266, 0.06470530203343415, 2, 80.34761283175918, 0.12285594846495754, 0, 1.9349173627763194], Fitness: 0.875811099451683\n",
            "    2: [266, 0.062381932249610875, 2, 80.57835893103281, 0.04333664312491659, 0, 1.9193304985630073], Fitness: 0.8757169638723501\n",
            "\n",
            "HALL OF FAME - generation 14 - 2024-01-04 17:42:13:\n",
            "    0: [272, 0.06840965273953359, 2, 80.37915740168133, -0.17234689238790604, 0, 1.8385949274779467], Fitness: 0.8758548795708069\n",
            "    1: [266, 0.06470530203343415, 2, 80.34761283175918, 0.12285594846495754, 0, 1.9349173627763194], Fitness: 0.875811099451683\n",
            "    2: [267, 0.06415834273872349, 2, 80.44968977466984, 0.06620766188648416, 0, 1.924631742126999], Fitness: 0.8757509758645151\n",
            "\n",
            "HALL OF FAME - generation 15 - 2024-01-04 17:44:04:\n",
            "    0: [267, 0.06389851561874325, 2, 80.44840646178571, 0.052226490923718574, 0, 1.9234014217866555], Fitness: 0.8759098167952698\n",
            "    1: [272, 0.06840965273953359, 2, 80.37915740168133, -0.17234689238790604, 0, 1.8385949274779467], Fitness: 0.8758548795708069\n",
            "    2: [266, 0.06470530203343415, 2, 80.34761283175918, 0.12285594846495754, 0, 1.9349173627763194], Fitness: 0.875811099451683\n",
            "\n",
            "HALL OF FAME - generation 16 - 2024-01-04 17:45:53:\n",
            "    0: [267, 0.06389851561874325, 2, 80.44840646178571, 0.052226490923718574, 0, 1.9234014217866555], Fitness: 0.8759098167952698\n",
            "    1: [272, 0.06840965273953359, 2, 80.37915740168133, -0.17234689238790604, 0, 1.8385949274779467], Fitness: 0.8758548795708069\n",
            "    2: [266, 0.06470530203343415, 2, 80.34761283175918, 0.12285594846495754, 0, 1.9349173627763194], Fitness: 0.875811099451683\n",
            "\n",
            "HALL OF FAME - generation 17 - 2024-01-04 17:47:42:\n",
            "    0: [267, 0.06389851561874325, 2, 80.44840646178571, 0.052226490923718574, 0, 1.9234014217866555], Fitness: 0.8759098167952698\n",
            "    1: [272, 0.06840965273953359, 2, 80.37915740168133, -0.17234689238790604, 0, 1.8385949274779467], Fitness: 0.8758548795708069\n",
            "    2: [266, 0.06470530203343415, 2, 80.34761283175918, 0.12285594846495754, 0, 1.9349173627763194], Fitness: 0.875811099451683\n",
            "\n",
            "HALL OF FAME - generation 18 - 2024-01-04 17:49:31:\n",
            "    0: [267, 0.06389851561874325, 2, 80.44840646178571, 0.052226490923718574, 0, 1.9234014217866555], Fitness: 0.8759098167952698\n",
            "    1: [272, 0.06840965273953359, 2, 80.37915740168133, -0.17234689238790604, 0, 1.8385949274779467], Fitness: 0.8758548795708069\n",
            "    2: [266, 0.06470530203343415, 2, 80.34761283175918, 0.12285594846495754, 0, 1.9349173627763194], Fitness: 0.875811099451683\n",
            "\n",
            "HALL OF FAME - generation 19 - 2024-01-04 17:51:12:\n",
            "    0: [267, 0.06389851561874325, 2, 80.44840646178571, 0.052226490923718574, 0, 1.9234014217866555], Fitness: 0.8759098167952698\n",
            "    1: [272, 0.06840965273953359, 2, 80.37915740168133, -0.17234689238790604, 0, 1.8385949274779467], Fitness: 0.8758548795708069\n",
            "    2: [266, 0.06470530203343415, 2, 80.34761283175918, 0.12285594846495754, 0, 1.9349173627763194], Fitness: 0.875811099451683\n",
            "\n",
            "HALL OF FAME - generation 20 - 2024-01-04 17:52:55:\n",
            "    0: [267, 0.06389851561874325, 2, 80.44840646178571, 0.052226490923718574, 0, 1.9234014217866555], Fitness: 0.8759098167952698\n",
            "    1: [267, 0.06419900883599462, 2, 80.38069340369738, 0.08578687423402293, 0, 1.9244622092213428], Fitness: 0.875883430867049\n",
            "    2: [272, 0.06840965273953359, 2, 80.37915740168133, -0.17234689238790604, 0, 1.8385949274779467], Fitness: 0.8758548795708069\n",
            "\n",
            "HALL OF FAME - generation 21 - 2024-01-04 17:54:36:\n",
            "    0: [267, 0.06389851561874325, 2, 80.44840646178571, 0.052226490923718574, 0, 1.9234014217866555], Fitness: 0.8759098167952698\n",
            "    1: [267, 0.06419900883599462, 2, 80.38069340369738, 0.08578687423402293, 0, 1.9244622092213428], Fitness: 0.875883430867049\n",
            "    2: [272, 0.06840965273953359, 2, 80.37915740168133, -0.17234689238790604, 0, 1.8385949274779467], Fitness: 0.8758548795708069\n",
            "\n",
            "HALL OF FAME - generation 22 - 2024-01-04 17:56:51:\n",
            "    0: [267, 0.06389851561874325, 2, 80.44840646178571, 0.052226490923718574, 0, 1.9234014217866555], Fitness: 0.8759098167952698\n",
            "    1: [267, 0.06419900883599462, 2, 80.38069340369738, 0.08578687423402293, 0, 1.9244622092213428], Fitness: 0.875883430867049\n",
            "    2: [272, 0.06840965273953359, 2, 80.37915740168133, -0.17234689238790604, 0, 1.8385949274779467], Fitness: 0.8758548795708069\n",
            "\n",
            "HALL OF FAME - generation 23 - 2024-01-04 17:59:05:\n",
            "    0: [267, 0.06389851561874325, 2, 80.44840646178571, 0.052226490923718574, 0, 1.9234014217866555], Fitness: 0.8759098167952698\n",
            "    1: [267, 0.06419900883599462, 2, 80.38069340369738, 0.08578687423402293, 0, 1.9244622092213428], Fitness: 0.875883430867049\n",
            "    2: [272, 0.06840965273953359, 2, 80.37915740168133, -0.17234689238790604, 0, 1.8385949274779467], Fitness: 0.8758548795708069\n",
            "\n",
            "HALL OF FAME - generation 24 - 2024-01-04 18:01:22:\n",
            "    0: [267, 0.06389851561874325, 2, 80.44840646178571, 0.052226490923718574, 0, 1.9234014217866555], Fitness: 0.8759098167952698\n",
            "    1: [267, 0.06419900883599462, 2, 80.38069340369738, 0.08578687423402293, 0, 1.9244622092213428], Fitness: 0.875883430867049\n",
            "    2: [272, 0.06840965273953359, 2, 80.37915740168133, -0.17234689238790604, 0, 1.8385949274779467], Fitness: 0.8758548795708069\n",
            "\n",
            "HALL OF FAME - generation 25 - 2024-01-04 18:03:42:\n",
            "    0: [267, 0.06389851561874325, 2, 80.44840646178571, 0.052226490923718574, 0, 1.9234014217866555], Fitness: 0.8759098167952698\n",
            "    1: [267, 0.06419900883599462, 2, 80.38069340369738, 0.08578687423402293, 0, 1.9244622092213428], Fitness: 0.875883430867049\n",
            "    2: [272, 0.06840965273953359, 2, 80.37915740168133, -0.17234689238790604, 0, 1.8385949274779467], Fitness: 0.8758548795708069\n",
            "\n",
            "HALL OF FAME - generation 26 - 2024-01-04 18:05:59:\n",
            "    0: [266, 0.06421782433328285, 2, 80.44678954064292, 0.06693547098844227, 0, 1.924207424961724], Fitness: 0.8759399674808067\n",
            "    1: [267, 0.06389851561874325, 2, 80.44840646178571, 0.052226490923718574, 0, 1.9234014217866555], Fitness: 0.8759098167952698\n",
            "    2: [267, 0.06419900883599462, 2, 80.38069340369738, 0.08578687423402293, 0, 1.9244622092213428], Fitness: 0.875883430867049\n",
            "\n",
            "HALL OF FAME - generation 27 - 2024-01-04 18:08:15:\n",
            "    0: [266, 0.06421782433328285, 2, 80.44678954064292, 0.06693547098844227, 0, 1.924207424961724], Fitness: 0.8759399674808067\n",
            "    1: [267, 0.06389851561874325, 2, 80.44840646178571, 0.052226490923718574, 0, 1.9234014217866555], Fitness: 0.8759098167952698\n",
            "    2: [267, 0.06419900883599462, 2, 80.38069340369738, 0.08578687423402293, 0, 1.9244622092213428], Fitness: 0.875883430867049\n",
            "\n",
            "HALL OF FAME - generation 28 - 2024-01-04 18:10:32:\n",
            "    0: [266, 0.06421782433328285, 2, 80.44678954064292, 0.06693547098844227, 0, 1.924207424961724], Fitness: 0.8759399674808067\n",
            "    1: [267, 0.06389851561874325, 2, 80.44840646178571, 0.052226490923718574, 0, 1.9234014217866555], Fitness: 0.8759098167952698\n",
            "    2: [267, 0.06419900883599462, 2, 80.38069340369738, 0.08578687423402293, 0, 1.9244622092213428], Fitness: 0.875883430867049\n",
            "\n",
            "HALL OF FAME - generation 29 - 2024-01-04 18:12:48:\n",
            "    0: [266, 0.06421782433328285, 2, 80.44678954064292, 0.06693547098844227, 0, 1.924207424961724], Fitness: 0.8759399674808067\n",
            "    1: [267, 0.06389851561874325, 2, 80.44840646178571, 0.052226490923718574, 0, 1.9234014217866555], Fitness: 0.8759098167952698\n",
            "    2: [267, 0.06419900883599462, 2, 80.38069340369738, 0.08578687423402293, 0, 1.9244622092213428], Fitness: 0.875883430867049\n"
          ]
        }
      ],
      "source": [
        "pop = toolbox.population(n=N)\n",
        "mean_arr = np.ndarray(NUM_TRIALS)\n",
        "best_arr = np.ndarray(NUM_TRIALS)\n",
        "hall_of_fame = tools.HallOfFame(maxsize=3)\n",
        "print(f\"Start time: {time.strftime('%Y-%m-%d %H:%M:%S', time.localtime())}\")\n",
        "\n",
        "best = None\n",
        "for g in range(NUM_TRIALS):\n",
        "    fitnesses = toolbox.map(toolbox.evaluate, pop)\n",
        "    for part, fit in zip(pop, fitnesses):\n",
        "        if type(fit) != list:\n",
        "          fit = [fit]\n",
        "        part.fitness.values = fit\n",
        "\n",
        "        if not part.best or part.fitness.values > part.best.fitness.values:\n",
        "            part.best= creator.Particle(part)\n",
        "            part.best.fitness.values = part.fitness.values\n",
        "        if not best or part.fitness.values > best.fitness.values:\n",
        "            best = creator.Particle(part)\n",
        "            best.fitness.values = part.fitness.values\n",
        "    for part in pop:\n",
        "        toolbox.update(part, best)\n",
        "\n",
        "    hall_of_fame.update(pop)\n",
        "\n",
        "    print(\n",
        "      f\"\\nHALL OF FAME - generation {g} - {time.strftime('%Y-%m-%d %H:%M:%S', time.localtime())}:\\n\"\n",
        "      + \"\\n\".join(\n",
        "          [\n",
        "              f\"    {_}: {ind}, Fitness: {ind.fitness.values[0]}\"\n",
        "              for _, ind in enumerate(hall_of_fame)\n",
        "          ]\n",
        "      )\n",
        "    )\n",
        "\n",
        "    fitnesses = [\n",
        "        ind.fitness.values[0] for ind in pop if not np.isinf(ind.fitness.values[0])\n",
        "    ]\n",
        "    mean_arr[g] = np.mean(fitnesses)\n",
        "    best_arr[g] = np.max(fitnesses)"
      ]
    },
    {
      "cell_type": "code",
      "source": [
        "params = {}\n",
        "for idx_hof, param_name in enumerate(PARAM_NAMES):\n",
        "    if param_name == 'grow_policy':\n",
        "        params[param_name] = 'SymmetricTree' if hall_of_fame[0][idx_hof] == 0 else 'Depthwise'\n",
        "    else:\n",
        "      params[param_name] = hall_of_fame[0][idx_hof]\n",
        "\n",
        "params"
      ],
      "metadata": {
        "id": "5IyitibU-zlb",
        "colab": {
          "base_uri": "https://localhost:8080/"
        },
        "outputId": "8465f452-42a3-4413-8dfa-c7af0f3646e8"
      },
      "execution_count": 10,
      "outputs": [
        {
          "output_type": "execute_result",
          "data": {
            "text/plain": [
              "{'n_estimators': 266,\n",
              " 'learning_rate': 0.06421782433328285,\n",
              " 'depth': 2,\n",
              " 'l2_leaf_reg': 80.44678954064292,\n",
              " 'bagging_temperature': 0.06693547098844227,\n",
              " 'grow_policy': 'SymmetricTree',\n",
              " 'scale_pos_weight': 1.924207424961724}"
            ]
          },
          "metadata": {},
          "execution_count": 10
        }
      ]
    },
    {
      "cell_type": "code",
      "source": [
        "# correction\n",
        "best_arr[1:] = [np.max(best_arr[:x]) for x in range(1, len(best_arr))]\n",
        "\n",
        "fig, ax = plt.subplots(sharex=True, figsize=(12, 5))\n",
        "sns.lineplot(x=range(NUM_TRIALS), y=mean_arr, ax=ax, label='Average Fitness Score')\n",
        "sns.lineplot(x=range(NUM_TRIALS), y=best_arr, ax=ax, label='Best Fitness Score')\n",
        "ax.set_title('Fitness Score')\n",
        "ax.set_xticks(range(NUM_TRIALS))\n",
        "ax.set_xlabel('Iteration')\n",
        "plt.tight_layout()\n",
        "plt.show()"
      ],
      "metadata": {
        "colab": {
          "base_uri": "https://localhost:8080/",
          "height": 507
        },
        "id": "eatUz5uDPdpv",
        "outputId": "73f41c76-7b68-48ba-d591-df08ff8c8e8d"
      },
      "execution_count": 19,
      "outputs": [
        {
          "output_type": "display_data",
          "data": {
            "text/plain": [
              "<Figure size 1200x500 with 1 Axes>"
            ],
            "image/png": "[encoded data removed]"
          },
          "metadata": {}
        }
      ]
    },
    {
      "cell_type": "markdown",
      "source": [
        "# N = 30"
      ],
      "metadata": {
        "id": "XVr9H4TIwAZH"
      }
    },
    {
      "cell_type": "code",
      "source": [
        "N = 30\n",
        "\n",
        "pop = toolbox.population(n=N)\n",
        "mean_arr = np.ndarray(NUM_TRIALS)\n",
        "best_arr = np.ndarray(NUM_TRIALS)\n",
        "hall_of_fame = tools.HallOfFame(maxsize=3)\n",
        "print(f\"Start time: {time.strftime('%Y-%m-%d %H:%M:%S', time.localtime())}\")\n",
        "\n",
        "best = None\n",
        "for g in range(NUM_TRIALS):\n",
        "    fitnesses = toolbox.map(toolbox.evaluate, pop)\n",
        "    for part, fit in zip(pop, fitnesses):\n",
        "        if type(fit) != list:\n",
        "          fit = [fit]\n",
        "        part.fitness.values = fit\n",
        "\n",
        "        if not part.best or part.fitness.values > part.best.fitness.values:\n",
        "            part.best= creator.Particle(part)\n",
        "            part.best.fitness.values = part.fitness.values\n",
        "        if not best or part.fitness.values > best.fitness.values:\n",
        "            best = creator.Particle(part)\n",
        "            best.fitness.values = part.fitness.values\n",
        "    for part in pop:\n",
        "        toolbox.update(part, best)\n",
        "\n",
        "    hall_of_fame.update(pop)\n",
        "\n",
        "    print(\n",
        "      f\"\\nHALL OF FAME - generation {g} - {time.strftime('%Y-%m-%d %H:%M:%S', time.localtime())}:\\n\"\n",
        "      + \"\\n\".join(\n",
        "          [\n",
        "              f\"    {_}: {ind}, Fitness: {ind.fitness.values[0]}\"\n",
        "              for _, ind in enumerate(hall_of_fame)\n",
        "          ]\n",
        "      )\n",
        "    )\n",
        "\n",
        "    fitnesses = [\n",
        "        ind.fitness.values[0] for ind in pop if not np.isinf(ind.fitness.values[0])\n",
        "    ]\n",
        "    mean_arr[g] = np.mean(fitnesses)\n",
        "    best_arr[g] = np.max(fitnesses)"
      ],
      "metadata": {
        "id": "Z--6KMgAvy9o",
        "outputId": "ea7fcf4d-f835-4957-8164-e4f0ea5f950f",
        "colab": {
          "base_uri": "https://localhost:8080/"
        }
      },
      "execution_count": null,
      "outputs": [
        {
          "output_type": "stream",
          "name": "stdout",
          "text": [
            "Start time: 2024-01-04 20:05:06\n",
            "\n",
            "HALL OF FAME - generation 0 - 2024-01-04 20:11:40:\n",
            "    0: [400, -0.013915232461562385, 3, 52.64353126580368, 3.375645088363834, 0, 1.7383380227592204], Fitness: 0.8722995323859792\n",
            "    1: [392, 0.00647836217985541, 2, 22.109884753956468, 19.745635465255617, 0, 3.342750817366558], Fitness: 0.8449836418564605\n",
            "    2: [469, 0.011190713512076738, 3, 29.063022196504146, 3.9154549367542844, 0, 1.7986612566511173], Fitness: 0.840602654893542\n",
            "\n",
            "HALL OF FAME - generation 1 - 2024-01-04 20:19:12:\n",
            "    0: [411, 0.23808058924399705, 5, 25.693059712609863, 21.121786820611604, 0, 1.9331160988474945], Fitness: 0.8815076919784924\n",
            "    1: [400, -0.013915232461562385, 3, 52.64353126580368, 3.375645088363834, 0, 1.7383380227592204], Fitness: 0.8722995323859792\n",
            "    2: [465, 0.11119071351207674, 3, 32.24017464856536, 10.509407831771263, 0, 1.8362085440065878], Fitness: 0.8601842710074683\n",
            "\n",
            "HALL OF FAME - generation 2 - 2024-01-04 20:27:51:\n",
            "    0: [429, 0.21308058924399706, 4, 27.950256813496512, 18.621786820611604, 0, 1.921964829237099], Fitness: 0.8819554663807464\n",
            "    1: [411, 0.23808058924399705, 5, 25.693059712609863, 21.121786820611604, 0, 1.9331160988474945], Fitness: 0.8815076919784924\n",
            "    2: [400, -0.013915232461562385, 3, 52.64353126580368, 3.375645088363834, 0, 1.7383380227592204], Fitness: 0.8722995323859792\n",
            "\n",
            "HALL OF FAME - generation 3 - 2024-01-04 20:37:35:\n",
            "    0: [429, 0.21308058924399706, 4, 27.950256813496512, 18.621786820611604, 0, 1.921964829237099], Fitness: 0.8819554663807464\n",
            "    1: [411, 0.23808058924399705, 5, 25.693059712609863, 21.121786820611604, 0, 1.9331160988474945], Fitness: 0.8815076919784924\n",
            "    2: [433, 0.20910763518935063, 4, 27.967199235210213, 17.589136221159436, 0, 1.9202938420191402], Fitness: 0.8795306750188828\n",
            "\n",
            "HALL OF FAME - generation 4 - 2024-01-04 20:47:24:\n",
            "    0: [429, 0.21308058924399706, 4, 27.950256813496512, 18.621786820611604, 0, 1.921964829237099], Fitness: 0.8819554663807464\n",
            "    1: [404, 0.26646092320244286, 5, 28.44106368684603, 19.307622422030814, 0, 1.8751822479270661], Fitness: 0.881791755369516\n",
            "    2: [411, 0.23808058924399705, 5, 25.693059712609863, 21.121786820611604, 0, 1.9331160988474945], Fitness: 0.8815076919784924\n",
            "\n",
            "HALL OF FAME - generation 5 - 2024-01-04 20:57:10:\n",
            "    0: [419, 0.22646191660929743, 5, 29.330820000435033, 18.9706618057926, 0, 2.6567301772836562], Fitness: 0.8821812572679658\n",
            "    1: [412, 0.2603384482145462, 5, 28.263901676043584, 20.465904264065585, 0, 2.090772431561171], Fitness: 0.8821229195101438\n",
            "    2: [429, 0.21308058924399706, 4, 27.950256813496512, 18.621786820611604, 0, 1.921964829237099], Fitness: 0.8819554663807464\n",
            "\n",
            "HALL OF FAME - generation 6 - 2024-01-04 21:07:00:\n",
            "    0: [419, 0.22646191660929743, 5, 29.330820000435033, 18.9706618057926, 0, 2.6567301772836562], Fitness: 0.8821812572679658\n",
            "    1: [412, 0.2603384482145462, 5, 28.263901676043584, 20.465904264065585, 0, 2.090772431561171], Fitness: 0.8821229195101438\n",
            "    2: [418, 0.22228384257733277, 5, 27.788844018312705, 20.701158896236148, 0, 2.5324230712364693], Fitness: 0.8820354052160515\n",
            "\n",
            "HALL OF FAME - generation 7 - 2024-01-04 21:16:58:\n",
            "    0: [430, 0.23370013827034894, 5, 28.84322987958847, 19.481999392117377, 0, 2.2947629567085697], Fitness: 0.8825777047241735\n",
            "    1: [419, 0.22646191660929743, 5, 29.330820000435033, 18.9706618057926, 0, 2.6567301772836562], Fitness: 0.8821812572679658\n",
            "    2: [412, 0.2603384482145462, 5, 28.263901676043584, 20.465904264065585, 0, 2.090772431561171], Fitness: 0.8821229195101438\n",
            "\n",
            "HALL OF FAME - generation 8 - 2024-01-04 21:27:00:\n",
            "    0: [430, 0.23370013827034894, 5, 28.84322987958847, 19.481999392117377, 0, 2.2947629567085697], Fitness: 0.8825777047241735\n",
            "    1: [430, 0.23442458059976345, 5, 29.199125165474538, 19.378112817167846, 0, 2.2976850534238467], Fitness: 0.8824805927625974\n",
            "    2: [419, 0.22646191660929743, 5, 29.330820000435033, 18.9706618057926, 0, 2.6567301772836562], Fitness: 0.8821812572679658\n"
          ]
        }
      ]
    },
    {
      "cell_type": "code",
      "source": [],
      "metadata": {
        "id": "AQ-3KNAiwDcT"
      },
      "execution_count": null,
      "outputs": []
    }
  ],
  "metadata": {
    "kernelspec": {
      "display_name": "Python 3",
      "name": "python3"
    },
    "language_info": {
      "codemirror_mode": {
        "name": "ipython",
        "version": 3
      },
      "file_extension": ".py",
      "mimetype": "text/x-python",
      "name": "python",
      "nbconvert_exporter": "python",
      "pygments_lexer": "ipython3",
      "version": "3.9.13"
    },
    "colab": {
      "provenance": [],
      "gpuType": "T4",
      "include_colab_link": true
    },
    "accelerator": "GPU"
  },
  "nbformat": 4,
  "nbformat_minor": 0
}