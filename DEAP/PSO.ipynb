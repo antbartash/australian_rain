{
  "cells": [
    {
      "cell_type": "code",
      "source": [
        "! pip install catboost\n",
        "! pip install deap"
      ],
      "metadata": {
        "colab": {
          "base_uri": "https://localhost:8080/"
        },
        "id": "AppIYYk1TpMQ",
        "outputId": "8c592b62-3ca5-4b69-beeb-e0b28271b033"
      },
      "execution_count": 2,
      "outputs": [
        {
          "output_type": "stream",
          "name": "stdout",
          "text": [
            "Collecting catboost\n",
            "  Downloading catboost-1.2.2-cp310-cp310-manylinux2014_x86_64.whl (98.7 MB)\n",
            "\u001b[2K     \u001b[90m━━━━━━━━━━━━━━━━━━━━━━━━━━━━━━━━━━━━━━━━\u001b[0m \u001b[32m98.7/98.7 MB\u001b[0m \u001b[31m8.4 MB/s\u001b[0m eta \u001b[36m0:00:00\u001b[0m\n",
            "\u001b[?25hRequirement already satisfied: graphviz in /usr/local/lib/python3.10/dist-packages (from catboost) (0.20.1)\n",
            "Requirement already satisfied: matplotlib in /usr/local/lib/python3.10/dist-packages (from catboost) (3.7.1)\n",
            "Requirement already satisfied: numpy>=1.16.0 in /usr/local/lib/python3.10/dist-packages (from catboost) (1.23.5)\n",
            "Requirement already satisfied: pandas>=0.24 in /usr/local/lib/python3.10/dist-packages (from catboost) (1.5.3)\n",
            "Requirement already satisfied: scipy in /usr/local/lib/python3.10/dist-packages (from catboost) (1.11.4)\n",
            "Requirement already satisfied: plotly in /usr/local/lib/python3.10/dist-packages (from catboost) (5.15.0)\n",
            "Requirement already satisfied: six in /usr/local/lib/python3.10/dist-packages (from catboost) (1.16.0)\n",
            "Requirement already satisfied: python-dateutil>=2.8.1 in /usr/local/lib/python3.10/dist-packages (from pandas>=0.24->catboost) (2.8.2)\n",
            "Requirement already satisfied: pytz>=2020.1 in /usr/local/lib/python3.10/dist-packages (from pandas>=0.24->catboost) (2023.3.post1)\n",
            "Requirement already satisfied: contourpy>=1.0.1 in /usr/local/lib/python3.10/dist-packages (from matplotlib->catboost) (1.2.0)\n",
            "Requirement already satisfied: cycler>=0.10 in /usr/local/lib/python3.10/dist-packages (from matplotlib->catboost) (0.12.1)\n",
            "Requirement already satisfied: fonttools>=4.22.0 in /usr/local/lib/python3.10/dist-packages (from matplotlib->catboost) (4.47.0)\n",
            "Requirement already satisfied: kiwisolver>=1.0.1 in /usr/local/lib/python3.10/dist-packages (from matplotlib->catboost) (1.4.5)\n",
            "Requirement already satisfied: packaging>=20.0 in /usr/local/lib/python3.10/dist-packages (from matplotlib->catboost) (23.2)\n",
            "Requirement already satisfied: pillow>=6.2.0 in /usr/local/lib/python3.10/dist-packages (from matplotlib->catboost) (9.4.0)\n",
            "Requirement already satisfied: pyparsing>=2.3.1 in /usr/local/lib/python3.10/dist-packages (from matplotlib->catboost) (3.1.1)\n",
            "Requirement already satisfied: tenacity>=6.2.0 in /usr/local/lib/python3.10/dist-packages (from plotly->catboost) (8.2.3)\n",
            "Installing collected packages: catboost\n",
            "Successfully installed catboost-1.2.2\n",
            "Collecting deap\n",
            "  Downloading deap-1.4.1-cp310-cp310-manylinux_2_5_x86_64.manylinux1_x86_64.manylinux_2_17_x86_64.manylinux2014_x86_64.whl (135 kB)\n",
            "\u001b[2K     \u001b[90m━━━━━━━━━━━━━━━━━━━━━━━━━━━━━━━━━━━━━━━━\u001b[0m \u001b[32m135.4/135.4 kB\u001b[0m \u001b[31m3.7 MB/s\u001b[0m eta \u001b[36m0:00:00\u001b[0m\n",
            "\u001b[?25hRequirement already satisfied: numpy in /usr/local/lib/python3.10/dist-packages (from deap) (1.23.5)\n",
            "Installing collected packages: deap\n",
            "Successfully installed deap-1.4.1\n"
          ]
        }
      ]
    },
    {
      "cell_type": "code",
      "execution_count": 3,
      "metadata": {
        "id": "_L8xCu9uTnx2"
      },
      "outputs": [],
      "source": [
        "import numpy as np\n",
        "import pandas as pd\n",
        "import matplotlib.pyplot as plt\n",
        "import seaborn as sns\n",
        "from sklearn.model_selection import train_test_split, cross_val_score\n",
        "from sklearn.base import clone\n",
        "from catboost import CatBoostClassifier\n",
        "from deap import base, creator, tools\n",
        "from scipy.stats import randint, uniform, loguniform\n",
        "import random\n",
        "import operator\n",
        "import math\n",
        "import multiprocessing\n",
        "import time\n",
        "\n",
        "random.seed(42)"
      ]
    },
    {
      "cell_type": "code",
      "execution_count": 4,
      "metadata": {
        "id": "5IPjNL4GTnx9"
      },
      "outputs": [],
      "source": [
        "data = pd.read_csv(\n",
        "    'https://raw.githubusercontent.com/antbartash/australian_rain/main/data/data_transformed.csv',\n",
        "    index_col=0\n",
        ")\n",
        "X, y = data.drop(columns=['RainTomorrow', 'RainToday']), data['RainTomorrow']\n",
        "X_train, X_test, y_train, y_test = train_test_split(X, y, test_size=0.2, random_state=42)\n",
        "\n",
        "for column in ['Location', 'WindGustDir', 'WindDir9am', 'WindDir3pm']:\n",
        "    X_train[column] = X_train[column].astype(np.float32).fillna(-1).apply(lambda x: str(x))\n",
        "    X_test[column] = X_test[column].astype(np.float32).fillna(-1).apply(lambda x: str(x))\n",
        "\n",
        "model = CatBoostClassifier(\n",
        "    cat_features=['Location', 'WindGustDir', 'WindDir9am', 'WindDir3pm'],\n",
        "    objective='Logloss',\n",
        "    random_state=42, verbose=False, task_type='GPU'#, gpu_ram_part=0.15, used_ram_limit='2gb'\n",
        ")"
      ]
    },
    {
      "cell_type": "code",
      "execution_count": 5,
      "metadata": {
        "id": "m6CKZISsTnx-"
      },
      "outputs": [],
      "source": [
        "# PSO parameters\n",
        "N = 20\n",
        "w = 0.5 # inertia weight coefficient\n",
        "c1 = 0.3 # cognitive coefficient\n",
        "c2 = 0.5 # social coefficient\n",
        "NUM_TRIALS = 15\n",
        "\n",
        "creator.create('FitnessMax', base.Fitness, weights=(1.0,))\n",
        "creator.create('Particle', list, fitness=creator.FitnessMax,\n",
        "               speed=list, smin=list, smax=list, best=None)\n",
        "toolbox = base.Toolbox()"
      ]
    },
    {
      "cell_type": "code",
      "execution_count": 6,
      "metadata": {
        "id": "BXamHn0jTnyA"
      },
      "outputs": [],
      "source": [
        "# Register hyperparameters with their distributions\n",
        "PARAM_NAMES = [\n",
        "    'n_estimators', 'learning_rate', 'depth', 'l2_leaf_reg',\n",
        "    'bagging_temperature', 'grow_policy', 'scale_pos_weight'\n",
        "]\n",
        "toolbox.register('n_estimators', randint.rvs, 10, 500)\n",
        "toolbox.register('learning_rate', loguniform.rvs, 1e-6, 0.5)\n",
        "toolbox.register('depth', randint.rvs, 1, 8)\n",
        "toolbox.register('l2_leaf_reg', uniform.rvs, 0.0, 100.0)\n",
        "toolbox.register('bagging_temperature', uniform.rvs, 0.0, 100.0)\n",
        "toolbox.register('grow_policy', random.choice, ['SymmetricTree', 'Depthwise'])\n",
        "toolbox.register('scale_pos_weight', uniform.rvs, 1.0, 4.0)"
      ]
    },
    {
      "cell_type": "code",
      "execution_count": 7,
      "metadata": {
        "id": "voYG1yIZTnyB"
      },
      "outputs": [],
      "source": [
        "def generate(speed_bound):\n",
        "    part = tools.initCycle(creator.Particle,\n",
        "                           [toolbox.n_estimators,\n",
        "                            toolbox.learning_rate,\n",
        "                            toolbox.depth,\n",
        "                            toolbox.l2_leaf_reg,\n",
        "                            toolbox.bagging_temperature,\n",
        "                            toolbox.grow_policy,\n",
        "                            toolbox.scale_pos_weight])\n",
        "    part.speed = [random.uniform(speed_bound[i]['smin'], speed_bound[i]['smax']) for i in range(len(part))]\n",
        "    part.smin = [speed_bound[i]['smin'] for i in range(len(part))]\n",
        "    part.smax = [speed_bound[i]['smax'] for i in range(len(part))]\n",
        "    return part\n",
        "\n",
        "# Define genes of partickes\n",
        "toolbox.register('particle', generate,\n",
        "                 speed_bound=[{'smin': -100, 'smax': 100},\n",
        "                              {'smin': -0.1, 'smax': 0.1},\n",
        "                              {'smin': -1, 'smax':1},\n",
        "                              {'smin': -10, 'smax': 10},\n",
        "                              {'smin': -10, 'smax': 10},\n",
        "                              {'smin': -1, 'smax': 1},\n",
        "                              {'smin': -0.5, 'smax': 0.5}])\n",
        "toolbox.register('population', tools.initRepeat, list, toolbox.particle)"
      ]
    },
    {
      "cell_type": "code",
      "execution_count": 8,
      "metadata": {
        "id": "4JU9Dz2cTnyC"
      },
      "outputs": [],
      "source": [
        "def updateParticle(part, best, c1, c2, w, is_int):\n",
        "    for i in range(len(part)):\n",
        "      if part[i] == 'SymmetricTree':\n",
        "        part[i] = 0\n",
        "      elif part[i] == 'Depthwise':\n",
        "        part[i] = 1\n",
        "      if part.best[i] == 'SymmetricTree':\n",
        "        part.best[i] = 0\n",
        "      elif part.best[i] == 'Depthwise':\n",
        "        part.best[i] = 1\n",
        "      if best[i] == 'SymmetricTree':\n",
        "        best[i] = 0\n",
        "      elif best[i] == 'Depthwise':\n",
        "        best[i] = 1\n",
        "\n",
        "    w = [w for _ in range(len(part))]\n",
        "    u1 = (random.uniform(0, 1)*c1 for _ in range(len(part)))\n",
        "    u2 = (random.uniform(0, 1)*c2 for _ in range(len(part)))\n",
        "    v_u1 = map(operator.mul, u1, map(operator.sub, part.best, part))\n",
        "    v_u2 = map(operator.mul, u2, map(operator.sub, best, part))\n",
        "    part.speed = list(map(operator.add, map(operator.mul, w, part.speed), map(operator.add, v_u1, v_u2)))\n",
        "    for i, speed in enumerate(part.speed):\n",
        "        if abs(speed) < part.smin[i]:\n",
        "            part.speed[i] = math.copysign(part.smin[i], speed)\n",
        "        elif abs(speed) > part.smax[i]:\n",
        "            part.speed[i] = math.copysign(part.smax[i], speed)\n",
        "    part[:] = list(map(operator.add, part, part.speed))\n",
        "\n",
        "    for i, pos in enumerate(part):\n",
        "        if is_int[i]:\n",
        "            part[i] = int(pos)\n",
        "\n",
        "# # Register the update strategy\n",
        "#     'n_estimators', 'learning_rate', 'depth', 'l2_leaf_reg',\n",
        "#     'bagging_temperature', 'grow_policy', 'scale_pos_weight'\n",
        "toolbox.register('update', updateParticle, c1=c1, c2=c2, w=w,\n",
        "                 is_int=[True, False, True, False, False, True, False])"
      ]
    },
    {
      "cell_type": "code",
      "execution_count": 9,
      "metadata": {
        "id": "AWzAzr0eTnyD"
      },
      "outputs": [],
      "source": [
        "def evaluate(individual):\n",
        "    # convert list of parameter values into dictionary of kwargs\n",
        "    strategy_params = {k: v for k, v in zip(PARAM_NAMES, individual)}\n",
        "    strategy_params['grow_policy'] = 'SymmetricTree' if strategy_params['grow_policy'] == 0 else 'Depthwise'\n",
        "    if strategy_params['scale_pos_weight'] < 1:\n",
        "        return [-np.inf]\n",
        "    tuned_model = clone(model).set_params(**strategy_params)\n",
        "    score = np.mean(cross_val_score(tuned_model, X_train, y_train, cv=3, scoring='roc_auc'))\n",
        "    return score\n",
        "\n",
        "toolbox.register('evaluate', evaluate)"
      ]
    },
    {
      "cell_type": "code",
      "execution_count": 10,
      "metadata": {
        "id": "pYf5S6hyTnyE"
      },
      "outputs": [],
      "source": [
        "pool = multiprocessing.Pool(1)\n",
        "toolbox.register('map', pool.map)"
      ]
    },
    {
      "cell_type": "code",
      "execution_count": null,
      "metadata": {
        "colab": {
          "base_uri": "https://localhost:8080/"
        },
        "id": "yyG67iltTnyG",
        "outputId": "d37c8d62-8418-4f7f-f5d6-e19d38fcfccc"
      },
      "outputs": [
        {
          "output_type": "stream",
          "name": "stdout",
          "text": [
            "Start time: 2024-01-04 09:19:08\n",
            "\n",
            "HALL OF FAME - generation 0 - 2024-01-04 09:23:24:\n",
            "    0: [372, 0.044045188751503414, 1, 45.317253206279645, -3.8670775573332317, 0, 4.3798521506225985], Fitness: 0.873678800568721\n",
            "    1: [348, -0.006963835199651426, 6, 49.94012037785961, -1.0570849000102234, 0, 2.5946740158628843], Fitness: 0.8629322355562015\n",
            "    2: [358, 0.01949378951425093, 5, 33.22300369315022, 8.223897729117857, 0, 1.8871548673225291], Fitness: 0.8504975257966979\n"
          ]
        }
      ],
      "source": [
        "pop = toolbox.population(n=N)\n",
        "mean_arr = np.ndarray(NUM_TRIALS)\n",
        "best_arr = np.ndarray(NUM_TRIALS)\n",
        "hall_of_fame = tools.HallOfFame(maxsize=3)\n",
        "print(f\"Start time: {time.strftime('%Y-%m-%d %H:%M:%S', time.localtime())}\")\n",
        "\n",
        "best = None\n",
        "for g in range(NUM_TRIALS):\n",
        "    fitnesses = toolbox.map(toolbox.evaluate, pop)\n",
        "    for part, fit in zip(pop, fitnesses):\n",
        "        if type(fit) != list:\n",
        "          fit = [fit]\n",
        "        part.fitness.values = fit\n",
        "\n",
        "        if not part.best or part.fitness.values > part.best.fitness.values:\n",
        "            part.best= creator.Particle(part)\n",
        "            part.best.fitness.values = part.fitness.values\n",
        "        if not best or part.fitness.values > best.fitness.values:\n",
        "            best = creator.Particle(part)\n",
        "            best.fitness.values = part.fitness.values\n",
        "    for part in pop:\n",
        "        toolbox.update(part, best)\n",
        "\n",
        "    hall_of_fame.update(pop)\n",
        "\n",
        "    print(\n",
        "      f\"\\nHALL OF FAME - generation {g} - {time.strftime('%Y-%m-%d %H:%M:%S', time.localtime())}:\\n\"\n",
        "      + \"\\n\".join(\n",
        "          [\n",
        "              f\"    {_}: {ind}, Fitness: {ind.fitness.values[0]}\"\n",
        "              for _, ind in enumerate(hall_of_fame)\n",
        "          ]\n",
        "      )\n",
        "    )\n",
        "\n",
        "    fitnesses = [\n",
        "        ind.fitness.values[0] for ind in pop if not np.isinf(ind.fitness.values[0])\n",
        "    ]\n",
        "    mean_arr[g] = np.mean(fitnesses)\n",
        "    best_arr[g] = np.max(fitnesses)"
      ]
    },
    {
      "cell_type": "code",
      "source": [
        "best"
      ],
      "metadata": {
        "id": "LIteQKHIT8Wg",
        "outputId": "8188caee-1179-4060-a7e5-8a83d23b737f",
        "colab": {
          "base_uri": "https://localhost:8080/"
        }
      },
      "execution_count": 10,
      "outputs": [
        {
          "output_type": "execute_result",
          "data": {
            "text/plain": [
              "[415,\n",
              " 0.2727151286620181,\n",
              " 3,\n",
              " 94.4312945901962,\n",
              " 2.1183111467986904,\n",
              " 0,\n",
              " 3.8435038259524594]"
            ]
          },
          "metadata": {},
          "execution_count": 10
        }
      ]
    },
    {
      "cell_type": "code",
      "source": [],
      "metadata": {
        "id": "67lptjp2oDs7"
      },
      "execution_count": null,
      "outputs": []
    }
  ],
  "metadata": {
    "kernelspec": {
      "display_name": "Python 3",
      "name": "python3"
    },
    "language_info": {
      "codemirror_mode": {
        "name": "ipython",
        "version": 3
      },
      "file_extension": ".py",
      "mimetype": "text/x-python",
      "name": "python",
      "nbconvert_exporter": "python",
      "pygments_lexer": "ipython3",
      "version": "3.9.13"
    },
    "colab": {
      "provenance": [],
      "gpuType": "T4"
    },
    "accelerator": "GPU"
  },
  "nbformat": 4,
  "nbformat_minor": 0
}