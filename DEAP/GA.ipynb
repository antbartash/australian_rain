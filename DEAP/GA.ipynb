{
  "metadata": {
    "kernelspec": {
      "name": "python3",
      "display_name": "Python 3"
    },
    "language_info": {
      "name": "python",
      "version": "3.10.12",
      "mimetype": "text/x-python",
      "codemirror_mode": {
        "name": "ipython",
        "version": 3
      },
      "pygments_lexer": "ipython3",
      "nbconvert_exporter": "python",
      "file_extension": ".py"
    },
    "kaggle": {
      "accelerator": "nvidiaTeslaT4",
      "dataSources": [],
      "dockerImageVersionId": 30627,
      "isInternetEnabled": true,
      "language": "python",
      "sourceType": "notebook",
      "isGpuEnabled": true
    },
    "colab": {
      "provenance": [],
      "gpuType": "T4"
    },
    "accelerator": "GPU"
  },
  "nbformat_minor": 0,
  "nbformat": 4,
  "cells": [
    {
      "cell_type": "code",
      "source": [
        "! pip install catboost\n",
        "! pip install deap"
      ],
      "metadata": {
        "colab": {
          "base_uri": "https://localhost:8080/"
        },
        "id": "75fXi3zoeKEM",
        "outputId": "23c97943-8dd4-4a11-e221-6af025f589ba"
      },
      "execution_count": 1,
      "outputs": [
        {
          "output_type": "stream",
          "name": "stdout",
          "text": [
            "Collecting catboost\n",
            "  Downloading catboost-1.2.2-cp310-cp310-manylinux2014_x86_64.whl (98.7 MB)\n",
            "\u001b[2K     \u001b[90m━━━━━━━━━━━━━━━━━━━━━━━━━━━━━━━━━━━━━━━━\u001b[0m \u001b[32m98.7/98.7 MB\u001b[0m \u001b[31m8.0 MB/s\u001b[0m eta \u001b[36m0:00:00\u001b[0m\n",
            "\u001b[?25hRequirement already satisfied: graphviz in /usr/local/lib/python3.10/dist-packages (from catboost) (0.20.1)\n",
            "Requirement already satisfied: matplotlib in /usr/local/lib/python3.10/dist-packages (from catboost) (3.7.1)\n",
            "Requirement already satisfied: numpy>=1.16.0 in /usr/local/lib/python3.10/dist-packages (from catboost) (1.23.5)\n",
            "Requirement already satisfied: pandas>=0.24 in /usr/local/lib/python3.10/dist-packages (from catboost) (1.5.3)\n",
            "Requirement already satisfied: scipy in /usr/local/lib/python3.10/dist-packages (from catboost) (1.11.4)\n",
            "Requirement already satisfied: plotly in /usr/local/lib/python3.10/dist-packages (from catboost) (5.15.0)\n",
            "Requirement already satisfied: six in /usr/local/lib/python3.10/dist-packages (from catboost) (1.16.0)\n",
            "Requirement already satisfied: python-dateutil>=2.8.1 in /usr/local/lib/python3.10/dist-packages (from pandas>=0.24->catboost) (2.8.2)\n",
            "Requirement already satisfied: pytz>=2020.1 in /usr/local/lib/python3.10/dist-packages (from pandas>=0.24->catboost) (2023.3.post1)\n",
            "Requirement already satisfied: contourpy>=1.0.1 in /usr/local/lib/python3.10/dist-packages (from matplotlib->catboost) (1.2.0)\n",
            "Requirement already satisfied: cycler>=0.10 in /usr/local/lib/python3.10/dist-packages (from matplotlib->catboost) (0.12.1)\n",
            "Requirement already satisfied: fonttools>=4.22.0 in /usr/local/lib/python3.10/dist-packages (from matplotlib->catboost) (4.47.0)\n",
            "Requirement already satisfied: kiwisolver>=1.0.1 in /usr/local/lib/python3.10/dist-packages (from matplotlib->catboost) (1.4.5)\n",
            "Requirement already satisfied: packaging>=20.0 in /usr/local/lib/python3.10/dist-packages (from matplotlib->catboost) (23.2)\n",
            "Requirement already satisfied: pillow>=6.2.0 in /usr/local/lib/python3.10/dist-packages (from matplotlib->catboost) (9.4.0)\n",
            "Requirement already satisfied: pyparsing>=2.3.1 in /usr/local/lib/python3.10/dist-packages (from matplotlib->catboost) (3.1.1)\n",
            "Requirement already satisfied: tenacity>=6.2.0 in /usr/local/lib/python3.10/dist-packages (from plotly->catboost) (8.2.3)\n",
            "Installing collected packages: catboost\n",
            "Successfully installed catboost-1.2.2\n",
            "Collecting deap\n",
            "  Downloading deap-1.4.1-cp310-cp310-manylinux_2_5_x86_64.manylinux1_x86_64.manylinux_2_17_x86_64.manylinux2014_x86_64.whl (135 kB)\n",
            "\u001b[2K     \u001b[90m━━━━━━━━━━━━━━━━━━━━━━━━━━━━━━━━━━━━━━━━\u001b[0m \u001b[32m135.4/135.4 kB\u001b[0m \u001b[31m2.5 MB/s\u001b[0m eta \u001b[36m0:00:00\u001b[0m\n",
            "\u001b[?25hRequirement already satisfied: numpy in /usr/local/lib/python3.10/dist-packages (from deap) (1.23.5)\n",
            "Installing collected packages: deap\n",
            "Successfully installed deap-1.4.1\n"
          ]
        }
      ]
    },
    {
      "cell_type": "code",
      "source": [
        "import numpy as np\n",
        "import pandas as pd\n",
        "import matplotlib.pyplot as plt\n",
        "import seaborn as sns\n",
        "from sklearn.model_selection import train_test_split, cross_val_score\n",
        "from sklearn.base import clone\n",
        "from catboost import CatBoostClassifier\n",
        "from deap import base, creator, tools\n",
        "from scipy.stats import randint, uniform, loguniform\n",
        "import random\n",
        "import multiprocessing\n",
        "import time\n",
        "\n",
        "random.seed(42)"
      ],
      "metadata": {
        "execution": {
          "iopub.status.busy": "2024-01-03T08:21:20.172025Z",
          "iopub.execute_input": "2024-01-03T08:21:20.172325Z",
          "iopub.status.idle": "2024-01-03T08:21:22.039357Z",
          "shell.execute_reply.started": "2024-01-03T08:21:20.172299Z",
          "shell.execute_reply": "2024-01-03T08:21:22.038516Z"
        },
        "trusted": true,
        "id": "F_pcdDHmd-FV"
      },
      "execution_count": 2,
      "outputs": []
    },
    {
      "cell_type": "code",
      "source": [
        "data = pd.read_csv(\n",
        "    'https://raw.githubusercontent.com/antbartash/australian_rain/main/data/data_transformed.csv',\n",
        "    index_col=0\n",
        ")\n",
        "X, y = data.drop(columns=['RainTomorrow', 'RainToday']), data['RainTomorrow']\n",
        "X_train, X_test, y_train, y_test = train_test_split(X, y, test_size=0.2, random_state=42)\n",
        "\n",
        "for column in ['Location', 'WindGustDir', 'WindDir9am', 'WindDir3pm']:\n",
        "    X_train[column] = X_train[column].astype(np.float32).fillna(-1).apply(lambda x: str(x))\n",
        "    X_test[column] = X_test[column].astype(np.float32).fillna(-1).apply(lambda x: str(x))\n",
        "\n",
        "model = CatBoostClassifier(\n",
        "    cat_features=['Location', 'WindGustDir', 'WindDir9am', 'WindDir3pm'],\n",
        "    objective='Logloss',\n",
        "    random_state=42, verbose=False, task_type='GPU'#, gpu_ram_part=0.15, used_ram_limit='2gb'\n",
        ")"
      ],
      "metadata": {
        "execution": {
          "iopub.status.busy": "2024-01-03T08:21:22.737008Z",
          "iopub.execute_input": "2024-01-03T08:21:22.737491Z",
          "iopub.status.idle": "2024-01-03T08:21:23.822740Z",
          "shell.execute_reply.started": "2024-01-03T08:21:22.737460Z",
          "shell.execute_reply": "2024-01-03T08:21:23.821757Z"
        },
        "trusted": true,
        "id": "T2jY3jizd-Fb"
      },
      "execution_count": 3,
      "outputs": []
    },
    {
      "cell_type": "code",
      "source": [
        "# GA parameters\n",
        "NPOP = 10 # population size\n",
        "NGEN = 40 # number of trials\n",
        "CXPB = 0.5 # crossover probability\n",
        "MUTPB = 0.2 # mutation probability\n",
        "\n",
        "creator.create('FitnessMax', base.Fitness, weights=(1.0,))\n",
        "creator.create('Individual', list, fitness=creator.FitnessMax)\n",
        "toolbox = base.Toolbox()"
      ],
      "metadata": {
        "execution": {
          "iopub.status.busy": "2024-01-03T08:35:36.359591Z",
          "iopub.status.idle": "2024-01-03T08:35:36.359935Z",
          "shell.execute_reply.started": "2024-01-03T08:35:36.359761Z",
          "shell.execute_reply": "2024-01-03T08:35:36.359777Z"
        },
        "trusted": true,
        "id": "KHjaLF2ud-Fd"
      },
      "execution_count": 4,
      "outputs": []
    },
    {
      "cell_type": "code",
      "source": [
        "# Register hyperparameters with their distributions\n",
        "PARAM_NAMES = [\n",
        "    'n_estimators', 'learning_rate', 'depth', 'l2_leaf_reg',\n",
        "    'bagging_temperature', 'grow_policy', 'scale_pos_weight'\n",
        "]\n",
        "toolbox.register('n_estimators', randint.rvs, 10, 500)\n",
        "toolbox.register('learning_rate', loguniform.rvs, 1e-6, 0.5)\n",
        "toolbox.register('depth', randint.rvs, 1, 8)\n",
        "toolbox.register('l2_leaf_reg', uniform.rvs, 0.0, 100.0)\n",
        "toolbox.register('bagging_temperature', uniform.rvs, 0.0, 100.0)\n",
        "toolbox.register('grow_policy', random.choice, ['SymmetricTree', 'Depthwise'])\n",
        "toolbox.register('scale_pos_weight', uniform.rvs, 1.0, 4.0)"
      ],
      "metadata": {
        "execution": {
          "iopub.status.busy": "2024-01-03T08:21:23.831171Z",
          "iopub.execute_input": "2024-01-03T08:21:23.831443Z",
          "iopub.status.idle": "2024-01-03T08:21:23.840240Z",
          "shell.execute_reply.started": "2024-01-03T08:21:23.831419Z",
          "shell.execute_reply": "2024-01-03T08:21:23.839322Z"
        },
        "trusted": true,
        "id": "I4akTuv7d-Fe"
      },
      "execution_count": 5,
      "outputs": []
    },
    {
      "cell_type": "code",
      "source": [
        "# Define the genes of an individual and register the population\n",
        "toolbox.register(\n",
        "    'individual', tools.initCycle, creator.Individual,\n",
        "    (toolbox.n_estimators, toolbox.learning_rate, toolbox.depth, toolbox.l2_leaf_reg,\n",
        "     toolbox.bagging_temperature, toolbox.grow_policy, toolbox.scale_pos_weight)\n",
        ")\n",
        "toolbox.register('population', tools.initRepeat, list, toolbox.individual, n=5)"
      ],
      "metadata": {
        "execution": {
          "iopub.status.busy": "2024-01-03T08:21:23.841907Z",
          "iopub.execute_input": "2024-01-03T08:21:23.842195Z",
          "iopub.status.idle": "2024-01-03T08:21:23.850660Z",
          "shell.execute_reply.started": "2024-01-03T08:21:23.842172Z",
          "shell.execute_reply": "2024-01-03T08:21:23.849750Z"
        },
        "trusted": true,
        "id": "HxteTfJSd-Ff"
      },
      "execution_count": 6,
      "outputs": []
    },
    {
      "cell_type": "code",
      "source": [
        "toolbox.individual()"
      ],
      "metadata": {
        "execution": {
          "iopub.status.busy": "2024-01-03T08:21:24.402798Z",
          "iopub.execute_input": "2024-01-03T08:21:24.403160Z",
          "iopub.status.idle": "2024-01-03T08:21:24.410706Z",
          "shell.execute_reply.started": "2024-01-03T08:21:24.403128Z",
          "shell.execute_reply": "2024-01-03T08:21:24.409721Z"
        },
        "trusted": true,
        "colab": {
          "base_uri": "https://localhost:8080/"
        },
        "id": "2A2OTLJ6d-Fg",
        "outputId": "0544bdb7-8bec-41fe-e50b-e493d4bcec9a"
      },
      "execution_count": 7,
      "outputs": [
        {
          "output_type": "execute_result",
          "data": {
            "text/plain": [
              "[162,\n",
              " 1.7335453460230782e-06,\n",
              " 2,\n",
              " 87.3814011129385,\n",
              " 42.17318085618216,\n",
              " 'SymmetricTree',\n",
              " 3.0220670415337367]"
            ]
          },
          "metadata": {},
          "execution_count": 7
        }
      ]
    },
    {
      "cell_type": "code",
      "source": [
        "toolbox.population()"
      ],
      "metadata": {
        "execution": {
          "iopub.status.busy": "2024-01-03T08:21:24.963768Z",
          "iopub.execute_input": "2024-01-03T08:21:24.964403Z",
          "iopub.status.idle": "2024-01-03T08:21:24.973438Z",
          "shell.execute_reply.started": "2024-01-03T08:21:24.964372Z",
          "shell.execute_reply": "2024-01-03T08:21:24.972257Z"
        },
        "trusted": true,
        "colab": {
          "base_uri": "https://localhost:8080/"
        },
        "id": "1kJeAU7Fd-Fh",
        "outputId": "b5bf8bd0-9ca0-4c97-e4b5-12b1b6823862"
      },
      "execution_count": 8,
      "outputs": [
        {
          "output_type": "execute_result",
          "data": {
            "text/plain": [
              "[[263,\n",
              "  0.2690501540569653,\n",
              "  6,\n",
              "  70.95548228663597,\n",
              "  29.60381582637036,\n",
              "  'SymmetricTree',\n",
              "  2.8079405910632214],\n",
              " [375,\n",
              "  0.00018024592631136148,\n",
              "  3,\n",
              "  40.144782498718016,\n",
              "  63.07658068905053,\n",
              "  'Depthwise',\n",
              "  4.771734630206094],\n",
              " [14,\n",
              "  0.005637005206986633,\n",
              "  7,\n",
              "  42.495840884647286,\n",
              "  98.57338342458635,\n",
              "  'SymmetricTree',\n",
              "  3.822207914182469],\n",
              " [307,\n",
              "  0.000258375795923692,\n",
              "  7,\n",
              "  52.17560326092359,\n",
              "  43.16367459891581,\n",
              "  'SymmetricTree',\n",
              "  2.6313288881517956],\n",
              " [123,\n",
              "  0.0001339947068415134,\n",
              "  3,\n",
              "  78.6710027190945,\n",
              "  52.84987372502555,\n",
              "  'SymmetricTree',\n",
              "  1.296019075303485]]"
            ]
          },
          "metadata": {},
          "execution_count": 8
        }
      ]
    },
    {
      "cell_type": "code",
      "source": [
        "# Implement a custom mutation strategy (DEAP strategies are suitable only for floating and binary values)\n",
        "def mutPolynomialBoundedMix(individual, eta, low, up, is_int, indpb, discrete_params):\n",
        "    for i in range(len(individual)):\n",
        "        if discrete_params[i]:\n",
        "            if random.random() < indpb:\n",
        "                individual[i] = random.choice(discrete_params[i])\n",
        "        else:\n",
        "            individual[i] = tools.mutPolynomialBounded(\n",
        "                [individual[i]],  eta[i], low[i], up[i], indpb\n",
        "            )[0][0]\n",
        "        if is_int[i]:\n",
        "            individual[i] = int(individual[i])\n",
        "    return individual"
      ],
      "metadata": {
        "execution": {
          "iopub.status.busy": "2024-01-03T08:21:25.417645Z",
          "iopub.execute_input": "2024-01-03T08:21:25.417958Z",
          "iopub.status.idle": "2024-01-03T08:21:25.424446Z",
          "shell.execute_reply.started": "2024-01-03T08:21:25.417932Z",
          "shell.execute_reply": "2024-01-03T08:21:25.423546Z"
        },
        "trusted": true,
        "id": "I6PU5_rwd-Fj"
      },
      "execution_count": 9,
      "outputs": []
    },
    {
      "cell_type": "code",
      "source": [
        "# Register strategies\n",
        "#     'n_estimators', 'learning_rate', 'depth', 'l2_leaf_reg',\n",
        "#     'bagging_temperature', 'grow_policy', 'scale_pos_weight'\n",
        "toolbox.register('select', tools.selTournament, tournsize=3)\n",
        "toolbox.register('mate', tools.cxUniform, indpb=CXPB)\n",
        "toolbox.register('mutate', mutPolynomialBoundedMix,\n",
        "                 eta=[0.01, 0.01, 0.01, 0.01, 0.01, None, 0.01],\n",
        "                 low=[10, 1e-6, 1, 0.0, 0.0, None, 1.0],\n",
        "                 up=[500, 0.5, 8, 100.0, 100.0, None, 4.0],\n",
        "                 is_int = [True, False, True, False, False, False, False],\n",
        "                 indpb = MUTPB,\n",
        "                 discrete_params=[[], [], [], [], [],\n",
        "                                  ['SymmetricTree', 'Depthwise'],\n",
        "                                  []])"
      ],
      "metadata": {
        "execution": {
          "iopub.status.busy": "2024-01-03T08:21:26.029009Z",
          "iopub.execute_input": "2024-01-03T08:21:26.029759Z",
          "iopub.status.idle": "2024-01-03T08:21:26.037214Z",
          "shell.execute_reply.started": "2024-01-03T08:21:26.029723Z",
          "shell.execute_reply": "2024-01-03T08:21:26.036120Z"
        },
        "trusted": true,
        "id": "2U-oqK73d-Fk"
      },
      "execution_count": 10,
      "outputs": []
    },
    {
      "cell_type": "code",
      "source": [
        "def evaluate(individual):\n",
        "    # convert list of parameter values into dictionary of kwargs\n",
        "    strategy_params = {k: v for k, v in zip(PARAM_NAMES, individual)}\n",
        "    if strategy_params['scale_pos_weight'] < 1:\n",
        "        return [-np.inf]\n",
        "    tuned_model = clone(model).set_params(**strategy_params)\n",
        "    score = np.mean(cross_val_score(tuned_model, X_train, y_train, cv=3, scoring='roc_auc'))\n",
        "    return score\n",
        "\n",
        "toolbox.register('evaluate', evaluate)"
      ],
      "metadata": {
        "execution": {
          "iopub.status.busy": "2024-01-03T08:21:26.672128Z",
          "iopub.execute_input": "2024-01-03T08:21:26.673113Z",
          "iopub.status.idle": "2024-01-03T08:21:26.679150Z",
          "shell.execute_reply.started": "2024-01-03T08:21:26.673068Z",
          "shell.execute_reply": "2024-01-03T08:21:26.678063Z"
        },
        "trusted": true,
        "id": "1MhJDeZxd-Fm"
      },
      "execution_count": 11,
      "outputs": []
    },
    {
      "cell_type": "code",
      "source": [
        "pool = multiprocessing.Pool(1)\n",
        "toolbox.register('map', pool.map)"
      ],
      "metadata": {
        "execution": {
          "iopub.status.busy": "2024-01-03T08:21:27.205907Z",
          "iopub.execute_input": "2024-01-03T08:21:27.206595Z",
          "iopub.status.idle": "2024-01-03T08:21:27.229114Z",
          "shell.execute_reply.started": "2024-01-03T08:21:27.206565Z",
          "shell.execute_reply": "2024-01-03T08:21:27.227299Z"
        },
        "trusted": true,
        "id": "7HYlr0Mkd-Fn"
      },
      "execution_count": 12,
      "outputs": []
    },
    {
      "cell_type": "code",
      "source": [
        "mean = np.ndarray(NGEN)\n",
        "best = np.ndarray(NGEN)\n",
        "hall_of_fame = tools.HallOfFame(maxsize=3)\n",
        "pop = toolbox.population(n=NPOP)\n",
        "print(f\"Start time: {time.strftime('%Y-%m-%d %H:%M:%S', time.localtime())}\")\n",
        "\n",
        "for g in range(NGEN):\n",
        "    # Select the next generation individuals\n",
        "    offspring = toolbox.select(pop, len(pop))\n",
        "    # Clone the selected individuals\n",
        "    offspring = list(map(toolbox.clone, offspring))\n",
        "\n",
        "    # Apply crossover on the offspring\n",
        "    for child1, child2 in zip(offspring[::2], offspring[1::2]):\n",
        "        if random.random() < CXPB:\n",
        "            toolbox.mate(child1, child2)\n",
        "            del child1.fitness.values\n",
        "            del child2.fitness.values\n",
        "\n",
        "    # Apply mutation on the offspring\n",
        "    for mutant in offspring:\n",
        "        if random.random() < MUTPB:\n",
        "            toolbox.mutate(mutant)\n",
        "            del mutant.fitness.values\n",
        "\n",
        "    # Evaluate the individuals with an invalid fitness\n",
        "    invalid_ind = [ind for ind in offspring if not ind.fitness.valid]\n",
        "    fitnesses = toolbox.map(toolbox.evaluate, invalid_ind)\n",
        "    for ind, fit in zip(invalid_ind, fitnesses):\n",
        "        ind.fitness.values = [fit]\n",
        "\n",
        "    # The population is entirely replaced by the offspring\n",
        "    pop[:] = offspring\n",
        "    hall_of_fame.update(pop)\n",
        "    print(\n",
        "        f\"\\nHALL OF FAME - generation {g} - {time.strftime('%Y-%m-%d %H:%M:%S', time.localtime())}:\\n\"\n",
        "        + \"\\n\".join(\n",
        "            [\n",
        "                f\"    {_}: {ind}, Fitness: {ind.fitness.values[0]}\"\n",
        "                for _, ind in enumerate(hall_of_fame)\n",
        "            ]\n",
        "        )\n",
        "    )\n",
        "\n",
        "    fitnesses = [\n",
        "        ind.fitness.values[0] for ind in pop if not np.isinf(ind.fitness.values[0])\n",
        "    ]\n",
        "    mean[g] = np.mean(fitnesses)\n",
        "    best[g] = np.max(fitnesses)"
      ],
      "metadata": {
        "execution": {
          "iopub.status.busy": "2024-01-03T08:21:28.667651Z",
          "iopub.execute_input": "2024-01-03T08:21:28.668727Z"
        },
        "trusted": true,
        "colab": {
          "base_uri": "https://localhost:8080/"
        },
        "id": "rqWg05VLd-Fo",
        "outputId": "da1d98d7-a0c0-4055-b3c8-27e126bdb576"
      },
      "execution_count": 13,
      "outputs": [
        {
          "output_type": "stream",
          "name": "stdout",
          "text": [
            "Start time: 2024-01-03 12:40:01\n",
            "\n",
            "HALL OF FAME - generation 0 - 2024-01-03 12:42:03:\n",
            "    0: [447, 3.3624119093541463e-06, 6, 8.17142695386811, 23.62428628066453, 'SymmetricTree', 1.0220488782440902], Fitness: 0.846949546323172\n",
            "    1: [450, 0.0015078340181674348, 3, 79.6907676126998, 11.950416092988824, 'SymmetricTree', 4.822210920146424], Fitness: 0.8407318824856214\n",
            "    2: [86, 0.0004314777150938274, 2, 62.39919957058967, 21.73876661025742, 'SymmetricTree', 1.7228581038072264], Fitness: 0.8363460121250808\n",
            "\n",
            "HALL OF FAME - generation 1 - 2024-01-03 12:42:57:\n",
            "    0: [447, 3.3624119093541463e-06, 6, 8.17142695386811, 23.62428628066453, 'SymmetricTree', 1.0220488782440902], Fitness: 0.846949546323172\n",
            "    1: [447, 3.3624119093541463e-06, 6, 62.39919957058967, 23.62428628066453, 'SymmetricTree', 1.7228581038072264], Fitness: 0.8465743157447706\n",
            "    2: [450, 0.0015078340181674348, 3, 79.6907676126998, 11.950416092988824, 'SymmetricTree', 4.822210920146424], Fitness: 0.8407318824856214\n",
            "\n",
            "HALL OF FAME - generation 2 - 2024-01-03 12:45:03:\n",
            "    0: [450, 0.0015078340181674348, 6, 79.6907676126998, 11.950416092988824, 'SymmetricTree', 1.7228581038072264], Fitness: 0.84836752345565\n",
            "    1: [447, 3.3624119093541463e-06, 6, 8.17142695386811, 23.62428628066453, 'SymmetricTree', 1.0220488782440902], Fitness: 0.846949546323172\n",
            "    2: [447, 3.3624119093541463e-06, 6, 62.39919957058967, 23.62428628066453, 'SymmetricTree', 1.7228581038072264], Fitness: 0.8465743157447706\n",
            "\n",
            "HALL OF FAME - generation 3 - 2024-01-03 12:47:47:\n",
            "    0: [450, 0.0015078340181674348, 6, 79.6907676126998, 6.73607345607744, 'SymmetricTree', 1.7228581038072264], Fitness: 0.8505225999859882\n",
            "    1: [450, 0.0015078340181674348, 6, 79.6907676126998, 11.950416092988824, 'SymmetricTree', 1.7228581038072264], Fitness: 0.84836752345565\n",
            "    2: [450, 0.0015078340181674348, 6, 8.17142695386811, 11.950416092988824, 'SymmetricTree', 1.0220488782440902], Fitness: 0.848312142104351\n",
            "\n",
            "HALL OF FAME - generation 4 - 2024-01-03 12:51:03:\n",
            "    0: [450, 0.4615611629249282, 6, 69.31750747580902, 11.950416092988824, 'SymmetricTree', 1.7228581038072264], Fitness: 0.8833052011276917\n",
            "    1: [450, 0.0015078340181674348, 6, 79.6907676126998, 6.73607345607744, 'SymmetricTree', 1.7228581038072264], Fitness: 0.8505225999859882\n",
            "    2: [450, 0.0015078340181674348, 6, 79.6907676126998, 11.950416092988824, 'SymmetricTree', 1.7228581038072264], Fitness: 0.84836752345565\n",
            "\n",
            "HALL OF FAME - generation 5 - 2024-01-03 12:52:33:\n",
            "    0: [450, 0.4615611629249282, 6, 69.31750747580902, 1.1051953359758606, 'SymmetricTree', 1.7228581038072264], Fitness: 0.8940207971160218\n",
            "    1: [450, 0.4615611629249282, 6, 69.31750747580902, 11.950416092988824, 'SymmetricTree', 1.7228581038072264], Fitness: 0.8833052011276917\n",
            "    2: [450, 0.4615611629249282, 6, 79.6907676126998, 11.950416092988824, 'SymmetricTree', 1.7228581038072264], Fitness: 0.8825049371722598\n",
            "\n",
            "HALL OF FAME - generation 6 - 2024-01-03 12:55:17:\n",
            "    0: [450, 0.4615611629249282, 6, 69.31750747580902, 1.1051953359758606, 'SymmetricTree', 1.7228581038072264], Fitness: 0.8940207971160218\n",
            "    1: [450, 0.4615611629249282, 6, 69.31750747580902, 11.950416092988824, 'SymmetricTree', 1.7228581038072264], Fitness: 0.8833052011276917\n",
            "    2: [450, 0.4615611629249282, 6, 79.6907676126998, 11.950416092988824, 'SymmetricTree', 1.7228581038072264], Fitness: 0.8825049371722598\n",
            "\n",
            "HALL OF FAME - generation 7 - 2024-01-03 12:57:45:\n",
            "    0: [450, 0.4615611629249282, 6, 69.31750747580902, 1.1051953359758606, 'SymmetricTree', 1.7228581038072264], Fitness: 0.8940207971160218\n",
            "    1: [452, 0.4615611629249282, 6, 69.31750747580902, 11.950416092988824, 'SymmetricTree', 1.7228581038072264], Fitness: 0.8835321699165192\n",
            "    2: [450, 0.4615611629249282, 6, 69.31750747580902, 11.950416092988824, 'SymmetricTree', 1.7228581038072264], Fitness: 0.8833052011276917\n",
            "\n",
            "HALL OF FAME - generation 8 - 2024-01-03 13:01:47:\n",
            "    0: [442, 0.4615611629249282, 6, 88.39739275901474, 1.1051953359758606, 'SymmetricTree', 2.9234367090247035], Fitness: 0.8941850414789695\n",
            "    1: [450, 0.4615611629249282, 6, 69.31750747580902, 1.1051953359758606, 'SymmetricTree', 1.7228581038072264], Fitness: 0.8940207971160218\n",
            "    2: [453, 0.4615611629249282, 6, 69.31750747580902, 1.1051953359758606, 'Depthwise', 1.017757190805047], Fitness: 0.8857467953991538\n",
            "\n",
            "HALL OF FAME - generation 9 - 2024-01-03 13:04:46:\n",
            "    0: [442, 0.4615611629249282, 6, 88.39739275901474, 1.1051953359758606, 'SymmetricTree', 2.9234367090247035], Fitness: 0.8941850414789695\n",
            "    1: [450, 0.4615611629249282, 6, 69.31750747580902, 1.1051953359758606, 'SymmetricTree', 1.7228581038072264], Fitness: 0.8940207971160218\n",
            "    2: [450, 0.4615611629249282, 6, 69.31750747580902, 1.1051953359758606, 'SymmetricTree', 2.9234367090247035], Fitness: 0.8930615350875062\n",
            "\n",
            "HALL OF FAME - generation 10 - 2024-01-03 13:07:47:\n",
            "    0: [442, 0.4615611629249282, 6, 88.39739275901474, 1.1051953359758606, 'SymmetricTree', 2.9234367090247035], Fitness: 0.8941850414789695\n",
            "    1: [450, 0.4615611629249282, 6, 69.31750747580902, 1.1051953359758606, 'SymmetricTree', 1.7228581038072264], Fitness: 0.8940207971160218\n",
            "    2: [450, 0.4615611629249282, 6, 69.31750747580902, 1.1051953359758606, 'SymmetricTree', 2.9234367090247035], Fitness: 0.8930615350875062\n",
            "\n",
            "HALL OF FAME - generation 11 - 2024-01-03 13:09:28:\n",
            "    0: [442, 0.4615611629249282, 6, 88.39739275901474, 1.1051953359758606, 'SymmetricTree', 2.9234367090247035], Fitness: 0.8941850414789695\n",
            "    1: [450, 0.4615611629249282, 6, 69.31750747580902, 1.1051953359758606, 'SymmetricTree', 1.7228581038072264], Fitness: 0.8940207971160218\n",
            "    2: [450, 0.4615611629249282, 6, 69.31750747580902, 1.1051953359758606, 'SymmetricTree', 2.9234367090247035], Fitness: 0.8930615350875062\n",
            "\n",
            "HALL OF FAME - generation 12 - 2024-01-03 13:13:57:\n",
            "    0: [442, 0.4615611629249282, 6, 88.39739275901474, 0.21477987026071643, 'SymmetricTree', 3.5442657403395734], Fitness: 0.8942109087043341\n",
            "    1: [442, 0.4615611629249282, 6, 88.39739275901474, 1.1051953359758606, 'SymmetricTree', 2.9234367090247035], Fitness: 0.8941850414789695\n",
            "    2: [450, 0.4615611629249282, 6, 69.31750747580902, 1.1051953359758606, 'SymmetricTree', 1.7228581038072264], Fitness: 0.8940207971160218\n",
            "\n",
            "HALL OF FAME - generation 13 - 2024-01-03 13:17:58:\n",
            "    0: [442, 0.4615611629249282, 6, 88.39739275901474, 0.21477987026071643, 'SymmetricTree', 2.9234367090247035], Fitness: 0.8948088472505398\n",
            "    1: [442, 0.4615611629249282, 6, 59.1248840255744, 0.21477987026071643, 'SymmetricTree', 1.7228581038072264], Fitness: 0.8942930222296628\n",
            "    2: [442, 0.4615611629249282, 6, 88.39739275901474, 0.21477987026071643, 'SymmetricTree', 3.5442657403395734], Fitness: 0.8942109087043341\n",
            "\n",
            "HALL OF FAME - generation 14 - 2024-01-03 13:21:31:\n",
            "    0: [442, 0.4615611629249282, 6, 88.39739275901474, 0.21477987026071643, 'SymmetricTree', 1.7228581038072264], Fitness: 0.8951399621177255\n",
            "    1: [442, 0.4615611629249282, 6, 88.39739275901474, 0.21477987026071643, 'SymmetricTree', 2.9234367090247035], Fitness: 0.8948088472505398\n",
            "    2: [442, 0.4615611629249282, 6, 88.39739275901474, 0.21477987026071643, 'SymmetricTree', 3.5442657403395734], Fitness: 0.8943348580453975\n",
            "\n",
            "HALL OF FAME - generation 15 - 2024-01-03 13:24:35:\n",
            "    0: [442, 0.07617171552400959, 6, 88.39739275901474, 0.21477987026071643, 'SymmetricTree', 1.7228581038072264], Fitness: 0.8994346126881596\n",
            "    1: [442, 0.4615611629249282, 6, 88.39739275901474, 0.21477987026071643, 'SymmetricTree', 1.7228581038072264], Fitness: 0.8951399621177255\n",
            "    2: [442, 0.4615611629249282, 6, 88.39739275901474, 0.21477987026071643, 'SymmetricTree', 2.9234367090247035], Fitness: 0.8948088472505398\n",
            "\n",
            "HALL OF FAME - generation 16 - 2024-01-03 13:27:03:\n",
            "    0: [442, 0.07617171552400959, 6, 88.39739275901474, 0.21477987026071643, 'SymmetricTree', 1.7228581038072264], Fitness: 0.8994346126881596\n",
            "    1: [442, 0.07617171552400959, 6, 88.39739275901474, 0.21477987026071643, 'SymmetricTree', 2.9234367090247035], Fitness: 0.8994297759005502\n",
            "    2: [442, 0.4615611629249282, 6, 88.39739275901474, 0.21477987026071643, 'SymmetricTree', 1.7228581038072264], Fitness: 0.8951399621177255\n",
            "\n",
            "HALL OF FAME - generation 17 - 2024-01-03 13:30:29:\n",
            "    0: [442, 0.07617171552400959, 6, 88.39739275901474, 0.21477987026071643, 'SymmetricTree', 1.7228581038072264], Fitness: 0.8994346126881596\n",
            "    1: [442, 0.07617171552400959, 6, 88.39739275901474, 0.21477987026071643, 'SymmetricTree', 2.9234367090247035], Fitness: 0.8994297759005502\n",
            "    2: [442, 0.07617171552400959, 6, 88.39739275901474, 0.033147315018799084, 'SymmetricTree', 3.5060714763883145], Fitness: 0.8990819959562325\n",
            "\n",
            "HALL OF FAME - generation 18 - 2024-01-03 13:31:30:\n",
            "    0: [442, 0.07617171552400959, 6, 88.39739275901474, 0.21477987026071643, 'SymmetricTree', 1.7228581038072264], Fitness: 0.8994346126881596\n",
            "    1: [442, 0.07617171552400959, 6, 88.39739275901474, 0.21477987026071643, 'SymmetricTree', 2.9234367090247035], Fitness: 0.8994297759005502\n",
            "    2: [442, 0.07617171552400959, 6, 88.39739275901474, 0.033147315018799084, 'SymmetricTree', 3.5060714763883145], Fitness: 0.8990819959562325\n",
            "\n",
            "HALL OF FAME - generation 19 - 2024-01-03 13:34:05:\n",
            "    0: [442, 0.07617171552400959, 7, 88.39739275901474, 0.21477987026071643, 'SymmetricTree', 1.7228581038072264], Fitness: 0.9005477583396445\n",
            "    1: [442, 0.07617171552400959, 6, 88.39739275901474, 0.21477987026071643, 'SymmetricTree', 1.7228581038072264], Fitness: 0.8994346126881596\n",
            "    2: [442, 0.07617171552400959, 6, 88.39739275901474, 0.21477987026071643, 'SymmetricTree', 2.9234367090247035], Fitness: 0.8994297759005502\n",
            "\n",
            "HALL OF FAME - generation 20 - 2024-01-03 13:38:05:\n",
            "    0: [444, 0.07617171552400959, 7, 88.39739275901474, 0.21477987026071643, 'SymmetricTree', 1.7228581038072264], Fitness: 0.9005583055196738\n",
            "    1: [442, 0.07617171552400959, 7, 88.39739275901474, 0.21477987026071643, 'SymmetricTree', 1.7228581038072264], Fitness: 0.9005477583396445\n",
            "    2: [399, 0.07617171552400959, 7, 24.530578859997796, 0.21477987026071643, 'SymmetricTree', 1.7228581038072264], Fitness: 0.9002668171536182\n",
            "\n",
            "HALL OF FAME - generation 21 - 2024-01-03 13:41:29:\n",
            "    0: [444, 0.07617171552400959, 7, 88.39739275901474, 0.21477987026071643, 'SymmetricTree', 1.7228581038072264], Fitness: 0.9005583055196738\n",
            "    1: [442, 0.07617171552400959, 7, 88.39739275901474, 0.21477987026071643, 'SymmetricTree', 1.7228581038072264], Fitness: 0.9005477583396445\n",
            "    2: [399, 0.07617171552400959, 7, 24.530578859997796, 0.21477987026071643, 'SymmetricTree', 1.7228581038072264], Fitness: 0.9002668171536182\n",
            "\n",
            "HALL OF FAME - generation 22 - 2024-01-03 13:44:37:\n",
            "    0: [444, 0.07617171552400959, 7, 88.39739275901474, 0.21477987026071643, 'SymmetricTree', 1.7228581038072264], Fitness: 0.9005583055196738\n",
            "    1: [442, 0.07617171552400959, 7, 88.39739275901474, 0.21477987026071643, 'SymmetricTree', 1.7228581038072264], Fitness: 0.9005477583396445\n",
            "    2: [399, 0.07617171552400959, 7, 24.530578859997796, 0.21477987026071643, 'SymmetricTree', 1.7228581038072264], Fitness: 0.9002668171536182\n",
            "\n",
            "HALL OF FAME - generation 23 - 2024-01-03 13:48:24:\n",
            "    0: [444, 0.07617171552400959, 7, 88.39739275901474, 0.21477987026071643, 'SymmetricTree', 1.7228581038072264], Fitness: 0.9005583055196738\n",
            "    1: [442, 0.07617171552400959, 7, 88.39739275901474, 0.21477987026071643, 'SymmetricTree', 1.7228581038072264], Fitness: 0.9005477583396445\n",
            "    2: [399, 0.07617171552400959, 7, 24.530578859997796, 0.21477987026071643, 'SymmetricTree', 1.7228581038072264], Fitness: 0.9002668171536182\n",
            "\n",
            "HALL OF FAME - generation 24 - 2024-01-03 13:52:09:\n",
            "    0: [444, 0.11859089833185385, 7, 88.39739275901474, 0.21477987026071643, 'SymmetricTree', 1.7228581038072264], Fitness: 0.9018905208945389\n",
            "    1: [444, 0.07617171552400959, 7, 88.39739275901474, 0.21477987026071643, 'SymmetricTree', 1.5976546907471083], Fitness: 0.9006022481079851\n",
            "    2: [444, 0.07617171552400959, 7, 88.39739275901474, 0.21477987026071643, 'SymmetricTree', 1.7228581038072264], Fitness: 0.9005583055196738\n",
            "\n",
            "HALL OF FAME - generation 25 - 2024-01-03 13:54:18:\n",
            "    0: [444, 0.11859089833185385, 7, 88.39739275901474, 0.21477987026071643, 'SymmetricTree', 1.7228581038072264], Fitness: 0.9018905208945389\n",
            "    1: [444, 0.11859089833185385, 7, 88.39739275901474, 0.06580284216957022, 'SymmetricTree', 1.7228581038072264], Fitness: 0.9017085807073199\n",
            "    2: [444, 0.07617171552400959, 7, 88.39739275901474, 0.21477987026071643, 'SymmetricTree', 1.5976546907471083], Fitness: 0.9006022481079851\n",
            "\n",
            "HALL OF FAME - generation 26 - 2024-01-03 13:58:09:\n",
            "    0: [444, 0.11859089833185385, 7, 88.39739275901474, 0.21477987026071643, 'SymmetricTree', 1.7228581038072264], Fitness: 0.9018905208945389\n",
            "    1: [444, 0.11859089833185385, 7, 88.39739275901474, 0.06580284216957022, 'SymmetricTree', 1.7228581038072264], Fitness: 0.9017085807073199\n",
            "    2: [444, 0.11859089833185385, 7, 99.83390496020675, 0.21477987026071643, 'SymmetricTree', 1.7228581038072264], Fitness: 0.9013273600764221\n",
            "\n",
            "HALL OF FAME - generation 27 - 2024-01-03 14:00:42:\n",
            "    0: [444, 0.11859089833185385, 7, 88.39739275901474, 0.21477987026071643, 'SymmetricTree', 1.7228581038072264], Fitness: 0.9018905208945389\n",
            "    1: [444, 0.11859089833185385, 7, 88.39739275901474, 0.06580284216957022, 'SymmetricTree', 1.7228581038072264], Fitness: 0.9017085807073199\n",
            "    2: [444, 0.11859089833185385, 7, 99.83390496020675, 0.21477987026071643, 'SymmetricTree', 1.7228581038072264], Fitness: 0.9013273600764221\n",
            "\n",
            "HALL OF FAME - generation 28 - 2024-01-03 14:05:08:\n",
            "    0: [444, 0.11859089833185385, 7, 88.39739275901474, 0.21477987026071643, 'SymmetricTree', 1.7228581038072264], Fitness: 0.9018905208945389\n",
            "    1: [444, 0.11859089833185385, 7, 88.39739275901474, 0.06580284216957022, 'SymmetricTree', 1.7228581038072264], Fitness: 0.9017085807073199\n",
            "    2: [444, 0.11859089833185385, 7, 88.39739275901474, 0.14169736492960405, 'SymmetricTree', 1.7228581038072264], Fitness: 0.9016145217015792\n",
            "\n",
            "HALL OF FAME - generation 29 - 2024-01-03 14:08:17:\n",
            "    0: [444, 0.11859089833185385, 7, 88.39739275901474, 0.21477987026071643, 'SymmetricTree', 1.7228581038072264], Fitness: 0.9018905208945389\n",
            "    1: [444, 0.11859089833185385, 7, 88.39739275901474, 0.06580284216957022, 'SymmetricTree', 1.7228581038072264], Fitness: 0.9017085807073199\n",
            "    2: [444, 0.11859089833185385, 7, 88.39739275901474, 0.21477987026071643, 'SymmetricTree', 3.961760706301858], Fitness: 0.9016795453328026\n",
            "\n",
            "HALL OF FAME - generation 30 - 2024-01-03 14:12:21:\n",
            "    0: [444, 0.11859089833185385, 7, 88.39739275901474, 0.21477987026071643, 'SymmetricTree', 1.7228581038072264], Fitness: 0.9018905208945389\n",
            "    1: [444, 0.11859089833185385, 7, 88.39739275901474, 0.06580284216957022, 'SymmetricTree', 1.7228581038072264], Fitness: 0.9017085807073199\n",
            "    2: [444, 0.11859089833185385, 7, 88.39739275901474, 0.21477987026071643, 'SymmetricTree', 3.961760706301858], Fitness: 0.9016795453328026\n",
            "\n",
            "HALL OF FAME - generation 31 - 2024-01-03 14:16:50:\n",
            "    0: [444, 0.11859089833185385, 7, 88.39739275901474, 0.21477987026071643, 'SymmetricTree', 1.7228581038072264], Fitness: 0.9018905208945389\n",
            "    1: [444, 0.11859089833185385, 7, 88.39739275901474, 0.06580284216957022, 'SymmetricTree', 1.7228581038072264], Fitness: 0.9017085807073199\n",
            "    2: [444, 0.11859089833185385, 7, 88.39739275901474, 0.21477987026071643, 'SymmetricTree', 3.961760706301858], Fitness: 0.9016795453328026\n",
            "\n",
            "HALL OF FAME - generation 32 - 2024-01-03 14:21:21:\n",
            "    0: [444, 0.11859089833185385, 7, 88.39739275901474, 0.21477987026071643, 'SymmetricTree', 1.7228581038072264], Fitness: 0.9018905208945389\n",
            "    1: [444, 0.11859089833185385, 7, 88.39739275901474, 0.06580284216957022, 'SymmetricTree', 1.7228581038072264], Fitness: 0.9017085807073199\n",
            "    2: [444, 0.11859089833185385, 7, 88.39739275901474, 0.21477987026071643, 'SymmetricTree', 3.961760706301858], Fitness: 0.9016795453328026\n",
            "\n",
            "HALL OF FAME - generation 33 - 2024-01-03 14:25:11:\n",
            "    0: [444, 0.11859089833185385, 7, 88.39739275901474, 0.21477987026071643, 'SymmetricTree', 1.7228581038072264], Fitness: 0.9018905208945389\n",
            "    1: [444, 0.11859089833185385, 7, 88.39739275901474, 0.06580284216957022, 'SymmetricTree', 1.7228581038072264], Fitness: 0.9017085807073199\n",
            "    2: [444, 0.11859089833185385, 7, 88.39739275901474, 0.21477987026071643, 'SymmetricTree', 3.961760706301858], Fitness: 0.9016795453328026\n",
            "\n",
            "HALL OF FAME - generation 34 - 2024-01-03 14:28:24:\n",
            "    0: [444, 0.11859089833185385, 7, 88.39739275901474, 0.21477987026071643, 'SymmetricTree', 1.7228581038072264], Fitness: 0.9018905208945389\n",
            "    1: [444, 0.11859089833185385, 7, 88.39739275901474, 0.21477987026071643, 'SymmetricTree', 2.9675655485848047], Fitness: 0.9018397466100724\n",
            "    2: [444, 0.11859089833185385, 7, 88.39739275901474, 0.06580284216957022, 'SymmetricTree', 1.7228581038072264], Fitness: 0.9017085807073199\n",
            "\n",
            "HALL OF FAME - generation 35 - 2024-01-03 14:32:27:\n",
            "    0: [469, 0.11859089833185385, 7, 88.39739275901474, 0.21477987026071643, 'SymmetricTree', 1.7228581038072264], Fitness: 0.9021505688094189\n",
            "    1: [444, 0.11859089833185385, 7, 88.39739275901474, 0.21477987026071643, 'SymmetricTree', 1.7228581038072264], Fitness: 0.9018905208945389\n",
            "    2: [444, 0.11859089833185385, 7, 88.39739275901474, 0.21477987026071643, 'SymmetricTree', 2.9675655485848047], Fitness: 0.9018397466100724\n",
            "\n",
            "HALL OF FAME - generation 36 - 2024-01-03 14:34:24:\n",
            "    0: [469, 0.11859089833185385, 7, 88.39739275901474, 0.21477987026071643, 'SymmetricTree', 1.7228581038072264], Fitness: 0.9021505688094189\n",
            "    1: [444, 0.11859089833185385, 7, 88.39739275901474, 0.21477987026071643, 'SymmetricTree', 1.7228581038072264], Fitness: 0.9018905208945389\n",
            "    2: [444, 0.11859089833185385, 7, 88.39739275901474, 0.21477987026071643, 'SymmetricTree', 2.9675655485848047], Fitness: 0.9018397466100724\n",
            "\n",
            "HALL OF FAME - generation 37 - 2024-01-03 14:39:06:\n",
            "    0: [469, 0.11859089833185385, 7, 88.39739275901474, 0.21477987026071643, 'SymmetricTree', 1.7228581038072264], Fitness: 0.9021505688094189\n",
            "    1: [444, 0.11859089833185385, 7, 88.39739275901474, 0.21477987026071643, 'SymmetricTree', 1.7228581038072264], Fitness: 0.9018905208945389\n",
            "    2: [444, 0.11859089833185385, 7, 88.39739275901474, 0.21477987026071643, 'SymmetricTree', 2.9675655485848047], Fitness: 0.9018397466100724\n",
            "\n",
            "HALL OF FAME - generation 38 - 2024-01-03 14:44:42:\n",
            "    0: [469, 0.11859089833185385, 7, 88.39739275901474, 0.21477987026071643, 'SymmetricTree', 1.7228581038072264], Fitness: 0.9021505688094189\n",
            "    1: [444, 0.11859089833185385, 7, 88.39739275901474, 0.21477987026071643, 'SymmetricTree', 1.7228581038072264], Fitness: 0.9018905208945389\n",
            "    2: [444, 0.11859089833185385, 7, 88.39739275901474, 0.21477987026071643, 'SymmetricTree', 2.9675655485848047], Fitness: 0.9018397466100724\n",
            "\n",
            "HALL OF FAME - generation 39 - 2024-01-03 14:47:33:\n",
            "    0: [469, 0.11859089833185385, 7, 88.39739275901474, 0.21477987026071643, 'SymmetricTree', 1.7228581038072264], Fitness: 0.9021505688094189\n",
            "    1: [444, 0.11859089833185385, 7, 88.39739275901474, 0.21477987026071643, 'SymmetricTree', 1.7228581038072264], Fitness: 0.9018905208945389\n",
            "    2: [444, 0.11859089833185385, 7, 88.39739275901474, 0.21477987026071643, 'SymmetricTree', 2.9675655485848047], Fitness: 0.9018397466100724\n"
          ]
        }
      ]
    },
    {
      "cell_type": "code",
      "source": [
        "params = {}\n",
        "for idx_hof, param_name in enumerate(PARAM_NAMES):\n",
        "    params[param_name] = hall_of_fame[0][idx_hof]\n",
        "\n",
        "params"
      ],
      "metadata": {
        "execution": {
          "iopub.status.busy": "2024-01-02T22:07:51.309106Z",
          "iopub.execute_input": "2024-01-02T22:07:51.309539Z",
          "iopub.status.idle": "2024-01-02T22:07:51.318238Z",
          "shell.execute_reply.started": "2024-01-02T22:07:51.309465Z",
          "shell.execute_reply": "2024-01-02T22:07:51.317337Z"
        },
        "trusted": true,
        "colab": {
          "base_uri": "https://localhost:8080/"
        },
        "id": "8ftdvHdzd-Fo",
        "outputId": "89d5d74e-b842-448c-a1af-9be90981f33e"
      },
      "execution_count": 14,
      "outputs": [
        {
          "output_type": "execute_result",
          "data": {
            "text/plain": [
              "{'n_estimators': 469,\n",
              " 'learning_rate': 0.11859089833185385,\n",
              " 'depth': 7,\n",
              " 'l2_leaf_reg': 88.39739275901474,\n",
              " 'bagging_temperature': 0.21477987026071643,\n",
              " 'grow_policy': 'SymmetricTree',\n",
              " 'scale_pos_weight': 1.7228581038072264}"
            ]
          },
          "metadata": {},
          "execution_count": 14
        }
      ]
    },
    {
      "cell_type": "code",
      "source": [
        "fig, ax = plt.subplots(sharex=True, figsize=(12, 5))\n",
        "\n",
        "sns.lineplot(x=range(NGEN), y=mean, ax=ax, label=\"Average Fitness Score\")\n",
        "sns.lineplot(x=range(NGEN), y=best, ax=ax, label=\"Best Fitness Score\")\n",
        "ax.set_title(\"Fitness Score\")\n",
        "ax.set_xticks(range(NGEN))\n",
        "ax.set_xlabel(\"Iteration\")\n",
        "plt.tight_layout()\n",
        "plt.show()"
      ],
      "metadata": {
        "colab": {
          "base_uri": "https://localhost:8080/",
          "height": 507
        },
        "id": "OQRREjOnd-Fp",
        "outputId": "51b3972e-b6bd-4570-8412-f5cd101e23d1"
      },
      "execution_count": 17,
      "outputs": [
        {
          "output_type": "display_data",
          "data": {
            "text/plain": [
              "<Figure size 1200x500 with 1 Axes>"
            ],
            "image/png": "[encoded data removed]"
          },
          "metadata": {}
        }
      ]
    },
    {
      "cell_type": "code",
      "source": [
        "fig, ax = plt.subplots(sharex=True, figsize=(12, 5))\n",
        "sns.lineplot(x=range(NGEN), y=best, ax=ax, label=\"Best Fitness Score\", color='tab:orange')\n",
        "ax.set_title(\"Fitness Score\")\n",
        "ax.set_xticks(range(NGEN))\n",
        "ax.set_xlabel(\"Iteration\")\n",
        "ax.set_ylim(0.87, 0.93)\n",
        "plt.tight_layout()\n",
        "plt.show()"
      ],
      "metadata": {
        "colab": {
          "base_uri": "https://localhost:8080/",
          "height": 507
        },
        "id": "fhtAh3EdRbks",
        "outputId": "3a51f4dc-7d60-4928-e46e-95c43e1ea6d4"
      },
      "execution_count": 22,
      "outputs": [
        {
          "output_type": "display_data",
          "data": {
            "text/plain": [
              "<Figure size 1200x500 with 1 Axes>"
            ],
            "image/png": "[encoded data removed]"
          },
          "metadata": {}
        }
      ]
    },
    {
      "cell_type": "code",
      "source": [],
      "metadata": {
        "id": "Bm5Z6vBT2Vov"
      },
      "execution_count": null,
      "outputs": []
    }
  ]
}