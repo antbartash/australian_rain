{
 "cells": [
  {
   "cell_type": "code",
   "execution_count": 1,
   "metadata": {},
   "outputs": [],
   "source": [
    "import numpy as np\n",
    "import pandas as pd\n",
    "from lightgbm import LGBMClassifier\n",
    "from sklearn.model_selection import train_test_split, cross_validate\n",
    "import nni\n",
    "from nni.experiment import Experiment\n",
    "import os\n",
    "\n",
    "os.chdir('C:\\\\Users\\\\olial\\\\OneDrive\\\\Desktop\\\\Hyperparameter_tuning')"
   ]
  },
  {
   "cell_type": "code",
   "execution_count": 2,
   "metadata": {},
   "outputs": [],
   "source": [
    "hyperparameter_space = {\n",
    "    'n_estimators': {'_type': 'randint', '_value': [100, 10000]},\n",
    "    'learning_rate': {'_type': 'loguniform', '_value': [1e-6, 0.3]},\n",
    "    'num_leaves': {'_type': 'randint', '_value': [10, 250]},\n",
    "    'max_depth': {'_type': 'randint', '_value': [1, 50]},\n",
    "    # 'class_weight': {'_type': 'choice', '_value': [None, 'balanced']},\n",
    "    'colsample_bytree': {'_type': 'uniform', '_value': [0.3, 1.0]},\n",
    "    'reg_alpha': {'_type': 'uniform', '_value': [0.0, 100.0]},\n",
    "    'reg_lambda': {'_type': 'uniform', '_value': [0.0, 100.0]}\n",
    "}"
   ]
  },
  {
   "cell_type": "code",
   "execution_count": 3,
   "metadata": {},
   "outputs": [],
   "source": [
    "experiment = Experiment('local')\n",
    "experiment.config.experiment_name = 'lgbm_nni_bogp'\n",
    "experiment.config.tuner.name = 'GPTuner'\n",
    "experiment.config.tuner.class_args = {\n",
    "    'optimize_mode': 'maximize',\n",
    "    'utility': 'ei', # aquisition function\n",
    "    'xi': 0.1,\n",
    "    'cold_start_num': 1\n",
    "}\n",
    "experiment.config.trial_command = 'model.py'\n",
    "experiment.config.trial_code_directory = '.'\n",
    "experiment.config.search_space = hyperparameter_space\n",
    "experiment.config.max_trial_number = 5\n",
    "experiment.config.trial_concurrency = 2\n",
    "experiment.config.max_experiment_duration = '1h'"
   ]
  },
  {
   "cell_type": "code",
   "execution_count": 4,
   "metadata": {},
   "outputs": [
    {
     "name": "stdout",
     "output_type": "stream",
     "text": [
      "[2023-12-20 22:24:39] \u001b[32mCreating experiment, Experiment ID: \u001b[36mctabxhl5\u001b[0m\n",
      "[2023-12-20 22:24:39] \u001b[32mStarting web server...\u001b[0m\n",
      "[2023-12-20 22:24:42] \u001b[32mSetting up...\u001b[0m\n",
      "[2023-12-20 22:24:42] \u001b[32mWeb portal URLs: \u001b[36mhttp://169.254.36.183:8080 http://169.254.250.143:8080 http://169.254.233.169:8080 http://192.168.100.3:8080 http://169.254.162.61:8080 http://127.0.0.1:8080\u001b[0m\n"
     ]
    },
    {
     "data": {
      "text/plain": [
       "True"
      ]
     },
     "execution_count": 4,
     "metadata": {},
     "output_type": "execute_result"
    }
   ],
   "source": [
    "experiment.run(8080, wait_completion=True, debug=False)"
   ]
  },
  {
   "cell_type": "code",
   "execution_count": 5,
   "metadata": {},
   "outputs": [
    {
     "name": "stdout",
     "output_type": "stream",
     "text": [
      "{'colsample_bytree': 0.5370702495733922, 'learning_rate': 0.2062014832704657, 'max_depth': 13, 'n_estimators': 8002, 'num_leaves': 32, 'reg_alpha': 39.18582170442561, 'reg_lambda': 37.1936219727085}\n"
     ]
    }
   ],
   "source": [
    "best_trial = sorted(experiment.export_data(), key=lambda x: x.value, reverse=True)[0]\n",
    "print(best_trial.parameter)"
   ]
  },
  {
   "cell_type": "code",
   "execution_count": null,
   "metadata": {},
   "outputs": [],
   "source": []
  }
 ],
 "metadata": {
  "kernelspec": {
   "display_name": "base",
   "language": "python",
   "name": "python3"
  },
  "language_info": {
   "codemirror_mode": {
    "name": "ipython",
    "version": 3
   },
   "file_extension": ".py",
   "mimetype": "text/x-python",
   "name": "python",
   "nbconvert_exporter": "python",
   "pygments_lexer": "ipython3",
   "version": "3.9.13"
  }
 },
 "nbformat": 4,
 "nbformat_minor": 2
}
