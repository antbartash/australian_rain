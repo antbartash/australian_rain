{
 "cells": [
  {
   "cell_type": "code",
   "execution_count": null,
   "metadata": {},
   "outputs": [],
   "source": [
    "from nni.experiment import Experiment"
   ]
  },
  {
   "cell_type": "code",
   "execution_count": null,
   "metadata": {},
   "outputs": [],
   "source": [
    "hyperparameter_space = {\n",
    "    'batch_size_power': {'_type': 'randint', '_value': [5, 12]},\n",
    "    'lr': {'_type': 'uniform', '_value': [1e-8, 1e-1]},\n",
    "    # 'beta1': {'_type': 'uniform', '_value': [0.0, 1.0]},\n",
    "    # 'beta2': {'_type': 'uniform', '_value': [0.0, 1.0]}\n",
    "}"
   ]
  },
  {
   "cell_type": "code",
   "execution_count": null,
   "metadata": {},
   "outputs": [],
   "source": [
    "experiment = Experiment('local')\n",
    "experiment.config.experiment_name = 'PBT_TensorFlow'\n",
    "experiment.config.tuner.name = 'PBTTuner'\n",
    "experiment.config.tuner.class_args = {\n",
    "    'optimize_mode': 'maximize',\n",
    "    'population_size': 25,\n",
    "}\n",
    "experiment.config.experiment_working_directory = ''\n",
    "experiment.config.trial_command = 'python model.py'\n",
    "experiment.config.trial_code_directory = '.'\n",
    "experiment.config.search_space = hyperparameter_space\n",
    "experiment.config.max_trial_number = 925\n",
    "experiment.config.trial_concurrency = 5\n",
    "experiment.config.max_experiment_duration = '10h'"
   ]
  },
  {
   "cell_type": "code",
   "execution_count": null,
   "metadata": {},
   "outputs": [],
   "source": [
    "experiment.run(8080, wait_completion=True, debug=False)"
   ]
  },
  {
   "cell_type": "code",
   "execution_count": null,
   "metadata": {},
   "outputs": [],
   "source": [
    "best_trial = sorted(experiment.export_data(), key=lambda x: x.value, reverse=True)[0]\n",
    "best_trial"
   ]
  },
  {
   "cell_type": "code",
   "execution_count": null,
   "metadata": {},
   "outputs": [],
   "source": [
    "experiment.stop()"
   ]
  },
  {
   "cell_type": "code",
   "execution_count": null,
   "metadata": {},
   "outputs": [],
   "source": [
    "### STOP THE EXPERIMENT AFTER RUNNING nnictl view !!!\n",
    "! nnictl view "
   ]
  },
  {
   "cell_type": "code",
   "execution_count": null,
   "metadata": {},
   "outputs": [],
   "source": [
    "! nnictl stop "
   ]
  }
 ],
 "metadata": {
  "kernelspec": {
   "display_name": "Python 3",
   "language": "python",
   "name": "python3"
  },
  "language_info": {
   "codemirror_mode": {
    "name": "ipython",
    "version": 3
   },
   "file_extension": ".py",
   "mimetype": "text/x-python",
   "name": "python",
   "nbconvert_exporter": "python",
   "pygments_lexer": "ipython3",
   "version": "3.10.8"
  }
 },
 "nbformat": 4,
 "nbformat_minor": 2
}
